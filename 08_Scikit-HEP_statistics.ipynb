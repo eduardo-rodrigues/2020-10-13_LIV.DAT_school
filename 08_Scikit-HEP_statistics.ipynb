{
 "cells": [
  {
   "cell_type": "markdown",
   "metadata": {},
   "source": [
    "<center><h1><b><span style=\"color:blue\">Statistics</span></b></h1></center>\n",
    "\n",
    "\n",
    "#### **Quick intro to the following packages**\n",
    "- `hepstats`.\n",
    "\n",
    "I will not discuss here the `pyhf` package, which is very nic(h)e - for multi-bin histogram-based analysis and likelihood-based tests of new physics, for example.\n",
    "Please refer to the [GitHub repository](https://github.com/scikit-hep/pyhf)."
   ]
  },
  {
   "cell_type": "markdown",
   "metadata": {},
   "source": [
    "## **`hepstats` - statistics tools and utilities**\n",
    "\n",
    "The package contains 2 submodules:\n",
    "- `hypotests`: provides tools to do hypothesis tests such as discovery test and computations of upper limits or confidence intervals.\n",
    "- `modeling`: includes the Bayesian Block algorithm that can be used to improve the binning of histograms.\n",
    "- `splot`: implements the sPlot algorithm for sophisticated background rejection.\n",
    "\n",
    "\n",
    "Note: feel free to complement the introduction below with the several tutorials available from the [GitHub repository](https://github.com/scikit-hep/hepstats)."
   ]
  },
  {
   "cell_type": "markdown",
   "metadata": {},
   "source": [
    "### **1. Adaptive binning determination**\n",
    "\n",
    "The Bayesian Block algorithm produces histograms that accurately represent the underlying distribution while being robust to statistical fluctuations."
   ]
  },
  {
   "cell_type": "code",
   "execution_count": null,
   "metadata": {},
   "outputs": [],
   "source": [
    "import numpy as np\n",
    "import matplotlib.pyplot as plt\n",
    "\n",
    "from hepstats.modeling import bayesian_blocks\n",
    "\n",
    "data = np.append(np.random.laplace(size=10000), np.random.normal(5., 1., size=15000))\n",
    "\n",
    "bblocks = bayesian_blocks(data)\n",
    "\n",
    "plt.hist(data, bins=1000, label='Fine Binning', density=True)\n",
    "plt.hist(data, bins=bblocks, label='Bayesian Blocks', histtype='step', linewidth=2, density=True)\n",
    "plt.legend(loc=2);"
   ]
  },
  {
   "cell_type": "markdown",
   "metadata": {},
   "source": [
    "### **2. Modelling and sPlot**\n",
    "\n",
    "So far the modelling and sPlot functionality in the package makes use of the `zfit` package, see for example the `README` file and the `notebooks` directory in the [GitHub repository](https://github.com/scikit-hep/hepstats). Usage of `zfit` will be the topic of the last notebook in this tutorial, hence no further examples on `hepstats` are provided at this stage."
   ]
  },
  {
   "cell_type": "code",
   "execution_count": null,
   "metadata": {},
   "outputs": [],
   "source": []
  }
 ],
 "metadata": {
  "kernelspec": {
   "display_name": "Python 3",
   "language": "python",
   "name": "python3"
  },
  "language_info": {
   "codemirror_mode": {
    "name": "ipython",
    "version": 3
   },
   "file_extension": ".py",
   "mimetype": "text/x-python",
   "name": "python",
   "nbconvert_exporter": "python",
   "pygments_lexer": "ipython3",
   "version": "3.7.7"
  }
 },
 "nbformat": 4,
 "nbformat_minor": 4
}
