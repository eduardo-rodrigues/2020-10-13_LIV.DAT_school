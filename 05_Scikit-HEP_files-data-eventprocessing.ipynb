{
 "cells": [
  {
   "cell_type": "markdown",
   "metadata": {},
   "source": [
    "<center><h1><b><span style=\"color:blue\">Files, data, event processing</span></b></h1></center>\n",
    "\n",
    "#### **Quick intro to the following packages**\n",
    "- `uproot` - ROOT I/O in pure Python and NumPy.\n",
    "- `awkward-array` - manipulate arrays of complex data structures as easily as NumPy."
   ]
  },
  {
   "cell_type": "markdown",
   "metadata": {},
   "source": [
    "&nbsp;\n",
    "<center>\n",
    "    <img src=\"images/logo_uproot.png\" style=\"width:150px;\"/>\n",
    "    <h2><b><span style=\"color:green\">ROOT I/O in pure Python and NumPy</span></b></h2>\n",
    "</center>"
   ]
  },
  {
   "cell_type": "markdown",
   "metadata": {},
   "source": [
    "### **What is ``uproot``?**\n",
    "\n",
    "<span style=\"color:green\">**Effectively what connects HEP data (ROOT format) with the Python scientific ecosystem around NumPy!**</span>\n",
    "\n",
    "`uproot` provides very fast, efficient, and convenient access to ROOT trees.\n",
    "\n",
    "- Pure Python + NumPy implementation of ROOT I/O.\n",
    "- An array-centric view of ROOT TTree data:\n",
    "  - Branches of simple types are simple arrays.\n",
    "  - Branches of complex types are “jagged arrays”.\n",
    "-  High performance for large baskets, despite Python’s slowness (because all per-entry operations are performed in NumPy).\n",
    "- Greatest benefits: simplicity, minimal installation, set-up, and affinity with machine learning interfaces."
   ]
  },
  {
   "cell_type": "markdown",
   "metadata": {},
   "source": [
    "### **Why does it exist?**\n",
    "1. To extract columnar data (branches) from a ROOT file without invoking the\n",
    "event-handling infrastructure of the ROOT framework.\n",
    "3. To express the semantics and conventions of the ROOT file format independently\n",
    "of ROOT, in lieu of a formal specification."
   ]
  },
  {
   "cell_type": "markdown",
   "metadata": {},
   "source": [
    "### **Why Python + NumPy?**\n",
    "- As stressed several times, the scientific Python ecosystem, including much of ML, is designed around a fundamental abstraction called the NumPy array.\n",
    "- Working with computer scientists is easier when you can say, \"*pip install uproot*\".\n",
    "- Implemented correctly, Python + NumPy doesn't have to be slow.\n",
    "  - Finding the columnar data in a ROOT file may be done in slow Python, as long as\n",
    "decompression and array manipulations are done by compiled code, see the now-old-ish performance study below."
   ]
  },
  {
   "cell_type": "markdown",
   "metadata": {},
   "source": [
    "<center><img src=\"images/Scikit-HEP_uproot_performance.png\" width = \"60%\"/></center>"
   ]
  },
  {
   "cell_type": "markdown",
   "metadata": {},
   "source": [
    "### **1. Getting data from a simple ROOT TTree**\n",
    "\n",
    "By \"simple\" we mean a file without *jagged structures*, or nested structures with branch sizes depending on an event-by-event basis."
   ]
  },
  {
   "cell_type": "code",
   "execution_count": null,
   "metadata": {},
   "outputs": [],
   "source": [
    "import uproot"
   ]
  },
  {
   "cell_type": "code",
   "execution_count": null,
   "metadata": {},
   "outputs": [],
   "source": [
    "f = uproot.open('data/Zmumu.root')\n",
    "\n",
    "f"
   ]
  },
  {
   "cell_type": "markdown",
   "metadata": {},
   "source": [
    "ROOT files, directories, and trees are like Python dicts with keys() and values()."
   ]
  },
  {
   "cell_type": "code",
   "execution_count": null,
   "metadata": {},
   "outputs": [],
   "source": [
    "f.keys()"
   ]
  },
  {
   "cell_type": "code",
   "execution_count": null,
   "metadata": {},
   "outputs": [],
   "source": [
    "t = f[b'events']\n",
    "t.keys()"
   ]
  },
  {
   "cell_type": "code",
   "execution_count": null,
   "metadata": {},
   "outputs": [],
   "source": [
    "t['M']"
   ]
  },
  {
   "cell_type": "markdown",
   "metadata": {},
   "source": [
    "Uproot's main purpose is to read branches from ROOT files as NumPy arrays:"
   ]
  },
  {
   "cell_type": "code",
   "execution_count": null,
   "metadata": {},
   "outputs": [],
   "source": [
    "t['M'].array()"
   ]
  },
  {
   "cell_type": "markdown",
   "metadata": {},
   "source": [
    "All branches can be looked at with `t.arrays()`. A subset is specified e.g. as `t.arrays(['Run', 'Event'])`:"
   ]
  },
  {
   "cell_type": "code",
   "execution_count": null,
   "metadata": {},
   "outputs": [],
   "source": [
    "t.arrays()"
   ]
  },
  {
   "cell_type": "markdown",
   "metadata": {},
   "source": [
    "One can now start performing calculations such as the below. But this is not necessary the best way, think NumPy type of operations ;-)."
   ]
  },
  {
   "cell_type": "code",
   "execution_count": null,
   "metadata": {},
   "outputs": [],
   "source": [
    "import numpy\n",
    "\n",
    "for px,py,pz in t.iterate([\"px1\",\"py1\",\"pz1\"], outputtype=tuple):\n",
    "    pt = numpy.sqrt(px**2 + py**2)\n",
    "    eta = numpy.arctanh(pz / numpy.sqrt(px**2 + py**2 + pz**2))\n",
    "    phi = numpy.arctan2(py, px)\n",
    "    print(pt)\n",
    "    print(eta)\n",
    "    print(phi)"
   ]
  },
  {
   "cell_type": "markdown",
   "metadata": {},
   "source": [
    "**Create a Pandas DataFrame**"
   ]
  },
  {
   "cell_type": "code",
   "execution_count": null,
   "metadata": {},
   "outputs": [],
   "source": [
    "import pandas\n",
    "\n",
    "df = t.pandas.df()\n",
    "df"
   ]
  },
  {
   "cell_type": "code",
   "execution_count": null,
   "metadata": {},
   "outputs": [],
   "source": [
    "t.pandas.df(['Run', 'Event', 'pt1', 'pt2']).head()"
   ]
  },
  {
   "cell_type": "markdown",
   "metadata": {},
   "source": [
    "### **2. Data with jagged structure**"
   ]
  },
  {
   "cell_type": "code",
   "execution_count": null,
   "metadata": {},
   "outputs": [],
   "source": [
    "f = uproot.open('data/uproot-tutorial-file.root')\n",
    "\n",
    "f.keys()"
   ]
  },
  {
   "cell_type": "code",
   "execution_count": null,
   "metadata": {},
   "outputs": [],
   "source": [
    "branches = f[b'Events'].arrays(namedecode='utf-8')\n",
    "                               \n",
    "branches"
   ]
  },
  {
   "cell_type": "markdown",
   "metadata": {},
   "source": [
    "The jagged structure here comes from the number of muons per event, which is variable:"
   ]
  },
  {
   "cell_type": "code",
   "execution_count": null,
   "metadata": {},
   "outputs": [],
   "source": [
    "branches['nMuon']"
   ]
  },
  {
   "cell_type": "markdown",
   "metadata": {},
   "source": [
    "This becomes evident when checking for example the $p_T$ of all muons:"
   ]
  },
  {
   "cell_type": "code",
   "execution_count": null,
   "metadata": {},
   "outputs": [],
   "source": [
    "branches['Muon_pt']"
   ]
  },
  {
   "cell_type": "markdown",
   "metadata": {},
   "source": [
    "Print the $p_T$ for the muons in the first 10 events to trivially see the jagged structure:"
   ]
  },
  {
   "cell_type": "code",
   "execution_count": null,
   "metadata": {},
   "outputs": [],
   "source": [
    "print(' \\n'.join([str(elm) for elm in branches['Muon_pt'][:10]]))"
   ]
  },
  {
   "cell_type": "markdown",
   "metadata": {},
   "source": [
    "We will get back to jagged arrays in a sec. Let's first show that `uproot` also has (limited) writing functionality."
   ]
  },
  {
   "cell_type": "markdown",
   "metadata": {},
   "source": [
    "### **3. Interoperability - writing files with uproot**"
   ]
  },
  {
   "cell_type": "markdown",
   "metadata": {},
   "source": [
    "`uproot` version 3 started support for writing files!"
   ]
  },
  {
   "cell_type": "code",
   "execution_count": null,
   "metadata": {},
   "outputs": [],
   "source": [
    "f = uproot.recreate(\"tmp.root\")"
   ]
  },
  {
   "cell_type": "code",
   "execution_count": null,
   "metadata": {},
   "outputs": [],
   "source": [
    "f[\"name\"] = numpy.histogram(numpy.random.normal(0, 1, 100000), bins=20)"
   ]
  },
  {
   "cell_type": "code",
   "execution_count": null,
   "metadata": {},
   "outputs": [],
   "source": [
    "f.closed"
   ]
  },
  {
   "cell_type": "code",
   "execution_count": null,
   "metadata": {},
   "outputs": [],
   "source": [
    "f.keys()"
   ]
  },
  {
   "cell_type": "code",
   "execution_count": null,
   "metadata": {},
   "outputs": [],
   "source": [
    "ar = f[\"name\"]\n",
    "\n",
    "ar.show()"
   ]
  },
  {
   "cell_type": "markdown",
   "metadata": {},
   "source": [
    "But ... can the file actually be read back in ROOT ...? (Yes it can!)\n",
    "\n",
    "If you have ROOT installed, try\n",
    "```python\n",
    "import ROOT\n",
    "\n",
    "f = ROOT.TFile(\"tmp.root\")\n",
    "h = f.Get(\"name\")\n",
    "\n",
    "c = ROOT.TCanvas(\"myCanvasName\",\"The Canvas Title\",800,600)\n",
    "h.Draw('hist')\n",
    "c.Draw()\n",
    "```\n",
    "\n",
    "If not, and you aren't working in Windows, try to install ROOT via Conda,\n",
    "```python\n",
    "!conda install root -c conda-forge\n",
    "```\n",
    "and then try the above."
   ]
  },
  {
   "cell_type": "markdown",
   "metadata": {},
   "source": [
    "&nbsp;<br><center><img src=\"images/logo_awkward-array.png\" style=\"width: 150px;\"/></center>\n",
    "\n",
    "<center><h2><b><span style=\"color:green\">Manipulate arrays of complex data structures as easily as NumPy</span></b></h2></center>"
   ]
  },
  {
   "cell_type": "code",
   "execution_count": null,
   "metadata": {},
   "outputs": [],
   "source": [
    "import awkward"
   ]
  },
  {
   "cell_type": "code",
   "execution_count": null,
   "metadata": {},
   "outputs": [],
   "source": [
    "branches"
   ]
  },
  {
   "cell_type": "code",
   "execution_count": null,
   "metadata": {},
   "outputs": [],
   "source": [
    "table = awkward.Table(branches)\n",
    "\n",
    "table"
   ]
  },
  {
   "cell_type": "code",
   "execution_count": null,
   "metadata": {},
   "outputs": [],
   "source": [
    "table.nMuon[0]"
   ]
  },
  {
   "cell_type": "code",
   "execution_count": null,
   "metadata": {},
   "outputs": [],
   "source": [
    "branches['nMuon'][0]"
   ]
  },
  {
   "cell_type": "code",
   "execution_count": null,
   "metadata": {},
   "outputs": [],
   "source": [
    "import matplotlib.pyplot as plt\n",
    "\n",
    "plt.hist(table.nMuon, bins=10, range=(0, 10))\n",
    "plt.xlabel('Number of muons in event')\n",
    "plt.ylabel('Number of events');"
   ]
  },
  {
   "cell_type": "markdown",
   "metadata": {},
   "source": [
    "How many muon entries are there in total?"
   ]
  },
  {
   "cell_type": "code",
   "execution_count": null,
   "metadata": {},
   "outputs": [],
   "source": [
    "branches['nMuon'].sum()"
   ]
  },
  {
   "cell_type": "code",
   "execution_count": null,
   "metadata": {},
   "outputs": [],
   "source": [
    "len(branches['Muon_pt']), len(branches['Muon_pt'].flatten())  # 235286 muons in 1e5 events"
   ]
  },
  {
   "cell_type": "markdown",
   "metadata": {},
   "source": [
    "Plot the $p_T$ and $\\eta$ of all muons:"
   ]
  },
  {
   "cell_type": "code",
   "execution_count": null,
   "metadata": {},
   "outputs": [],
   "source": [
    "plt.hist(table.Muon_pt.flatten(), bins=100, range=(0, 100))\n",
    "plt.xlabel('Muon pT')\n",
    "plt.ylabel('Number of candidates')\n",
    "plt.yscale('log');"
   ]
  },
  {
   "cell_type": "code",
   "execution_count": null,
   "metadata": {},
   "outputs": [],
   "source": [
    "plt.hist(table.Muon_eta.flatten(), bins=100, range=(-2.5, 2.5))\n",
    "plt.xlabel('Muon $\\eta$')\n",
    "plt.ylabel('Number of candidates');"
   ]
  },
  {
   "cell_type": "code",
   "execution_count": null,
   "metadata": {},
   "outputs": [],
   "source": [
    "%%timeit\n",
    "len(branches['Muon_pt'].flatten())"
   ]
  },
  {
   "cell_type": "code",
   "execution_count": null,
   "metadata": {},
   "outputs": [],
   "source": [
    "%%timeit\n",
    "branches['nMuon'].sum()"
   ]
  },
  {
   "cell_type": "markdown",
   "metadata": {},
   "source": [
    "Selections are done via masks. Let's create one that singles out events with a single muon:"
   ]
  },
  {
   "cell_type": "code",
   "execution_count": null,
   "metadata": {},
   "outputs": [],
   "source": [
    "branches['nMuon'] == 1"
   ]
  },
  {
   "cell_type": "code",
   "execution_count": null,
   "metadata": {},
   "outputs": [],
   "source": [
    "single_muon_mask = branches['nMuon'] == 1\n",
    "single_muon_mask.sum()"
   ]
  },
  {
   "cell_type": "markdown",
   "metadata": {},
   "source": [
    "Just checking:"
   ]
  },
  {
   "cell_type": "code",
   "execution_count": null,
   "metadata": {},
   "outputs": [],
   "source": [
    "len(branches['Muon_pt'][single_muon_mask]), branches['Muon_pt'][single_muon_mask]"
   ]
  },
  {
   "cell_type": "code",
   "execution_count": null,
   "metadata": {},
   "outputs": [],
   "source": [
    "plt.hist(branches['Muon_pt'][single_muon_mask].flatten(), bins=100, range=(0, 100))\n",
    "plt.xlabel('Muon $p_{\\mathrm{T}}$ [MeV]')\n",
    "plt.ylabel('Number of single muons / 1 MeV')\n",
    "plt.yscale('log')\n",
    "plt.show()"
   ]
  },
  {
   "cell_type": "markdown",
   "metadata": {},
   "source": [
    "Mask to selection muons within $|\\eta| <2$:"
   ]
  },
  {
   "cell_type": "code",
   "execution_count": null,
   "metadata": {},
   "outputs": [],
   "source": [
    "eta_mask = abs(branches['Muon_eta']) < 2\n",
    "eta_mask"
   ]
  },
  {
   "cell_type": "code",
   "execution_count": null,
   "metadata": {},
   "outputs": [],
   "source": [
    "eta_mask.flatten().sum()"
   ]
  },
  {
   "cell_type": "code",
   "execution_count": null,
   "metadata": {},
   "outputs": [],
   "source": [
    "eta_mask.sum()"
   ]
  },
  {
   "cell_type": "code",
   "execution_count": null,
   "metadata": {},
   "outputs": [],
   "source": [
    "eta_mask.sum().sum()"
   ]
  },
  {
   "cell_type": "code",
   "execution_count": null,
   "metadata": {},
   "outputs": [],
   "source": [
    "plt.hist(branches['Muon_eta'].flatten(), bins=50, range=(-2.5, 2.5))\n",
    "plt.title('No selection')\n",
    "plt.xlabel('Muon $\\eta$')\n",
    "plt.ylabel('Number of muons')\n",
    "plt.show()\n",
    "\n",
    "plt.hist(branches['Muon_eta'][eta_mask].flatten(), bins=50, range=(-2.5, 2.5))\n",
    "plt.title('With $|\\eta| < 2$ selection')\n",
    "plt.xlabel('Muon $\\eta$')\n",
    "plt.ylabel('Number of muons')\n",
    "plt.show()"
   ]
  },
  {
   "cell_type": "code",
   "execution_count": null,
   "metadata": {},
   "outputs": [],
   "source": [
    "len(single_muon_mask & eta_mask)"
   ]
  },
  {
   "cell_type": "code",
   "execution_count": null,
   "metadata": {},
   "outputs": [],
   "source": [
    "plt.hist([branches['Muon_pt'][single_muon_mask & eta_mask].flatten(),\n",
    "          branches['Muon_pt'][single_muon_mask & ~eta_mask].flatten()],\n",
    "         label=['$|\\eta| < 2$', '$|\\eta| \\geq 2$'],\n",
    "         density=True,\n",
    "         bins=25, range=(0, 50))\n",
    "plt.xlabel('Muon $p_{\\mathrm{T}}$ [GeV]')\n",
    "plt.ylabel('Number of single muons / 2 GeV')\n",
    "plt.legend()\n",
    "plt.show()"
   ]
  },
  {
   "cell_type": "markdown",
   "metadata": {},
   "source": [
    "Concentrate on 2-muon events:"
   ]
  },
  {
   "cell_type": "code",
   "execution_count": null,
   "metadata": {},
   "outputs": [],
   "source": [
    "two_muons_mask = branches['nMuon'] == 2\n",
    "two_muons_table = table[two_muons_mask]"
   ]
  },
  {
   "cell_type": "code",
   "execution_count": null,
   "metadata": {},
   "outputs": [],
   "source": [
    "# Better methods to deal with Lorentz vectors are soon to be available\n",
    "\n",
    "import uproot_methods\n",
    "\n",
    "two_muons_p4 = uproot_methods.TLorentzVectorArray.from_ptetaphim(two_muons_table['Muon_pt'],\n",
    "                                                                 two_muons_table['Muon_eta'],\n",
    "                                                                 two_muons_table['Muon_phi'],\n",
    "                                                                 two_muons_table['Muon_mass'])\n",
    "two_muons_p4"
   ]
  },
  {
   "cell_type": "code",
   "execution_count": null,
   "metadata": {},
   "outputs": [],
   "source": [
    "len(two_muons_p4)"
   ]
  },
  {
   "cell_type": "code",
   "execution_count": null,
   "metadata": {},
   "outputs": [],
   "source": [
    "first_muon_p4 = two_muons_p4[:, 0]\n",
    "second_muon_p4 = two_muons_p4[:, 1]"
   ]
  },
  {
   "cell_type": "code",
   "execution_count": null,
   "metadata": {},
   "outputs": [],
   "source": [
    "first_muon_p4.delta_r(second_muon_p4)"
   ]
  },
  {
   "cell_type": "code",
   "execution_count": null,
   "metadata": {},
   "outputs": [],
   "source": [
    "plt.hist(first_muon_p4.delta_r(second_muon_p4), bins=100)\n",
    "plt.xlabel('$\\Delta R$ between muons')\n",
    "plt.ylabel('Number of two-muon events')\n",
    "plt.show()"
   ]
  },
  {
   "cell_type": "markdown",
   "metadata": {},
   "source": [
    "Further refine to $\\mu^+\\mu^-$ pairs - you see where're getting ;-):"
   ]
  },
  {
   "cell_type": "code",
   "execution_count": null,
   "metadata": {},
   "outputs": [],
   "source": [
    "sum_p4 = first_muon_p4 + second_muon_p4\n",
    "opposite_sign_muons_mask = two_muons_table['Muon_charge'][:, 0] != two_muons_table['Muon_charge'][:, 1]\n",
    "dimuon_p4 = sum_p4[opposite_sign_muons_mask]\n",
    "dimuon_p4"
   ]
  },
  {
   "cell_type": "code",
   "execution_count": null,
   "metadata": {},
   "outputs": [],
   "source": [
    "import numpy as np\n",
    "\n",
    "figsize_l, figsize_h = plt.rcParams[\"figure.figsize\"]\n",
    "plt.figure(figsize=(figsize_l*2.5, figsize_h*3.))\n",
    "\n",
    "(yvals, binedges, patches) = plt.hist(dimuon_p4.mass, bins=np.logspace(np.log10(0.1), np.log10(1000), 200))\n",
    "\n",
    "plt.xlabel('Dimuon invariant mass [GeV]')\n",
    "plt.ylabel('Number of dimuon events')\n",
    "plt.xscale('log')\n",
    "plt.yscale('log')\n",
    "\n",
    "import particle.particle.literals as lpart\n",
    "from hepunits import GeV\n",
    "    \n",
    "list_particles = [getattr(lpart,name) for name in ('eta', 'rho_770_0', 'omega_782','phi_1020','Jpsi_1S', 'Z_0')]\n",
    "\n",
    "for p in list_particles:\n",
    "    binnumber = np.searchsorted(binedges, p.mass/GeV)\n",
    "    plt.text(p.mass/GeV, yvals[binnumber-1]*1.02, '${}$'.format(p.latex_name), horizontalalignment='center', fontsize=16)\n",
    "\n",
    "plt.show()"
   ]
  },
  {
   "cell_type": "markdown",
   "metadata": {},
   "source": [
    "&nbsp;\n",
    "<div class=\"alert alert-warning\">\n",
    "\n",
    "<b>Important note:</b>\n",
    "\n",
    "These 2 packages are currently under a major overhaul!\n",
    "</div>\n",
    "\n",
    "- `awkward-array` is being replaced by an improved package nicknamed `awkward-1.0` for now. Developments are happening at [this GitHub repository](https://github.com/scikit-hep/awkward-1.0).\n",
    "- `uproot` version 4 will be the upgrade version of `uproot` version 3 built atop `awkward-1.0`, see https://github.com/scikit-hep/uproot4."
   ]
  }
 ],
 "metadata": {
  "kernelspec": {
   "display_name": "Python 3",
   "language": "python",
   "name": "python3"
  },
  "language_info": {
   "codemirror_mode": {
    "name": "ipython",
    "version": 3
   },
   "file_extension": ".py",
   "mimetype": "text/x-python",
   "name": "python",
   "nbconvert_exporter": "python",
   "pygments_lexer": "ipython3",
   "version": "3.7.7"
  }
 },
 "nbformat": 4,
 "nbformat_minor": 4
}
