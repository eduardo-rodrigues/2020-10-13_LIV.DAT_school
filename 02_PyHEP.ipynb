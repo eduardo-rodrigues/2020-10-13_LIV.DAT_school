{
 "cells": [
  {
   "cell_type": "markdown",
   "metadata": {},
   "source": [
    "<center><h1><b><span style=\"color:blue\">The \"Python in HEP\" Big Data ecosystem</span></b></h1></center>"
   ]
  },
  {
   "cell_type": "markdown",
   "metadata": {},
   "source": [
    "So, we concluded that:\n",
    "- The Data Science world relies on an extensive, powerful, well maintained and documented software ecosystem in Python.\n",
    "- Particle Physics has much to gain if engaging and contributing.\n",
    "\n",
    "It's a lot about making it possible, natural and efficient to perform HEP analysis in the NumPy ecosystem ...!"
   ]
  },
  {
   "cell_type": "markdown",
   "metadata": {},
   "source": [
    "### **The central role of NumPy**\n",
    "\n",
    "The (vast) scientific Python ecosystem can be organised, schematically, as a layered set of libraries and packages ever more specialised, atop a series of building blocks. The [NumPy library](https://numpy.org/) is a central pillar."
   ]
  },
  {
   "cell_type": "markdown",
   "metadata": {},
   "source": [
    "<center><img src=\"images/PyHEP_scientific_python_ecosystem.png\" alt=\"Scikit-HEP project motivation\" width=\"65%\"/></center>"
   ]
  },
  {
   "cell_type": "markdown",
   "metadata": {},
   "source": [
    "This fact has been very recently acknowledged by Nature. Quoting [ZDNet (25/09/2020)](https://www.zdnet.com/article/numpys-contribution-to-python-is-remarkable-but-where-it-goes-next-could-be-even-more-so/),\n",
    "> \"Something fascinating happened in the world of scientific publishing last week: The prestigious journal Nature featured an overview of a 15-year-old programming library for the language Python. The widely popular library, called NumPy, gives Python the ability to perform scientific computing functions. \""
   ]
  },
  {
   "cell_type": "markdown",
   "metadata": {},
   "source": [
    "The Nature article, [Harris, C.R., Millman, K.J., van der Walt, S.J. *et al.*, Array programming with NumPy, Nature 585, 357–362 (2020)](https://www.nature.com/articles/s41586-020-2649-2), features in particular the following diagram,\n",
    "<center><img src=\"images/PyHEP_NumPy_ecosystem.png\" width=\"650px\"/></center>"
   ]
  },
  {
   "cell_type": "markdown",
   "metadata": {},
   "source": [
    ", which provides a view of the contemporary Python scientific ecosystem, from foundational libraries to domain-specific and application-specific libraries. \n",
    "\n",
    "BTW, if you look carefully, you will see above a single HEP \"library\", namely Scikit-HEP!\n",
    "Aside the fact that the authors misinterpreted the scope of the [Scikit-HEP project](https://scikit-hep.org/), which rather is a *domain-specific project*, this is excellent news for us (HEP), to show up in such a publication, since the appearance acknowledges our position out there! Scikit-HEP will be the focus of the next notebooks ..."
   ]
  },
  {
   "cell_type": "markdown",
   "metadata": {},
   "source": [
    "### **Intermezzo - The HEP Software Foundation**\n",
    "\n",
    "The goal of the [HEP Software Foundation (HSF)](https://hepsoftwarefoundation.org/) is to *facilitate coordination and common efforts in software and computing across HEP in general*.\n",
    "It was founded in 2014, explicitly to address current and future computing & software challenges in common."
   ]
  },
  {
   "cell_type": "markdown",
   "metadata": {},
   "source": [
    "<center><img src=\"images/PyHEP_HSF_raison-d-etre.png\" width=\"60%\"/></center>"
   ]
  },
  {
   "cell_type": "markdown",
   "metadata": {},
   "source": [
    "### **PyHEP - \"Python in HEP\"**\n",
    "\n",
    "The HSF comprises a series of Working Groups and (less formal) Activity Areas ... among which the [**“Python in HEP” WG**](https://hepsoftwarefoundation.org/workinggroups/pyhep.html).\n",
    "\n",
    "<center><img src=\"images/PyHEP_within_the_HSF.png\" width=\"400px\"/></center>"
   ]
  },
  {
   "cell_type": "markdown",
   "metadata": {},
   "source": [
    "As the WG homepage says,\n",
    "\n",
    "> *The PyHEP working group brings together a community of developers and users of Python in Particle Physics, with the aim of improving the sharing of knowledge and expertise. It embraces the broad community, from HEP to the Astroparticle and Intensity Frontier communities.*\n",
    "\n",
    "Several of the [HSF Gitter channels](https://gitter.im/HSF/) relate to PyHEP topics, and are the means by which everyone communicates and exchanges informations, experiences, and asks questions ...\n",
    "\n",
    "Feel free to join. It's trivial!"
   ]
  },
  {
   "cell_type": "markdown",
   "metadata": {},
   "source": [
    "#### **The PyHEP workshops**\n",
    "\n",
    "These are major events for the WG. Check out the [PyHEP 2020 workshop agenda](https://indico.cern.ch/e/PyHEP2020) ...\n",
    "\n",
    "<table align=\"left\" border=\"0\">\n",
    "    <tr>\n",
    "        <td style=\"width:100px\">&nbsp;</td>\n",
    "        <td align=\"center\"><img src=\"images/logo_PyHEP.png\" width=\"100px\"/></td>\n",
    "        <td style=\"width:40px\">&nbsp;</td>\n",
    "        <td align=\"center\"><img src=\"images/PyHEP_workshops.png\" width=\"500px\"/></td>\n",
    "    </tr>\n",
    "</table>"
   ]
  },
  {
   "cell_type": "markdown",
   "metadata": {},
   "source": [
    "### **\"PyHEP community projects\"**\n",
    "\n",
    "A series of Python projects have seen the light in recent years, where by *projects* I select endeavours that provide one or more Python libraries *with a community around it*. ROOT and SWAN (both are CERN projects) presently share the arena with a few community projects that build around the general Python scientific ecosystem instead of on ROOT:\n",
    "\n",
    "<table align=\"left\" border=\"0\">\n",
    "    <tr>\n",
    "        <td style=\"width:150px\">&nbsp;</td>\n",
    "        <td>\n",
    "            <h4><a href=\"https://github.com/CoffeaTeam\">Coffea</a></h4>\n",
    "            <h4><a href=\"https://github.com/FAST-HEP\">FAST-HEP</a></h4>\n",
    "            <h4><a href=\"https://root.cern\">ROOT</a></h4>\n",
    "            <h4><a href=\"https://scikit-hep.org\">Scikit-HEP</a></h4>\n",
    "            <h4><a href=\"https://cern.ch/swan\">SWAN</a></h4>\n",
    "            <h4><a href=\"https://github.com/zfit\">zfit</a></h4>\n",
    "        </td>\n",
    "        <td style=\"width:50px\">&nbsp;</td>\n",
    "        <td align=\"center\"><img src=\"images/PyHEP_projects.png\" width=\"250px\"/></td>\n",
    "    </tr>\n",
    "</table>"
   ]
  },
  {
   "cell_type": "markdown",
   "metadata": {},
   "source": [
    "**Scikit-HEP** is:\n",
    "- The oldest of such projects.\n",
    "- The one with more libraries provided.\n",
    "- The project on which all of the others (i.e. non-CERN) depend on (they depend on at least one of Scikit-HEP libraries).\n",
    "- The one I started with colleagues, hence intimately involved with.\n",
    "\n",
    "For these reasons the next few notebooks will focus on Scikit-HEP packages. The last notebook will work with the 2 main packages of the `zfit` project."
   ]
  },
  {
   "cell_type": "markdown",
   "metadata": {},
   "source": [
    "<div class=\"alert alert-info\">\n",
    "\n",
    "<b>On these PyHEP community projects and libraries:</b>\n",
    "\n",
    "The ecosystem that is going to be showcased in these tutorial notebooks is already advanced enough to perform analysis in it. All the packages are written and maintained by other physicists or scientists in general. As any other library, these packages are neither perfect (bug free) nor do they have all the features that you may want today. They are, however, built for simple contributions: if there are missing features or bugs, please report or directly contribute with code and become part of the ecosystem!\n",
    "</div>"
   ]
  },
  {
   "cell_type": "markdown",
   "metadata": {},
   "source": [
    "### **For reference - some useful links collected in one place:**\n",
    "\n",
    "#### HSF PyHEP Working Group\n",
    "Information on the [HEP Software Foundation](hepsoftwarefoundation.org/) PyHEP (\"Python in HEP\") Working Group.\n",
    "- Webpage: https://hepsoftwarefoundation.org/workinggroups/pyhep.html\n",
    "- Gitter channel: https://gitter.im/HSF/PyHEP\n",
    "\n",
    "#### Scikit-HEP project\n",
    "- Website: https://scikit-hep.org/\n",
    "- GitHub: https://github.com/scikit-hep/"
   ]
  }
 ],
 "metadata": {
  "kernelspec": {
   "display_name": "Python 3",
   "language": "python",
   "name": "python3"
  },
  "language_info": {
   "codemirror_mode": {
    "name": "ipython",
    "version": 3
   },
   "file_extension": ".py",
   "mimetype": "text/x-python",
   "name": "python",
   "nbconvert_exporter": "python",
   "pygments_lexer": "ipython3",
   "version": "3.7.7"
  }
 },
 "nbformat": 4,
 "nbformat_minor": 4
}
