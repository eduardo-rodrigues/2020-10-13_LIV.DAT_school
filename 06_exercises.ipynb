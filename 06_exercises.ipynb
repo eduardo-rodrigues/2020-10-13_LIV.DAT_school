{
 "cells": [
  {
   "cell_type": "markdown",
   "metadata": {},
   "source": [
    "<center><h1><b><span style=\"color:blue\">Exercises</span></b></h1></center>\n",
    "<center><h2><b>Particles, decays, HEP units</b></h2></center>"
   ]
  },
  {
   "cell_type": "markdown",
   "metadata": {},
   "source": [
    "&nbsp;<br>\n",
    "### Suggestions of exercises with the following packages\n",
    "- `hepunits` - the HEP system of units.\n",
    "- `Particle` - PDG particle data, MC identification codes, and more.\n",
    "- `DecayLanguage` - Decay files, universal description of decay chains."
   ]
  },
  {
   "cell_type": "markdown",
   "metadata": {},
   "source": [
    "&nbsp;<br>\n",
    "### Exercise 1 - `Particle`\n",
    "\n",
    "Try and produce the following tables of B-mesons displayed side-by-side in the notebook:\n",
    "\n",
    "<center><img src=\"images/exercise_06_table_b_mesons.png\" width=\"60%\"/></center>"
   ]
  },
  {
   "cell_type": "markdown",
   "metadata": {},
   "source": [
    "#### Hints:\n",
    "- These particles are all available in the `Particle` package,  which provides particle names in HTML.\n",
    "- The package `tabulate` provides powerful and pretty prints of tabular data.\n",
    "- HTML can trivially be displayed in notebooks with the function HTML available from `IPython.display import HTML`."
   ]
  },
  {
   "cell_type": "markdown",
   "metadata": {},
   "source": [
    "&nbsp;<br>\n",
    "### Exercise 2 - `Particle`\n",
    "\n",
    "Explore the command line searches the package provides ... OK, not the natural thing to do inside a notebook, but let's try it for the sake of showing what is available ;-)."
   ]
  },
  {
   "cell_type": "markdown",
   "metadata": {},
   "source": [
    "#### Hints:\n",
    "- You can run on the prompt with `!python`.\n",
    "- Hence try `!python -m particle --help` and explore what is available."
   ]
  },
  {
   "cell_type": "markdown",
   "metadata": {},
   "source": [
    "&nbsp;<br>\n",
    "### Exercise 3 - `DecayLanguage`\n",
    "\n",
    "**Feeling nostalgic of an $e^+ e^-$ example?** Try out the following:"
   ]
  },
  {
   "cell_type": "code",
   "execution_count": null,
   "metadata": {},
   "outputs": [],
   "source": [
    "from decaylanguage import DecFileParser, DecayChainViewer\n",
    "\n",
    "s = \"\"\"\n",
    "Alias B0sig       B0\n",
    "Alias anti-B0sig  anti-B0\n",
    "\n",
    "Define dm 0.507e12\n",
    "Define PKHplus  0.159\n",
    "Define PKHzero  0.775\n",
    "Define PKHminus 0.612\n",
    "Define PKphHplus  1.563\n",
    "Define PKphHzero  0.0\n",
    "Define PKphHminus 2.712\n",
    "\n",
    "Decay Upsilon(4S)\n",
    "0.483122645 B0sig    anti-B0sig   VSS_BMIX dm;\n",
    "Enddecay\n",
    "\n",
    "Decay B0sig\n",
    "0.001330000 J/psi   K*0       SVV_HELAMP PKHplus PKphHplus PKHzero PKphHzero PKHminus PKphHminus;\n",
    "Enddecay\n",
    "\n",
    "Decay anti-B0sig\n",
    "0.000024000 D_s-    pi+    PHSP;\n",
    "Enddecay\n",
    "\n",
    "Decay J/psi\n",
    "0.0593 mu+     mu-   PHOTOS   VLL;\n",
    "Enddecay\n",
    "\n",
    "Decay K*0\n",
    "0.6657      K+  pi-         VSS;\n",
    "0.3323      K0  pi0         VSS;\n",
    "0.0020      K0  gamma       VSP_PWAVE;\n",
    "Enddecay\n",
    "\n",
    "Decay D_s-\n",
    "0.001200000 K_S0    pi-   PHSP;\n",
    "Enddecay\n",
    "\n",
    "Decay K_S0\n",
    "0.69 pi+     pi-     PHSP;\n",
    "0.31 pi0     pi0     PHSP;\n",
    "Enddecay\n",
    "\"\"\"\n",
    "\n",
    "dfp = DecFileParser.from_string(s)\n",
    "dfp.parse()\n",
    "dfp"
   ]
  },
  {
   "cell_type": "markdown",
   "metadata": {},
   "source": [
    "You could use YAML to look at the decay chain if you find `dict`s too difficult to read with the eye:"
   ]
  },
  {
   "cell_type": "code",
   "execution_count": null,
   "metadata": {},
   "outputs": [],
   "source": [
    "dc = dfp.build_decay_chains('Upsilon(4S)')\n",
    "\n",
    "import yaml\n",
    "print(yaml.dump(dc))"
   ]
  },
  {
   "cell_type": "markdown",
   "metadata": {},
   "source": [
    "And now view the decay with `DecayChainViewer` ..."
   ]
  },
  {
   "cell_type": "markdown",
   "metadata": {},
   "source": [
    "&nbsp;<br>\n",
    "### Exercise 4 - `hepunits`\n",
    "\n",
    "Did you enjoy the little study on the time-of-flight of pions, kaons and protons? Then investigate an example more relevant to LHCb - detector timing resolution requirement is getting tough!"
   ]
  },
  {
   "cell_type": "code",
   "execution_count": null,
   "metadata": {},
   "outputs": [],
   "source": [
    "%matplotlib inline\n",
    "import matplotlib.pyplot as plt\n",
    "\n",
    "import numpy as np\n",
    "\n",
    "from particle.particle.literals import proton, pi_plus, K_plus  # particle name literals\n",
    "from hepunits import c_light, GeV, meter, ps, ns\n",
    "\n",
    "def ToF(m, p, L):\n",
    "    \"\"\"Time-of-Flight = particle path length L / (c * beta)\"\"\"\n",
    "    # No c factors here because physicists give m and p without them, hence the c's cancel out, effectively ;-).\n",
    "    one_over_beta = np.sqrt(1 + m*m/(p*p))\n",
    "    return (L * one_over_beta /c_light)"
   ]
  },
  {
   "cell_type": "code",
   "execution_count": null,
   "metadata": {},
   "outputs": [],
   "source": [
    "p = np.arange(5., 10.1, 0.1) * GeV\n",
    "delta = ( ToF(K_plus.mass, p, 10*meter) - ToF(pi_plus.mass, p, 10*meter) ) / ps\n",
    "\n",
    "fig, ax = plt.subplots()\n",
    "ax.plot(p/GeV, delta)\n",
    "\n",
    "ax.set(xlabel='p [GeV]', ylabel='$\\Delta$ ToF [ps]',\n",
    "       title='Time-of-flight difference for a 10-meter path')\n",
    "ax.grid()\n",
    "\n",
    "plt.show()"
   ]
  },
  {
   "cell_type": "code",
   "execution_count": null,
   "metadata": {},
   "outputs": [],
   "source": [
    "p = np.arange(0.5, 5.1, 0.05) * GeV\n",
    "s1 = ( ToF(K_plus.mass, p, 1.38*meter) / ToF(pi_plus.mass, p, 1.38*meter) )\n",
    "s3 = ( ToF(proton.mass, p, 1.38*meter) / ToF(pi_plus.mass, p, 1.38*meter) )\n",
    "\n",
    "fig, ax = plt.subplots()\n",
    "ax.plot(p/GeV, s1, label='K-$\\pi$')\n",
    "ax.plot(p/GeV, s3, label='p-$\\pi$')\n",
    "\n",
    "ax.set(xlabel='p [GeV]', ylabel='ToF/ToF($\\pi$)',\n",
    "       title='Relative Time-of-flight for a 1-meter flight')\n",
    "ax.grid()\n",
    "\n",
    "plt.ylim(bottom=1, top=2.2)\n",
    "plt.legend()\n",
    "plt.show()"
   ]
  }
 ],
 "metadata": {
  "kernelspec": {
   "display_name": "Python 3",
   "language": "python",
   "name": "python3"
  },
  "language_info": {
   "codemirror_mode": {
    "name": "ipython",
    "version": 3
   },
   "file_extension": ".py",
   "mimetype": "text/x-python",
   "name": "python",
   "nbconvert_exporter": "python",
   "pygments_lexer": "ipython3",
   "version": "3.7.7"
  }
 },
 "nbformat": 4,
 "nbformat_minor": 4
}
