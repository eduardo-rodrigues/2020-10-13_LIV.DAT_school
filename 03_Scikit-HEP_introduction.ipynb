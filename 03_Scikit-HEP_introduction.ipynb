{
 "cells": [
  {
   "cell_type": "markdown",
   "metadata": {
    "slideshow": {
     "slide_type": "slide"
    }
   },
   "source": [
    "<center>\n",
    "<h1><b><span style=\"color:blue\">Introduction to the Scikit-HEP project</span></b></h1>\n",
    "</center>"
   ]
  },
  {
   "cell_type": "markdown",
   "metadata": {
    "slideshow": {
     "slide_type": "subslide"
    }
   },
   "source": [
    "### **Motivation, really quickly**\n",
    "\n",
    "As discussed earlier, the scientific Python ecosystem can be organised, schematically, as a layered set of libraries and packages ever more specialised, from key libraries such as NumPy, Pandas and matplotlib, to domain-specific projects:"
   ]
  },
  {
   "cell_type": "markdown",
   "metadata": {
    "slideshow": {
     "slide_type": "fragment"
    }
   },
   "source": [
    "<center><img src=\"images/PyHEP_scientific_python_ecosystem.png\" width=\"65%\"/></center>"
   ]
  },
  {
   "cell_type": "markdown",
   "metadata": {
    "slideshow": {
     "slide_type": "subslide"
    }
   },
   "source": [
    "At the time this popular slide was prepared and presented, one could ask itself where the HEP domain-specific projects were. Scikit-HEP came to \"fill the gap\" for Particle Physics. (Others did the same, later on, as seen in the previous notebook.)"
   ]
  },
  {
   "cell_type": "markdown",
   "metadata": {
    "slideshow": {
     "slide_type": "slide"
    }
   },
   "source": [
    "### **The grand picture**\n",
    "\n",
    "The [Scikit-HEP project](https://scikit-hep.org) has had from the onset clearly-defined goals, and it cherishes a few core values:"
   ]
  },
  {
   "cell_type": "markdown",
   "metadata": {
    "slideshow": {
     "slide_type": "fragment"
    }
   },
   "source": [
    "<center><img src=\"images/Scikit-HEP_grand_picture.png\" alt=\"Scikit-HEP project grand picture\" width=\"70%\"/></center>"
   ]
  },
  {
   "cell_type": "markdown",
   "metadata": {
    "slideshow": {
     "slide_type": "subslide"
    }
   },
   "source": [
    "As a result, the tools showcased here aim to make it easy to perform HEP analysis in the scientific Python ecosystem.\n",
    "\n",
    "Here is an overview of the Scikit-HEP packages that are most popular and/or most actively used and maintained:"
   ]
  },
  {
   "cell_type": "markdown",
   "metadata": {
    "slideshow": {
     "slide_type": "slide"
    }
   },
   "source": [
    "### **Project packages and their dependencies**\n",
    "\n",
    "Very many topics are addressed within the project!"
   ]
  },
  {
   "cell_type": "markdown",
   "metadata": {
    "slideshow": {
     "slide_type": "fragment"
    }
   },
   "source": [
    "<center><img src=\"images/Scikit-HEP_ecosystem.png\" width=\"50%\"></center>"
   ]
  },
  {
   "cell_type": "markdown",
   "metadata": {
    "slideshow": {
     "slide_type": "subslide"
    }
   },
   "source": [
    "Let's look at the packages inter-dependencies out of curiosity, and also because it nicely \"explains\" why the project is a *toolset* and not a toolkit:\n",
    "<center><img src=\"images/Scikit-HEP_pkg_dependencies.png\" alt=\"Scikit-HEP project package dependencies\"/></center>"
   ]
  },
  {
   "cell_type": "markdown",
   "metadata": {
    "slideshow": {
     "slide_type": "slide"
    }
   },
   "source": [
    "The project now has a special package, `scikit-hep`, which is a *metapackage*. Unlike all others, which target specific topics, this metapackage simply provides an easy way to have a compatible set of project packages installed via a simple `pip install scikit-hep` command (soon the metapackage will also be available via [Conda](https://docs.conda.io/)).\n",
    "\n",
    "The Scikit-HEP packages used in these notebooks are in fact installed via the metapackage. It is trivial to check the available versions:"
   ]
  },
  {
   "cell_type": "code",
   "execution_count": 1,
   "metadata": {
    "slideshow": {
     "slide_type": "subslide"
    }
   },
   "outputs": [
    {
     "name": "stdout",
     "output_type": "stream",
     "text": [
      "\n",
      "System:\n",
      "    python: 3.7.7 (default, May  6 2020, 11:45:54) [MSC v.1916 64 bit (AMD64)]\n",
      "executable: C:\\home\\sw\\Anaconda3\\python.exe\n",
      "   machine: Windows-10-10.0.19041-SP0\n",
      "\n",
      "Python dependencies:\n",
      "       pip: 20.2.2\n",
      "setuptools: 49.6.0.post20200814\n",
      "     numpy: 1.18.1\n",
      "     scipy: 1.4.1\n",
      "    pandas: 1.0.3\n",
      "matplotlib: 3.1.3\n",
      "\n",
      "Scikit-HEP package version and dependencies:\n",
      "        awkward: 0.13.0\n",
      "boost_histogram: 0.11.0\n",
      "  decaylanguage: 0.8.0\n",
      "       hepunits: 2.0.0\n",
      "           hist: 2.0.1\n",
      "        iminuit: 1.5.2\n",
      "         mplhep: 0.2.2\n",
      "       particle: 0.12.0\n",
      "          skhep: 1.1.0\n",
      " uproot_methods: 0.7.4\n",
      "         uproot: 3.12.0\n"
     ]
    }
   ],
   "source": [
    "import skhep\n",
    "skhep.show_versions()"
   ]
  },
  {
   "cell_type": "markdown",
   "metadata": {
    "slideshow": {
     "slide_type": "slide"
    }
   },
   "source": [
    "### **Scikit-HEP notebooks**\n",
    "\n",
    "- **`03_Scikit-HEP_introduction.ipynb`**:<br>\n",
    "this introductory notebook.\n",
    "- **`04_Scikit-HEP_histogramming-visualisation.ipynb`**:<br>\n",
    "modern histogramming utilities (`boost-histogram` and `hist`) and HEP-specific enhancements (`mplhep`) atop `matplotlib`.\n",
    "- **`05_Scikit-HEP_files-data-eventprocessing.ipynb`**:<br>\n",
    "pure Python I/O for ROOT files (`uproot`) and manipulation of tree structures so much cherried in HEP (`awkward-array`).\n",
    "- **`06_Scikit-HEP_particles-decays-units.ipynb`**:<br>\n",
    "having fun with the HEP system of units (`hepunits`), particle data information (`Particle`),\n",
    "and decay chains (`DecayLanguage`).\n",
    "- **`07_Scikit-HEP_fitting.ipynb`**:<br>\n",
    "quick intro to the highly useful and used Python bindings for Minuit2 (`iminuit`).\n",
    "- **`08_Scikit-HEP_statistics.ipynb`**:<br>\n",
    "notebook on statistics tools (`hepstats`)."
   ]
  },
  {
   "cell_type": "markdown",
   "metadata": {
    "slideshow": {
     "slide_type": "subslide"
    }
   },
   "source": [
    "<div class=\"alert alert-success\">\n",
    "<b>THANK YOU</b>\n",
    "\n",
    "to Hans Dembinski, Henry Schreiner, Jim Pivarski, Jonas Eschle and others for knowingly (or unknowingly) providing material and/or inspiration for these tutorial notebooks!\n",
    "</div>"
   ]
  }
 ],
 "metadata": {
  "celltoolbar": "Slideshow",
  "kernelspec": {
   "display_name": "Python 3",
   "language": "python",
   "name": "python3"
  },
  "language_info": {
   "codemirror_mode": {
    "name": "ipython",
    "version": 3
   },
   "file_extension": ".py",
   "mimetype": "text/x-python",
   "name": "python",
   "nbconvert_exporter": "python",
   "pygments_lexer": "ipython3",
   "version": "3.7.7"
  }
 },
 "nbformat": 4,
 "nbformat_minor": 4
}
