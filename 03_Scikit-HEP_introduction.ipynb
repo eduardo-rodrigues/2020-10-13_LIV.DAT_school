{
 "cells": [
  {
   "cell_type": "markdown",
   "metadata": {},
   "source": [
    "<center>\n",
    "<h1><b><span style=\"color:blue\">Introduction to the Scikit-HEP project</span></b></h1>\n",
    "</center>"
   ]
  },
  {
   "cell_type": "markdown",
   "metadata": {},
   "source": [
    "### **Motivation, really quickly**\n",
    "\n",
    "As discussed earlier, the scientific Python ecosystem can be organised, schematically, as a layered set of libraries and packages ever more specialised, from key libraries such as NumPy, Pandas and matplotlib, to domain-specific projects:"
   ]
  },
  {
   "cell_type": "markdown",
   "metadata": {},
   "source": [
    "<center><img src=\"images/PyHEP_scientific_python_ecosystem.png\" width=\"75%\"/></center>"
   ]
  },
  {
   "cell_type": "markdown",
   "metadata": {},
   "source": [
    "At the time this popular slide was prepared and presented, one could ask itself where the HEP domain-specific projects were. Scikit-HEP came to \"fill the gap\" for Particle Physics. (Others did the same, later on, as seen in the previous notebook.)"
   ]
  },
  {
   "cell_type": "markdown",
   "metadata": {},
   "source": [
    "### **The grand picture**\n",
    "\n",
    "The [Scikit-HEP project](https://scikit-hep.org) has had from the onset clearly-defined goals, and it cherishes a few core values:"
   ]
  },
  {
   "cell_type": "markdown",
   "metadata": {},
   "source": [
    "<center><img src=\"images/Scikit-HEP_grand_picture.png\" alt=\"Scikit-HEP project grand picture\" width=\"70%\"/></center>"
   ]
  },
  {
   "cell_type": "markdown",
   "metadata": {},
   "source": [
    "As a result, the tools showcased here aim to make it easy to perform HEP analysis in the scientific Python ecosystem.\n",
    "\n",
    "Here is an overview of the Scikit-HEP packages that are most popular and/or most actively used and maintained:"
   ]
  },
  {
   "cell_type": "markdown",
   "metadata": {},
   "source": [
    "### **Project packages and their dependencies**\n",
    "\n",
    "Very many topics are addressed within the project!"
   ]
  },
  {
   "cell_type": "markdown",
   "metadata": {},
   "source": [
    "<center><img src=\"images/Scikit-HEP_ecosystem.png\" width=\"50%\"></center>"
   ]
  },
  {
   "cell_type": "markdown",
   "metadata": {},
   "source": [
    "Let's look at the packages inter-dependencies out of curiosity, and also because it nicely \"explains\" why the project is a *toolset* and not a toolkit:\n",
    "<center><img src=\"images/Scikit-HEP_pkg_dependencies.png\" alt=\"Scikit-HEP project package dependencies\"/></center>"
   ]
  },
  {
   "cell_type": "markdown",
   "metadata": {},
   "source": [
    "The project now has a special package, `scikit-hep`, which is a *metapackage*. Unlike all others, which target specific topics, this metapackage simply provides an easy way to have a compatible set of project packages installed via a simple `pip install scikit-hep` command (soon the metapackage will also be available via [Conda](https://docs.conda.io/)).\n",
    "\n",
    "The Scikit-HEP packages used in these notebooks are in fact installed via the metapackage. It is trivial to check the available versions:"
   ]
  },
  {
   "cell_type": "code",
   "execution_count": null,
   "metadata": {},
   "outputs": [],
   "source": [
    "import skhep\n",
    "skhep.show_versions()"
   ]
  },
  {
   "cell_type": "markdown",
   "metadata": {},
   "source": [
    "### **Scikit-HEP notebooks**\n",
    "\n",
    "- **`03_Scikit-HEP_introduction.ipynb`**:<br>\n",
    "this introductory notebook.\n",
    "- **`04_Scikit-HEP_histogramming-visualisation.ipynb`**:<br>\n",
    "modern histogramming utilities (`boost-histogram` and `hist`) and HEP-specific enhancements (`mplhep`) atop `matplotlib`.\n",
    "- **`05_Scikit-HEP_files-data-eventprocessing.ipynb`**:<br>\n",
    "pure Python I/O for ROOT files (`uproot`) and manipulation of tree structures so much cherried in HEP (`awkward-array`).\n",
    "- **`06_Scikit-HEP_particles-decays-units.ipynb`**:<br>\n",
    "having fun with the HEP system of units (`hepunits`), particle data information (`Particle`),\n",
    "and decay chains (`DecayLanguage`).\n",
    "- **`07_Scikit-HEP_fitting.ipynb`**:<br>\n",
    "quick intro to the highly useful and used Python bindings for Minuit2 (`iminuit`).\n",
    "- **`08_Scikit-HEP_statistics.ipynb`**:<br>\n",
    "notebook on statistics tools (`hepstats`)."
   ]
  },
  {
   "cell_type": "markdown",
   "metadata": {},
   "source": [
    "<div class=\"alert alert-success\">\n",
    "<b>THANK YOU</b>\n",
    "\n",
    "to Hans Dembinski, Henry Schreiner, Jim Pivarski, Jonas Eschle and others for knowingly (or unknowingly) providing material and/or inspiration for these tutorial notebooks!\n",
    "</div>"
   ]
  }
 ],
 "metadata": {
  "kernelspec": {
   "display_name": "Python 3",
   "language": "python",
   "name": "python3"
  },
  "language_info": {
   "codemirror_mode": {
    "name": "ipython",
    "version": 3
   },
   "file_extension": ".py",
   "mimetype": "text/x-python",
   "name": "python",
   "nbconvert_exporter": "python",
   "pygments_lexer": "ipython3",
   "version": "3.7.7"
  }
 },
 "nbformat": 4,
 "nbformat_minor": 4
}
