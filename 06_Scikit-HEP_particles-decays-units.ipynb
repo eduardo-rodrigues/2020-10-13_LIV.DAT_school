{
 "cells": [
  {
   "cell_type": "markdown",
   "metadata": {},
   "source": [
    "<center><h1><b><span style=\"color:blue\">Particles, decays, HEP units</span></b></h1></center>\n",
    "\n",
    "&nbsp;<br>\n",
    "### **Quick intro to the following packages**\n",
    "- `hepunits` - the HEP system of units.\n",
    "- `Particle` - PDG particle data, MC identification codes, and more.\n",
    "- `DecayLanguage` - Decay files (notably for EvtGen), universal description of decay chains."
   ]
  },
  {
   "cell_type": "markdown",
   "metadata": {},
   "source": [
    "<center><h2><b><span style=\"color:green\">hepunits - The HEP system of units</span></b></h2></center>\n",
    "\n",
    "The package ``hepunits`` collects the most commonly used units and constants in the\n",
    "HEP System of Units, which are *not* the same as the international system of units (aka SI units).\n",
    "The HEP system of units is based on the following:\n",
    "\n",
    "| Quantity            | Name               | Unit|\n",
    "| ------------------ :| ----------------- :| -- :|\n",
    "|  Length             |  millimeter        | mm  |\n",
    "|  Time               |  nanosecond        | ns  |\n",
    "|  Energy             |  Mega electron Volt| MeV |\n",
    "|  Positron charge    |  eplus             |     |\n",
    "|  Temperature        |  kelvin            | K   |\n",
    "|  Amount of substance|  mole              | mol |\n",
    "|  Luminous intensity |  candela           | cd  |\n",
    "| Plane angle         |  radian            | rad |\n",
    "|  Solid angle        |  steradian         | sr  |\n",
    "\n",
    "Note: no need to make use of sophisticated packages (e.g. as in AstroPy) since we basically never need to change systems of units (we never use ergs as energy, for example ;-))."
   ]
  },
  {
   "cell_type": "markdown",
   "metadata": {},
   "source": [
    "**Basic usage is straightforward, though it may be confusing at first. Remember, all variables are written wrt to the units:**"
   ]
  },
  {
   "cell_type": "code",
   "execution_count": 1,
   "metadata": {},
   "outputs": [
    {
     "data": {
      "text/plain": [
       "True"
      ]
     },
     "execution_count": 1,
     "metadata": {},
     "output_type": "execute_result"
    }
   ],
   "source": [
    "from hepunits import mm, ns, MeV, eplus, GeV, kelvin, mol, cd, rad, sr\n",
    "\n",
    "mm == ns == MeV == eplus == kelvin == mol == cd == rad == sr == 1"
   ]
  },
  {
   "cell_type": "code",
   "execution_count": 2,
   "metadata": {},
   "outputs": [
    {
     "data": {
      "text/plain": [
       "True"
      ]
     },
     "execution_count": 2,
     "metadata": {},
     "output_type": "execute_result"
    }
   ],
   "source": [
    "GeV == 1000*MeV"
   ]
  },
  {
   "cell_type": "markdown",
   "metadata": {},
   "source": [
    "Add two quantities with different length units:"
   ]
  },
  {
   "cell_type": "code",
   "execution_count": 3,
   "metadata": {},
   "outputs": [
    {
     "data": {
      "text/plain": [
       "1050.0"
      ]
     },
     "execution_count": 3,
     "metadata": {},
     "output_type": "execute_result"
    }
   ],
   "source": [
    "from hepunits import units as u\n",
    "\n",
    "1*u.meter + 5*u.cm"
   ]
  },
  {
   "cell_type": "markdown",
   "metadata": {},
   "source": [
    "Indeed, the result is in HEP units, so mm. Rather obtain the result in meters:"
   ]
  },
  {
   "cell_type": "code",
   "execution_count": 4,
   "metadata": {},
   "outputs": [
    {
     "data": {
      "text/plain": [
       "1.05"
      ]
     },
     "execution_count": 4,
     "metadata": {},
     "output_type": "execute_result"
    }
   ],
   "source": [
    "(1*u.meter + 5*u.cm) / u.meter"
   ]
  },
  {
   "cell_type": "markdown",
   "metadata": {},
   "source": [
    "Do you need to play a bit more to get a proper feeling? This next (non-academic) exercise should help you ..."
   ]
  },
  {
   "cell_type": "markdown",
   "metadata": {},
   "source": [
    "### **Quick time-of-flight study**\n",
    "\n",
    "Let's try to play with units in a meaningful way, in a kind of exercise that physicists encounter. Imagine you are investigating time-of-flight (ToF) detectors for particle identification. The time it takes a particle of velocity $\\beta = v/c= pc/E$ to travel a distance $L$ is given by\n",
    "\n",
    "$$\\mathrm{ToF} = \\frac{L}{c \\beta}$$\n",
    "\n",
    "It results that the mass $m$ of the particle can be determined from\n",
    "\n",
    "$$m = \\frac{p}{c}\\sqrt{\\frac{c^2 \\mathrm{ToF}^2}{L^2}-1}$$\n",
    "\n",
    "provided the path length and the momentum can be measured, say, by a tracking system."
   ]
  },
  {
   "cell_type": "markdown",
   "metadata": {},
   "source": [
    "What are typical ToF differences say for (charged) kaons and pions?\n",
    "It is practical to perform the calculation as\n",
    "\n",
    "$$\\Delta \\mathrm{ToF} = \\frac{L}{c}(\\frac{1}{\\beta_1} - \\frac{1}{\\beta_2})\\,,$$\n",
    "\n",
    "with $\\frac{1}{\\beta} = \\sqrt{1+m^2c^2/p^2}$."
   ]
  },
  {
   "cell_type": "code",
   "execution_count": 5,
   "metadata": {},
   "outputs": [],
   "source": [
    "from hepunits import c_light, GeV, meter, ps, ns\n",
    "\n",
    "import numpy as np\n",
    "\n",
    "def ToF(m, p, L):\n",
    "    \"\"\"Time-of-Flight = particle path length L / (c * beta)\"\"\"\n",
    "    # No c factors here because physicists give m and p without them, hence the c's cancel out, effectively ;-).\n",
    "    one_over_beta = np.sqrt(1 + m*m/(p*p))\n",
    "    return (L * one_over_beta /c_light)"
   ]
  },
  {
   "cell_type": "markdown",
   "metadata": {},
   "source": [
    "For convenience, get hold of data information for the proton, $K^+$ and $\\pi^+$ (see `Particle`package down this notebook):"
   ]
  },
  {
   "cell_type": "code",
   "execution_count": 6,
   "metadata": {},
   "outputs": [],
   "source": [
    "from particle.particle.literals import proton, pi_plus, K_plus  # particle name literals"
   ]
  },
  {
   "cell_type": "markdown",
   "metadata": {},
   "source": [
    "Calculate the difference in ToF between 10 GeV kaons and pions travelling over 10 meters:"
   ]
  },
  {
   "cell_type": "code",
   "execution_count": 7,
   "metadata": {},
   "outputs": [
    {
     "name": "stdout",
     "output_type": "stream",
     "text": [
      "At 10 GeV, Delta-TOF(K-pi) over 10 meters = 37.374 ps\n"
     ]
    }
   ],
   "source": [
    "delta = ( ToF(K_plus.mass, 10*GeV, 10*meter) - ToF(pi_plus.mass, 10*GeV, 10*meter) ) / ps\n",
    "print(\"At 10 GeV, Delta-TOF(K-pi) over 10 meters = {:.5} ps\".format(delta))"
   ]
  },
  {
   "cell_type": "markdown",
   "metadata": {},
   "source": [
    "Let's get a bit fancier:\n",
    "- Compare protons, kaons and pions for a 1-meter path length.\n",
    "- Look at the ToF difference versus momentum.\n",
    "Other plotting tools (from HEP, actually) will be presented later on. For now let's just use the standard `matplotlib` library."
   ]
  },
  {
   "cell_type": "code",
   "execution_count": 8,
   "metadata": {},
   "outputs": [
    {
     "data": {
      "image/png": "[encoded data removed]",
      "text/plain": [
       "<Figure size 432x288 with 1 Axes>"
      ]
     },
     "metadata": {
      "needs_background": "light"
     },
     "output_type": "display_data"
    }
   ],
   "source": [
    "%matplotlib inline\n",
    "import matplotlib.pyplot as plt\n",
    "\n",
    "p = np.arange(0.5, 5.1, 0.05) * GeV\n",
    "\n",
    "# Calculate all the delta-ToF in picoseconds\n",
    "delta1 = ( ToF(K_plus.mass, p, 1.*meter) - ToF(pi_plus.mass, p, 1.*meter) ) / ps\n",
    "delta2 = ( ToF(proton.mass, p, 1.*meter) - ToF(K_plus.mass, p, 1.*meter) ) / ps\n",
    "delta3 = ( ToF(proton.mass, p, 1.*meter) - ToF(pi_plus.mass, p, 1.*meter) ) / ps\n",
    "\n",
    "fig, ax = plt.subplots()\n",
    "ax.plot(p/GeV, delta1, label='K-$\\pi$')\n",
    "ax.plot(p/GeV, delta2, label='p-K')\n",
    "ax.plot(p/GeV, delta3, label='p-$\\pi$')\n",
    "\n",
    "ax.set(xlabel='p [GeV]', ylabel='$\\Delta$ ToF [ps]',\n",
    "       title='Time-of-flight difference for a 1-meter path')\n",
    "ax.grid()\n",
    "\n",
    "plt.legend()\n",
    "plt.ylim(bottom=0, top=500)\n",
    "plt.show()"
   ]
  },
  {
   "cell_type": "markdown",
   "metadata": {},
   "source": [
    "&nbsp;\n",
    "<center><img src=\"images/logo_particle.png\" alt=\"Particle package logo\" style=\"width: 150px;\"/></center>\n",
    "\n",
    "<center><h2><b><span style=\"color:green\">PDG particle data, MC identification codes</span></b></h2></center>"
   ]
  },
  {
   "cell_type": "markdown",
   "metadata": {},
   "source": [
    "### **Pythonic interface to**\n",
    "- Particle Data Group (PDG) particle data table.\n",
    "- Particle MC identification codes, with inter-MC converters.\n",
    "- With various extra goodies."
   ]
  },
  {
   "cell_type": "markdown",
   "metadata": {
    "slideshow": {
     "slide_type": "slide"
    }
   },
   "source": [
    "### Package motivation - particle data\n",
    "\n",
    "- The [PDG](http://pdg.lbl.gov/) provides a <span style=\"color:green\">downloadable table of particle masses, widths, charges and Monte Carlo particle ID numbers</span> (PDG IDs).\n",
    "  - Most recent file [here](http://pdg.lbl.gov/2020/html/computer_read.html).\n",
    "- It <span style=\"color:green\">also provided an experimental file with extended information</span>\n",
    "(spin, quark content, P and C parities, etc.) until 2008 only, see [here](http://pdg.lbl.gov/2008/html/computer_read.html) (not widely known!).\n",
    "\n",
    "- But <span style=\"color:green\"><i>anyone</i> wanting to use these data</span>, the only readily available,\n",
    "<span style=\"color:green\">has to parse the file programmatically</span>.\n",
    "- Why not make a Python package to deal with all these data, for everyone?"
   ]
  },
  {
   "cell_type": "markdown",
   "metadata": {
    "slideshow": {
     "slide_type": "subslide"
    }
   },
   "source": [
    "### Package motivation - MC identification codes\n",
    "\n",
    "- The <span style=\"color:green\">C++ HepPID and HepPDT libraries provide functions for processing particle ID codes</apan>\n",
    "in the standard particle (aka PDG) numbering scheme.\n",
    "- Different event generators may have their separate set of particle IDs: Geant3, etc.\n",
    "- Again, why not make a package providing all functionality/conversions, Python-ically, for everyone?"
   ]
  },
  {
   "cell_type": "markdown",
   "metadata": {
    "slideshow": {
     "slide_type": "slide"
    }
   },
   "source": [
    "### Package, in short\n",
    "\n",
    "- <span style=\"color:green\">Particle</span> - loads extended <b>PDG data tables</b> and implements search and manipulations / display.\n",
    "- <span style=\"color:green\">PDGID</span> - find out as much as possible from the PDG ID number. <b>No table lookup</b>.\n",
    "- <span style=\"color:green\">Converters for MC IDs</span> used in Pythia and Geant.\n",
    "- Basic usage via the command line.\n",
    "- Fexible / advanced usage programmatically."
   ]
  },
  {
   "cell_type": "markdown",
   "metadata": {
    "slideshow": {
     "slide_type": "slide"
    }
   },
   "source": [
    "### **1. `PDGID` class and MC ID classes**\n",
    "\n",
    "\n",
    "- Classes `PDGID`, `PythiaID`, `Geant3ID`.\n",
    "- Converters in module `particle.converters`: `Geant2PDGIDBiMap`, etc."
   ]
  },
  {
   "cell_type": "markdown",
   "metadata": {
    "slideshow": {
     "slide_type": "subslide"
    }
   },
   "source": [
    "#### PDG IDs module overview\n",
    "\n",
    "- <span style=\"color:green\">Process and query PDG IDs</span>, and more – no look-up table needed.\n",
    "  - Current version of package reflects the latest version of the\n",
    "    <span style=\"color:green\">HepPID & HepPDT utility functions</span> defined in the C++ HepPID and HepPDT versions 3.04.01\n",
    "  - It contains more functionality than that available in the C++ code … and minor fixes too.\n",
    "- Definition of a <span style=\"color:green\">PDGID class, PDG ID literals</span>,\n",
    "and set of standalone HepPID <span style=\"color:green\">functions to query PDG IDs</span>\n",
    "(is_meson, has_bottom, j_spin, charge, etc.).\n",
    "   - All PDGID class functions are available standalone."
   ]
  },
  {
   "cell_type": "markdown",
   "metadata": {
    "slideshow": {
     "slide_type": "subslide"
    }
   },
   "source": [
    "#### PDGID class\n",
    "- Wrapper class `PDGID` for PDG IDs.\n",
    "- Behaves like an int, with extra goodies.\n",
    "- Large spectrum of properties and methods, with a Pythonic interface, and yet more!"
   ]
  },
  {
   "cell_type": "code",
   "execution_count": 9,
   "metadata": {
    "slideshow": {
     "slide_type": "subslide"
    }
   },
   "outputs": [],
   "source": [
    "from particle import PDGID"
   ]
  },
  {
   "cell_type": "code",
   "execution_count": 10,
   "metadata": {},
   "outputs": [
    {
     "data": {
      "text/plain": [
       "<PDGID: 211>"
      ]
     },
     "execution_count": 10,
     "metadata": {},
     "output_type": "execute_result"
    }
   ],
   "source": [
    "pid = PDGID(211)\n",
    "pid"
   ]
  },
  {
   "cell_type": "code",
   "execution_count": 11,
   "metadata": {},
   "outputs": [
    {
     "data": {
      "text/plain": [
       "<PDGID: 99999999 (is_valid==False)>"
      ]
     },
     "execution_count": 11,
     "metadata": {},
     "output_type": "execute_result"
    }
   ],
   "source": [
    "PDGID(99999999)"
   ]
  },
  {
   "cell_type": "code",
   "execution_count": 12,
   "metadata": {
    "slideshow": {
     "slide_type": "subslide"
    }
   },
   "outputs": [
    {
     "data": {
      "text/plain": [
       "(True, True)"
      ]
     },
     "execution_count": 12,
     "metadata": {},
     "output_type": "execute_result"
    }
   ],
   "source": [
    "from particle.pdgid import is_meson\n",
    "\n",
    "pid.is_meson, is_meson(pid)"
   ]
  },
  {
   "cell_type": "markdown",
   "metadata": {
    "slideshow": {
     "slide_type": "subslide"
    }
   },
   "source": [
    "To print all `PDGID` properties:"
   ]
  },
  {
   "cell_type": "code",
   "execution_count": 13,
   "metadata": {},
   "outputs": [
    {
     "name": "stdout",
     "output_type": "stream",
     "text": [
      "A              None\n",
      "J              0.0\n",
      "L              0\n",
      "S              0\n",
      "Z              None\n",
      "abspid         211\n",
      "charge         1.0\n",
      "has_bottom     False\n",
      "has_charm      False\n",
      "has_down       True\n",
      "has_fundamental_anti False\n",
      "has_strange    False\n",
      "has_top        False\n",
      "has_up         True\n",
      "is_Qball       False\n",
      "is_Rhadron     False\n",
      "is_SUSY        False\n",
      "is_baryon      False\n",
      "is_composite_quark_or_lepton False\n",
      "is_diquark     False\n",
      "is_dyon        False\n",
      "is_gauge_boson_or_higgs False\n",
      "is_generator_specific False\n",
      "is_hadron      True\n",
      "is_lepton      False\n",
      "is_meson       True\n",
      "is_nucleus     False\n",
      "is_pentaquark  False\n",
      "is_quark       False\n",
      "is_sm_gauge_boson_or_higgs False\n",
      "is_special_particle False\n",
      "is_technicolor False\n",
      "is_valid       True\n",
      "j_spin         1\n",
      "l_spin         1\n",
      "s_spin         1\n",
      "three_charge   3\n",
      "\n"
     ]
    }
   ],
   "source": [
    "print(pid.info())"
   ]
  },
  {
   "cell_type": "markdown",
   "metadata": {
    "slideshow": {
     "slide_type": "subslide"
    }
   },
   "source": [
    "#### MC ID classes and converters\n",
    "\n",
    "- <span style=\"color:green\">Classes for MC IDs</span> used in Pythia and Geant3: `PythiaID` and `Geant3ID`.\n",
    "- <span style=\"color:green\">ID converters</span> in module `particle.converters`: `Geant2PDGIDBiMap`, etc."
   ]
  },
  {
   "cell_type": "code",
   "execution_count": 14,
   "metadata": {},
   "outputs": [
    {
     "data": {
      "text/plain": [
       "<PDGID: 9010221>"
      ]
     },
     "execution_count": 14,
     "metadata": {},
     "output_type": "execute_result"
    }
   ],
   "source": [
    "from particle import PythiaID, Geant3ID\n",
    "\n",
    "pyid = PythiaID(10221)\n",
    "\n",
    "pyid.to_pdgid()"
   ]
  },
  {
   "cell_type": "markdown",
   "metadata": {
    "slideshow": {
     "slide_type": "subslide"
    }
   },
   "source": [
    "Conversions are directly available via mapping classes.\n",
    "\n",
    "E.g., bi-directional map Pythia ID - PDG ID:"
   ]
  },
  {
   "cell_type": "code",
   "execution_count": 15,
   "metadata": {},
   "outputs": [
    {
     "data": {
      "text/plain": [
       "<PythiaID: 10221>"
      ]
     },
     "execution_count": 15,
     "metadata": {},
     "output_type": "execute_result"
    }
   ],
   "source": [
    "from particle.converters import Pythia2PDGIDBiMap\n",
    "\n",
    "Pythia2PDGIDBiMap[PDGID(9010221)]"
   ]
  },
  {
   "cell_type": "code",
   "execution_count": 16,
   "metadata": {},
   "outputs": [
    {
     "data": {
      "text/plain": [
       "<PDGID: 9010221>"
      ]
     },
     "execution_count": 16,
     "metadata": {},
     "output_type": "execute_result"
    }
   ],
   "source": [
    "Pythia2PDGIDBiMap[PythiaID(10221)]"
   ]
  },
  {
   "cell_type": "markdown",
   "metadata": {
    "slideshow": {
     "slide_type": "slide"
    }
   },
   "source": [
    "### **2. `Particle` class**\n",
    "\n",
    "There are various ways to create a particle. The often used method is via its PDG ID."
   ]
  },
  {
   "cell_type": "code",
   "execution_count": 17,
   "metadata": {},
   "outputs": [],
   "source": [
    "from particle import Particle"
   ]
  },
  {
   "cell_type": "code",
   "execution_count": 18,
   "metadata": {},
   "outputs": [
    {
     "data": {
      "text/latex": [
       "$\\pi^{+}$"
      ],
      "text/plain": [
       "<Particle: name=\"pi+\", pdgid=211, mass=139.57039 ± 0.00018 MeV>"
      ]
     },
     "execution_count": 18,
     "metadata": {},
     "output_type": "execute_result"
    }
   ],
   "source": [
    "Particle.from_pdgid(211)"
   ]
  },
  {
   "cell_type": "markdown",
   "metadata": {
    "slideshow": {
     "slide_type": "subslide"
    }
   },
   "source": [
    "**Searching**\n",
    "\n",
    "<span style=\"color:green\">Simple and natural API</span> to deal with the PDG particle data table,<br>with <span style=\"color:green\">powerful 1-line search and look-up utilities!</span>\n",
    "\n",
    "- `Particle.find(…)` – search a single match (exception raised if multiple particles match the search specifications).\n",
    "- `Particle.findall(…)` – search a list of candidates.\n",
    "\n",
    "- Search methods that can query any particle property!"
   ]
  },
  {
   "cell_type": "code",
   "execution_count": 19,
   "metadata": {
    "slideshow": {
     "slide_type": "subslide"
    }
   },
   "outputs": [
    {
     "data": {
      "text/latex": [
       "$J/\\psi(1S)$"
      ],
      "text/plain": [
       "<Particle: name=\"J/psi(1S)\", pdgid=443, mass=3096.900 ± 0.006 MeV>"
      ]
     },
     "execution_count": 19,
     "metadata": {},
     "output_type": "execute_result"
    }
   ],
   "source": [
    "Particle.find('J/psi')"
   ]
  },
  {
   "cell_type": "markdown",
   "metadata": {
    "slideshow": {
     "slide_type": "subslide"
    }
   },
   "source": [
    "You can specify search terms as keywords - _any particle property_:"
   ]
  },
  {
   "cell_type": "code",
   "execution_count": 20,
   "metadata": {},
   "outputs": [
    {
     "data": {
      "text/latex": [
       "$\\phi(1020)$"
      ],
      "text/plain": [
       "<Particle: name=\"phi(1020)\", pdgid=333, mass=1019.461 ± 0.016 MeV>"
      ]
     },
     "execution_count": 20,
     "metadata": {},
     "output_type": "execute_result"
    }
   ],
   "source": [
    "Particle.find(latex_name=r'\\phi(1020)')"
   ]
  },
  {
   "cell_type": "markdown",
   "metadata": {
    "slideshow": {
     "slide_type": "subslide"
    }
   },
   "source": [
    "You can directly check the numeric charge:"
   ]
  },
  {
   "cell_type": "code",
   "execution_count": 21,
   "metadata": {},
   "outputs": [
    {
     "data": {
      "text/plain": [
       "[<Particle: name=\"pi-\", pdgid=-211, mass=139.57039 ± 0.00018 MeV>,\n",
       " <Particle: name=\"pi(2)(1670)-\", pdgid=-10215, mass=1670.6 + 2.9 - 1.2 MeV>,\n",
       " <Particle: name=\"pi(1300)-\", pdgid=-100211, mass=1300 ± 100 MeV>,\n",
       " <Particle: name=\"pi(1)(1400)-\", pdgid=-9000213, mass=1354 ± 25 MeV>,\n",
       " <Particle: name=\"pi(1800)-\", pdgid=-9010211, mass=1810 + 9 - 11 MeV>,\n",
       " <Particle: name=\"pi(1)(1600)-\", pdgid=-9010213, mass=1660 + 15 - 11 MeV>]"
      ]
     },
     "execution_count": 21,
     "metadata": {},
     "output_type": "execute_result"
    }
   ],
   "source": [
    "Particle.findall('pi', charge=-1)"
   ]
  },
  {
   "cell_type": "markdown",
   "metadata": {
    "slideshow": {
     "slide_type": "subslide"
    }
   },
   "source": [
    "Or use a **lambda function** for the ultimate in generality! For example, to find all the neutral particles with a bottom quark between 5.2 and 5.3 GeV:"
   ]
  },
  {
   "cell_type": "code",
   "execution_count": 22,
   "metadata": {},
   "outputs": [],
   "source": [
    "from hepunits import GeV, s  # Units are good. Use them."
   ]
  },
  {
   "cell_type": "code",
   "execution_count": 23,
   "metadata": {},
   "outputs": [
    {
     "data": {
      "text/plain": [
       "[<Particle: name=\"B0\", pdgid=511, mass=5279.65 ± 0.12 MeV>,\n",
       " <Particle: name=\"B~0\", pdgid=-511, mass=5279.65 ± 0.12 MeV>]"
      ]
     },
     "execution_count": 23,
     "metadata": {},
     "output_type": "execute_result"
    }
   ],
   "source": [
    "Particle.findall(lambda p:\n",
    "                     p.pdgid.has_bottom\n",
    "                     and p.charge==0\n",
    "                     and 5.2*GeV < p.mass < 5.3*GeV\n",
    "                )"
   ]
  },
  {
   "cell_type": "markdown",
   "metadata": {
    "slideshow": {
     "slide_type": "subslide"
    }
   },
   "source": [
    "Another lambda function example: You can use the width or the lifetime:"
   ]
  },
  {
   "cell_type": "code",
   "execution_count": 24,
   "metadata": {
    "slideshow": {
     "slide_type": "-"
    }
   },
   "outputs": [
    {
     "data": {
      "text/plain": [
       "[<Particle: name=\"e-\", pdgid=11, mass=0.510998946 ± 0.000000003 MeV>,\n",
       " <Particle: name=\"e+\", pdgid=-11, mass=0.510998946 ± 0.000000003 MeV>,\n",
       " <Particle: name=\"g\", pdgid=21, mass=0.0 MeV>,\n",
       " <Particle: name=\"gamma\", pdgid=22, mass=0.0 MeV>,\n",
       " <Particle: name=\"p\", pdgid=2212, mass=938.272081 ± 0.000006 MeV>,\n",
       " <Particle: name=\"p~\", pdgid=-2212, mass=938.272081 ± 0.000006 MeV>,\n",
       " <Particle: name=\"p\", pdgid=1000010010, mass=938.272081 ± 0.000006 MeV>,\n",
       " <Particle: name=\"p~\", pdgid=-1000010010, mass=938.272081 ± 0.000006 MeV>]"
      ]
     },
     "execution_count": 24,
     "metadata": {},
     "output_type": "execute_result"
    }
   ],
   "source": [
    "Particle.findall(lambda p: p.lifetime > 1000*s)"
   ]
  },
  {
   "cell_type": "markdown",
   "metadata": {
    "slideshow": {
     "slide_type": "subslide"
    }
   },
   "source": [
    "If you want infinite lifetime, you could just use the keyword search instead:"
   ]
  },
  {
   "cell_type": "code",
   "execution_count": 25,
   "metadata": {},
   "outputs": [
    {
     "data": {
      "text/plain": [
       "[<Particle: name=\"e-\", pdgid=11, mass=0.510998946 ± 0.000000003 MeV>,\n",
       " <Particle: name=\"e+\", pdgid=-11, mass=0.510998946 ± 0.000000003 MeV>,\n",
       " <Particle: name=\"g\", pdgid=21, mass=0.0 MeV>,\n",
       " <Particle: name=\"gamma\", pdgid=22, mass=0.0 MeV>,\n",
       " <Particle: name=\"p\", pdgid=2212, mass=938.272081 ± 0.000006 MeV>,\n",
       " <Particle: name=\"p~\", pdgid=-2212, mass=938.272081 ± 0.000006 MeV>,\n",
       " <Particle: name=\"p\", pdgid=1000010010, mass=938.272081 ± 0.000006 MeV>,\n",
       " <Particle: name=\"p~\", pdgid=-1000010010, mass=938.272081 ± 0.000006 MeV>]"
      ]
     },
     "execution_count": 25,
     "metadata": {},
     "output_type": "execute_result"
    }
   ],
   "source": [
    "Particle.findall(lifetime=float('inf'))"
   ]
  },
  {
   "cell_type": "markdown",
   "metadata": {
    "slideshow": {
     "slide_type": "subslide"
    }
   },
   "source": [
    "Trivially find all pseudoscalar charm mesons:"
   ]
  },
  {
   "cell_type": "code",
   "execution_count": 26,
   "metadata": {},
   "outputs": [
    {
     "data": {
      "text/plain": [
       "[<Particle: name=\"D+\", pdgid=411, mass=1869.65 ± 0.05 MeV>,\n",
       " <Particle: name=\"D-\", pdgid=-411, mass=1869.65 ± 0.05 MeV>,\n",
       " <Particle: name=\"D0\", pdgid=421, mass=1864.83 ± 0.05 MeV>,\n",
       " <Particle: name=\"D~0\", pdgid=-421, mass=1864.83 ± 0.05 MeV>,\n",
       " <Particle: name=\"D(s)+\", pdgid=431, mass=1968.34 ± 0.07 MeV>,\n",
       " <Particle: name=\"D(s)-\", pdgid=-431, mass=1968.34 ± 0.07 MeV>,\n",
       " <Particle: name=\"eta(c)(1S)\", pdgid=441, mass=2983.9 ± 0.5 MeV>,\n",
       " <Particle: name=\"B(c)+\", pdgid=541, mass=6274.9 ± 0.8 MeV>,\n",
       " <Particle: name=\"B(c)-\", pdgid=-541, mass=6274.9 ± 0.8 MeV>,\n",
       " <Particle: name=\"eta(c)(2S)\", pdgid=100441, mass=3637.5 ± 1.1 MeV>]"
      ]
     },
     "execution_count": 26,
     "metadata": {},
     "output_type": "execute_result"
    }
   ],
   "source": [
    "from particle import SpinType\n",
    "\n",
    "Particle.findall(lambda p: p.pdgid.is_meson and p.pdgid.has_charm and p.spin_type==SpinType.PseudoScalar)"
   ]
  },
  {
   "cell_type": "markdown",
   "metadata": {
    "slideshow": {
     "slide_type": "subslide"
    }
   },
   "source": [
    "**Display**\n",
    "\n",
    "Nice display in Jupyter notebooks, as well as `str` and `repr` support:"
   ]
  },
  {
   "cell_type": "code",
   "execution_count": 27,
   "metadata": {},
   "outputs": [
    {
     "data": {
      "text/latex": [
       "$D_{2}^{*}(2460)^{-}$"
      ],
      "text/plain": [
       "<Particle: name=\"D(2)*(2460)-\", pdgid=-415, mass=2465.4 ± 1.3 MeV>"
      ]
     },
     "execution_count": 27,
     "metadata": {},
     "output_type": "execute_result"
    }
   ],
   "source": [
    "p = Particle.from_pdgid(-415)\n",
    "p"
   ]
  },
  {
   "cell_type": "code",
   "execution_count": 28,
   "metadata": {
    "slideshow": {
     "slide_type": "subslide"
    }
   },
   "outputs": [
    {
     "name": "stdout",
     "output_type": "stream",
     "text": [
      "D(2)*(2460)-\n"
     ]
    }
   ],
   "source": [
    "print(p)"
   ]
  },
  {
   "cell_type": "code",
   "execution_count": 29,
   "metadata": {},
   "outputs": [
    {
     "name": "stdout",
     "output_type": "stream",
     "text": [
      "<Particle: name=\"D(2)*(2460)-\", pdgid=-415, mass=2465.4 ± 1.3 MeV>\n"
     ]
    }
   ],
   "source": [
    "print(repr(p))"
   ]
  },
  {
   "cell_type": "markdown",
   "metadata": {
    "slideshow": {
     "slide_type": "subslide"
    }
   },
   "source": [
    "Full descriptions:"
   ]
  },
  {
   "cell_type": "code",
   "execution_count": 30,
   "metadata": {},
   "outputs": [
    {
     "name": "stdout",
     "output_type": "stream",
     "text": [
      "Name: D(2)*(2460)-   ID: -415         Latex: $D_{2}^{*}(2460)^{-}$\n",
      "Mass  = 2465.4 ± 1.3 MeV\n",
      "Width = 46.7 ± 1.2 MeV\n",
      "Q (charge)        = -       J (total angular) = 2.0      P (space parity) = +\n",
      "C (charge parity) = None    I (isospin)       = 0.5      G (G-parity)     = None\n",
      "    SpinType: SpinType.Tensor\n",
      "    Quarks: Cd\n",
      "    Antiparticle name: D(2)*(2460)+ (antiparticle status: ChargeInv)\n"
     ]
    }
   ],
   "source": [
    "print(p.describe())"
   ]
  },
  {
   "cell_type": "markdown",
   "metadata": {
    "slideshow": {
     "slide_type": "subslide"
    }
   },
   "source": [
    "You may find LaTeX or HTML to be more useful in your program; both are supported:"
   ]
  },
  {
   "cell_type": "code",
   "execution_count": 31,
   "metadata": {},
   "outputs": [
    {
     "name": "stdout",
     "output_type": "stream",
     "text": [
      "D_{2}^{*}(2460)^{-} \n",
      " D<SUB>2</SUB><SUP>*</SUP>(2460)<SUP>-</SUP>\n"
     ]
    }
   ],
   "source": [
    "print(p.latex_name, '\\n', p.html_name)"
   ]
  },
  {
   "cell_type": "markdown",
   "metadata": {
    "slideshow": {
     "slide_type": "subslide"
    }
   },
   "source": [
    "**Particle properties**\n",
    "\n",
    "You can do things to particles, like **invert** them:"
   ]
  },
  {
   "cell_type": "code",
   "execution_count": 32,
   "metadata": {},
   "outputs": [
    {
     "data": {
      "text/latex": [
       "$D_{2}^{*}(2460)^{+}$"
      ],
      "text/plain": [
       "<Particle: name=\"D(2)*(2460)+\", pdgid=415, mass=2465.4 ± 1.3 MeV>"
      ]
     },
     "execution_count": 32,
     "metadata": {},
     "output_type": "execute_result"
    }
   ],
   "source": [
    "~p"
   ]
  },
  {
   "cell_type": "markdown",
   "metadata": {
    "slideshow": {
     "slide_type": "subslide"
    }
   },
   "source": [
    "There are a plethora of properties you can access:"
   ]
  },
  {
   "cell_type": "code",
   "execution_count": 33,
   "metadata": {},
   "outputs": [
    {
     "data": {
      "text/plain": [
       "<SpinType.Tensor: 3>"
      ]
     },
     "execution_count": 33,
     "metadata": {},
     "output_type": "execute_result"
    }
   ],
   "source": [
    "p.spin_type"
   ]
  },
  {
   "cell_type": "markdown",
   "metadata": {
    "slideshow": {
     "slide_type": "subslide"
    }
   },
   "source": [
    "You can quickly access the PDGID of a particle:"
   ]
  },
  {
   "cell_type": "code",
   "execution_count": 34,
   "metadata": {},
   "outputs": [
    {
     "data": {
      "text/plain": [
       "<PDGID: -415>"
      ]
     },
     "execution_count": 34,
     "metadata": {},
     "output_type": "execute_result"
    }
   ],
   "source": [
    "p.pdgid"
   ]
  },
  {
   "cell_type": "markdown",
   "metadata": {
    "slideshow": {
     "slide_type": "slide"
    }
   },
   "source": [
    "### **3. Literals**\n",
    "\n",
    "They provide a <span style=\"color:green\">handy way to manipulate things with human-readable names!</span>\n",
    "\n",
    "`Particle` defines <span style=\"color:green\">literals for most common particles</span>, with easily recognisable names.\n",
    "- Literals are dynamically generated on import for both `PDGID` and `Particle` classes."
   ]
  },
  {
   "cell_type": "markdown",
   "metadata": {
    "slideshow": {
     "slide_type": "subslide"
    }
   },
   "source": [
    "**PDGID literals**"
   ]
  },
  {
   "cell_type": "code",
   "execution_count": 35,
   "metadata": {},
   "outputs": [],
   "source": [
    "from particle.pdgid import literals as lid"
   ]
  },
  {
   "cell_type": "code",
   "execution_count": 36,
   "metadata": {},
   "outputs": [
    {
     "data": {
      "text/plain": [
       "<PDGID: 333>"
      ]
     },
     "execution_count": 36,
     "metadata": {},
     "output_type": "execute_result"
    }
   ],
   "source": [
    "lid.phi_1020"
   ]
  },
  {
   "cell_type": "markdown",
   "metadata": {
    "slideshow": {
     "slide_type": "subslide"
    }
   },
   "source": [
    "**Particle literals**"
   ]
  },
  {
   "cell_type": "code",
   "execution_count": 37,
   "metadata": {},
   "outputs": [],
   "source": [
    "from particle import literals as lp"
   ]
  },
  {
   "cell_type": "code",
   "execution_count": 38,
   "metadata": {},
   "outputs": [
    {
     "data": {
      "text/latex": [
       "$\\phi(1020)$"
      ],
      "text/plain": [
       "<Particle: name=\"phi(1020)\", pdgid=333, mass=1019.461 ± 0.016 MeV>"
      ]
     },
     "execution_count": 38,
     "metadata": {},
     "output_type": "execute_result"
    }
   ],
   "source": [
    "lp.phi_1020"
   ]
  },
  {
   "cell_type": "markdown",
   "metadata": {
    "slideshow": {
     "slide_type": "slide"
    }
   },
   "source": [
    "### **4. Data files, stored in `particle/data/`**\n",
    "\n",
    "- <b>PDG particle data files</b>\n",
    "  - Original PDG data files, which are in a fixed-width format - simply for bookkeeping and reference.\n",
    "  - Code rather uses “digested forms” of these, produced within `Particle`, stored as CSV, for optimised querying.\n",
    "  - Latest PDG data (2020) used by default.\n",
    "  - Advanced usage: user can load older PDG tables, load a “user table” with new particles, append to default table.\n",
    "\n",
    "- <b>Other data files</b>\n",
    "  - CSV file for mapping of PDG IDs to particle LaTeX names."
   ]
  },
  {
   "cell_type": "markdown",
   "metadata": {
    "slideshow": {
     "slide_type": "subslide"
    }
   },
   "source": [
    "**Dump table contents**\n",
    "\n",
    "The package provides the 2 methods `Particle.to_dict(...)` and `Particle.to_list(...)`, which make it easy to dump (selected) particle properties in an easy way. No need to dig into the package installation directory to inspect the particle data table ;-).\n",
    "\n",
    "Tabular output can be formatted with the powerful package `tabulate`, for example (other similar libraries exist)."
   ]
  },
  {
   "cell_type": "code",
   "execution_count": 39,
   "metadata": {},
   "outputs": [
    {
     "name": "stdout",
     "output_type": "stream",
     "text": [
      "Help on method to_dict in module particle.particle.particle:\n",
      "\n",
      "to_dict(*args, **kwargs) method of builtins.type instance\n",
      "    Render a search (via `findall`) on the internal particle data CSV table\n",
      "    as a `dict`, loading the table from the default location if no table has yet been loaded.\n",
      "    \n",
      "    The returned attributes are those of the class. By default all attributes\n",
      "    are used as fields. Their complete list is:\n",
      "        pdgid\n",
      "        pdg_name\n",
      "        mass\n",
      "        mass_upper\n",
      "        mass_lower\n",
      "        width\n",
      "        width_upper\n",
      "        width_lower\n",
      "        three_charge\n",
      "        I\n",
      "        G\n",
      "        P\n",
      "        C\n",
      "        anti_flag\n",
      "        rank\n",
      "        status\n",
      "        quarks\n",
      "        latex_name\n",
      "    \n",
      "    It is possible to add as returned fields any `Particle` class property,\n",
      "    e.g. 'name', `J` or `ctau`, see examples below.\n",
      "    \n",
      "    Parameters\n",
      "    ----------\n",
      "    exclusive_fields: list, optional, default is []\n",
      "        Exclusive list of fields to print out,\n",
      "        which can be any `Particle` class property.\n",
      "    exclude_fields: list, optional, default is []\n",
      "        List of table fields to exclude in the printout.\n",
      "        Relevant only when exclusive_fields is not given.\n",
      "    n_rows: int, optional, defaults to all rows\n",
      "        Number of table rows to print out.\n",
      "    filter_fn: function, optional, default is None\n",
      "        Apply a filter to each particle.\n",
      "        See `findall(...)`` for typical use cases.\n",
      "    \n",
      "    Returns\n",
      "    -------\n",
      "    The particle table query as a `dict`.\n",
      "    \n",
      "    Note\n",
      "    ----\n",
      "    The `tabulate` package is suggested as a means to print-out\n",
      "    the contents of the query as a nicely formatted table.\n",
      "    \n",
      "    Examples\n",
      "    --------\n",
      "    Reproduce the whole particle table kept internally:\n",
      "    \n",
      "    >>> Particle.to_dict()    # doctest: +SKIP\n",
      "    \n",
      "    Reduce the information on the particle table to the only fields\n",
      "    ['pdgid', 'pdg_name'] and render the first 5 particles:\n",
      "    \n",
      "    >>> query_as_dict = Particle.to_dict(exclusive_fields=['pdgid', 'pdg_name'], n_rows=5)\n",
      "    >>> from tabulate import tabulate    # doctest: +SKIP\n",
      "    >>> print(tabulate(query_as_dict, headers='keys'))    # doctest: +SKIP\n",
      "    \n",
      "    Request the properties of a specific list of particles:\n",
      "    \n",
      "    >>> query_as_dict = Particle.to_dict(filter_fn=lambda p: p.pdgid.is_lepton and p.charge!=0, exclusive_fields=['pdgid', 'name', 'mass', 'charge'])\n",
      "    \n",
      "    >>> print(tabulate(query_as_dict, headers='keys', tablefmt=\"rst\", floatfmt=\".12g\", numalign=\"decimal\"))    # doctest: +SKIP\n",
      "    =======  ======  ===============  ========\n",
      "      pdgid  name               mass    charge\n",
      "    =======  ======  ===============  ========\n",
      "         11  e-         0.5109989461        -1\n",
      "        -11  e+         0.5109989461         1\n",
      "         13  mu-      105.6583745           -1\n",
      "        -13  mu+      105.6583745            1\n",
      "         15  tau-    1776.86                -1\n",
      "        -15  tau+    1776.86                 1\n",
      "         17  tau'-                          -1\n",
      "        -17  tau'+                           1\n",
      "    =======  ======  ===============  ========\n",
      "    \n",
      "    Save it to a file:\n",
      "    \n",
      "    >>> with open('particles.txt', \"w\") as outfile:    # doctest: +SKIP\n",
      "    ...    print(tabulate(query_as_dict, headers='keys', tablefmt=\"rst\", floatfmt=\".12g\", numalign=\"decimal\"), file=outfile)    # doctest: +SKIP\n",
      "\n"
     ]
    }
   ],
   "source": [
    "help(Particle.to_dict)"
   ]
  },
  {
   "cell_type": "code",
   "execution_count": 40,
   "metadata": {},
   "outputs": [],
   "source": [
    "from tabulate import tabulate"
   ]
  },
  {
   "cell_type": "code",
   "execution_count": 41,
   "metadata": {
    "slideshow": {
     "slide_type": "subslide"
    }
   },
   "outputs": [
    {
     "name": "stdout",
     "output_type": "stream",
     "text": [
      "  pdgid  pdg_name       mass    mass_upper    mass_lower    three_charge\n",
      "-------  ----------  -------  ------------  ------------  --------------\n",
      "      1  d              4.67           0.5           0.2              -1\n",
      "     -1  d              4.67           0.5           0.2               1\n",
      "      2  u              2.16           0.5           0.3               2\n",
      "     -2  u              2.16           0.5           0.3              -2\n",
      "      3  s             93             11             5                -1\n",
      "     -3  s             93             11             5                 1\n",
      "      4  c           1270             20            20                 2\n",
      "     -4  c           1270             20            20                -2\n",
      "      5  b           4180             30            20                -1\n",
      "     -5  b           4180             30            20                 1\n"
     ]
    }
   ],
   "source": [
    "fields = ['pdgid', 'pdg_name', 'mass', 'mass_upper', 'mass_lower', 'three_charge']\n",
    "query_as_dict = Particle.to_dict(exclusive_fields=fields, n_rows=10)\n",
    "print(tabulate(query_as_dict, headers='keys'))"
   ]
  },
  {
   "cell_type": "markdown",
   "metadata": {
    "slideshow": {
     "slide_type": "subslide"
    }
   },
   "source": [
    "Be fancy - table with all pseudoscalar charm hadrons, in _reStructuredText_ format:"
   ]
  },
  {
   "cell_type": "code",
   "execution_count": 42,
   "metadata": {},
   "outputs": [
    {
     "name": "stdout",
     "output_type": "stream",
     "text": [
      "=======  ==========  =============  =======  ============  ============  ==============\n",
      "  pdgid  name        evtgen_name       mass    mass_upper    mass_lower    three_charge\n",
      "=======  ==========  =============  =======  ============  ============  ==============\n",
      "    411  D+          D+             1869.65          0.05          0.05               3\n",
      "   -411  D-          D-             1869.65          0.05          0.05              -3\n",
      "    421  D0          D0             1864.83          0.05          0.05               0\n",
      "   -421  D~0         anti-D0        1864.83          0.05          0.05               0\n",
      "    431  D(s)+       D_s+           1968.34          0.07          0.07               3\n",
      "   -431  D(s)-       D_s-           1968.34          0.07          0.07              -3\n",
      "    441  eta(c)(1S)  eta_c          2983.9           0.5           0.5                0\n",
      "    541  B(c)+       B_c+           6274.9           0.8           0.8                3\n",
      "   -541  B(c)-       B_c-           6274.9           0.8           0.8               -3\n",
      " 100441  eta(c)(2S)  eta_c(2S)      3637.5           1.1           1.1                0\n",
      "=======  ==========  =============  =======  ============  ============  ==============\n"
     ]
    }
   ],
   "source": [
    "fields = ['pdgid', 'name', 'evtgen_name', 'mass', 'mass_upper', 'mass_lower', 'three_charge']\n",
    "\n",
    "query_as_dict = Particle.to_dict(filter_fn=lambda p: p.pdgid.is_meson and p.pdgid.has_charm and p.spin_type==SpinType.PseudoScalar,\n",
    "                                 exclusive_fields=fields)\n",
    "print(tabulate(query_as_dict, headers='keys', tablefmt='rst'))"
   ]
  },
  {
   "cell_type": "markdown",
   "metadata": {},
   "source": [
    "Notebook-friendly HTML is just as easy:"
   ]
  },
  {
   "cell_type": "code",
   "execution_count": 43,
   "metadata": {},
   "outputs": [
    {
     "data": {
      "text/html": [
       "<table>\n",
       "<thead>\n",
       "<tr><th style=\"text-align: right;\">  pdgid</th><th>pdg_name  </th><th>html_name                </th></tr>\n",
       "</thead>\n",
       "<tbody>\n",
       "<tr><td style=\"text-align: right;\">    411</td><td>D         </td><td>D<SUP>+</SUP>            </td></tr>\n",
       "<tr><td style=\"text-align: right;\">   -411</td><td>D         </td><td>D<SUP>-</SUP>            </td></tr>\n",
       "<tr><td style=\"text-align: right;\">    421</td><td>D         </td><td>D<SUP>0</SUP>            </td></tr>\n",
       "<tr><td style=\"text-align: right;\">   -421</td><td>D         </td><td>D&#773;<SUP>0</SUP>      </td></tr>\n",
       "<tr><td style=\"text-align: right;\">    431</td><td>D(s)      </td><td>D<SUB>s</SUB><SUP>+</SUP></td></tr>\n",
       "<tr><td style=\"text-align: right;\">   -431</td><td>D(s)      </td><td>D<SUB>s</SUB><SUP>-</SUP></td></tr>\n",
       "<tr><td style=\"text-align: right;\">    441</td><td>eta(c)(1S)</td><td>&eta;<SUB>c</SUB>(1S)    </td></tr>\n",
       "<tr><td style=\"text-align: right;\">    541</td><td>B(c)      </td><td>B<SUB>c</SUB><SUP>+</SUP></td></tr>\n",
       "<tr><td style=\"text-align: right;\">   -541</td><td>B(c)      </td><td>B<SUB>c</SUB><SUP>-</SUP></td></tr>\n",
       "<tr><td style=\"text-align: right;\"> 100441</td><td>eta(c)(2S)</td><td>&eta;<SUB>c</SUB>(2S)    </td></tr>\n",
       "</tbody>\n",
       "</table>"
      ],
      "text/plain": [
       "<IPython.core.display.HTML object>"
      ]
     },
     "execution_count": 43,
     "metadata": {},
     "output_type": "execute_result"
    }
   ],
   "source": [
    "from IPython.display import HTML\n",
    "\n",
    "query_as_dict = Particle.to_dict(filter_fn=lambda p: p.pdgid.is_meson and p.pdgid.has_charm and p.spin_type==SpinType.PseudoScalar,\n",
    "                                 exclusive_fields=['pdgid', 'pdg_name', 'html_name'])\n",
    "HTML(tabulate(query_as_dict, headers='keys', tablefmt='html'))"
   ]
  },
  {
   "cell_type": "markdown",
   "metadata": {
    "slideshow": {
     "slide_type": "slide"
    }
   },
   "source": [
    "### **5. Advanced usage**\n",
    "\n",
    "You can:\n",
    "\n",
    "* Extend or replace the default particle data table in `Particle`.\n",
    "* Adjust properties for a particle.\n",
    "* Make custom particles."
   ]
  },
  {
   "cell_type": "markdown",
   "metadata": {},
   "source": [
    "&nbsp;<br>\n",
    "<center>\n",
    "    <img src=\"images/logo_decaylanguage.png\" alt=\"DecayLanguage package logo\" style=\"width: 200px;\"/>\n",
    "    <h2><b><span style=\"color:green\">Decay files, universal description of decay chains</span></b></h2>\n",
    "</center>\n",
    "\n",
    "`DecayLanguage` is designed for the manipulation of decay structures in Python. The current package has:\n",
    "\n",
    "- Decay file parsers:\n",
    "  - Read *.dec DecFiles*, such as EvtGen decay files typically used in Flavour Physics experiments.\n",
    "  - Manipulate and visualise them in Python.\n",
    "- Amplitude Analysis decay language:\n",
    "  - Input based on AmpGen generator, output format for GooFit C++ program."
   ]
  },
  {
   "cell_type": "markdown",
   "metadata": {
    "slideshow": {
     "slide_type": "slide"
    }
   },
   "source": [
    "### Package motivation\n",
    "\n",
    "- Ability to describe decay-tree-like structures.\n",
    "- Provide a translation of decay amplitude models from AmpGen to GooFit.\n",
    "  - Idea is to generalise this to other decay descriptions.\n",
    "- Any experiment uses event generators which, among many things, need to describe particle decay chains.\n",
    "- Programs such as EvtGen rely on so-called .dec decay files.\n",
    "- Many experiments need decay data files.\n",
    "- Why not make a Python package to deal with decay files, for everyone?"
   ]
  },
  {
   "cell_type": "markdown",
   "metadata": {
    "slideshow": {
     "slide_type": "slide"
    }
   },
   "source": [
    "### Package, in short\n",
    "\n",
    "- Tools to parse decay files and programmatically manipulate them, query, display information.\n",
    "  - Descriptions and parsing built atop the [Lark parser](https://github.com/lark-parser/lark/).\n",
    "- Tools to translate decay amplitude models from AmpGen to GooFit, and manipulate them."
   ]
  },
  {
   "cell_type": "markdown",
   "metadata": {
    "slideshow": {
     "slide_type": "slide"
    }
   },
   "source": [
    "### **1. Decay files**\n",
    "\n",
    "#### *Master file” DECAY.DEC\n",
    "\n",
    "<span style=\"color:green\">Gigantic file defining decay modes for all relevant particles, including decay model specifications.</span>\n",
    "LHCb uses one. Belle II as well, and others.\n",
    "\n",
    "#### User .dec files\n",
    "- Needed to produce specific MC samples.\n",
    "- Typically contain a single decay chain (except if defining inclusive samples)."
   ]
  },
  {
   "cell_type": "markdown",
   "metadata": {
    "slideshow": {
     "slide_type": "subslide"
    }
   },
   "source": [
    "**Example user decay file:**\n",
    "\n",
    "<small>\n",
    "<pre>\n",
    "# Decay file for [B_c+ -> (B_s0 -> K+ K-) pi+]cc\n",
    "\n",
    "Alias      B_c+sig        B_c+\n",
    "Alias      B_c-sig        B_c-\n",
    "ChargeConj B_c+sig        B_c-sig\n",
    "Alias      MyB_s0         B_s0\n",
    "Alias      Myanti-B_s0    anti-B_s0\n",
    "ChargeConj MyB_s0         Myanti-B_s0\n",
    "\n",
    "Decay B_c+sig\n",
    "  1.000     MyB_s0     pi+     PHOTOS PHSP;\n",
    "Enddecay\n",
    "CDecay B_c-sig\n",
    "\n",
    "Decay MyB_s0\n",
    "    1.000     K+     K-     SSD_CP 20.e12 0.1 1.0 0.04 9.6 -0.8 8.4 -0.6;\n",
    "Enddecay\n",
    "CDecay Myanti-B_s0\n",
    "</pre>\n",
    "</small>"
   ]
  },
  {
   "cell_type": "markdown",
   "metadata": {
    "slideshow": {
     "slide_type": "slide"
    }
   },
   "source": [
    "### **2. Decay file parsing**\n",
    "\n",
    "- **Parsing should be simple**\n",
    "  - Expert users can configure parser choice and settings, etc. \n",
    "- **Parsing should be (reasonably) fast!**\n",
    "\n",
    "After parsing, many queries are possible!"
   ]
  },
  {
   "cell_type": "code",
   "execution_count": 44,
   "metadata": {
    "slideshow": {
     "slide_type": "subslide"
    }
   },
   "outputs": [],
   "source": [
    "from decaylanguage import DecFileParser"
   ]
  },
  {
   "cell_type": "markdown",
   "metadata": {},
   "source": [
    "#### The LHCb \"master decay file\"\n",
    "\n",
    "It's a big file! ~ 500 particle decays defined, thousands of decay modes, over 11k lines in total."
   ]
  },
  {
   "cell_type": "code",
   "execution_count": 45,
   "metadata": {},
   "outputs": [],
   "source": [
    "dfp = DecFileParser('data/DECAY_LHCB.DEC')"
   ]
  },
  {
   "cell_type": "code",
   "execution_count": 46,
   "metadata": {},
   "outputs": [
    {
     "name": "stdout",
     "output_type": "stream",
     "text": [
      "Wall time: 2.17 s\n"
     ]
    }
   ],
   "source": [
    "%%time\n",
    "dfp.parse()"
   ]
  },
  {
   "cell_type": "code",
   "execution_count": 47,
   "metadata": {},
   "outputs": [
    {
     "data": {
      "text/plain": [
       "<DecFileParser: decfile(s)=['data/DECAY_LHCB.DEC'], n_decays=506>"
      ]
     },
     "execution_count": 47,
     "metadata": {},
     "output_type": "execute_result"
    }
   ],
   "source": [
    "dfp"
   ]
  },
  {
   "cell_type": "markdown",
   "metadata": {
    "slideshow": {
     "slide_type": "subslide"
    }
   },
   "source": [
    "Let's parse and play with a small decay file:"
   ]
  },
  {
   "cell_type": "code",
   "execution_count": 48,
   "metadata": {},
   "outputs": [
    {
     "name": "stdout",
     "output_type": "stream",
     "text": [
      "# Example decay chain for testing purposes\n",
      "# Considered by itself, this file in in fact incomplete,\n",
      "# as there are no instructions on how to decay the anti-D0 and the D-!\n",
      "\n",
      "Decay D*+\n",
      "0.6770    D0  pi+                    VSS;\n",
      "0.3070    D+  pi0                    VSS;\n",
      "0.0160    D+  gamma                  VSP_PWAVE;\n",
      "Enddecay\n",
      "\n",
      "Decay D*-\n",
      "0.6770    anti-D0  pi-                VSS;\n",
      "0.3070    D-       pi0                VSS;\n",
      "0.0160    D-       gamma              VSP_PWAVE;\n",
      "Enddecay\n",
      "\n",
      "Decay D0\n",
      "1.0   K-      pi+                  PHSP;\n",
      "Enddecay\n",
      "\n",
      "Decay D+\n",
      "1.0   K-   pi+   pi+   pi0    PHSP;\n",
      "Enddecay\n",
      "\n",
      "Decay pi0\n",
      "0.988228297   gamma   gamma                   PHSP;\n",
      "0.011738247   e+      e-      gamma           PI0_DALITZ;\n",
      "0.000033392   e+      e+      e-      e-      PHSP;\n",
      "0.000000065   e+      e-                      PHSP;\n",
      "Enddecay\n",
      "\n"
     ]
    }
   ],
   "source": [
    "with open('data/Dst.dec') as f:\n",
    "    print(f.read())"
   ]
  },
  {
   "cell_type": "code",
   "execution_count": 49,
   "metadata": {
    "slideshow": {
     "slide_type": "subslide"
    }
   },
   "outputs": [
    {
     "data": {
      "text/plain": [
       "<DecFileParser: decfile(s)=['data/Dst.dec']>"
      ]
     },
     "execution_count": 49,
     "metadata": {},
     "output_type": "execute_result"
    }
   ],
   "source": [
    "dfp_Dst = DecFileParser('data/Dst.dec')\n",
    "dfp_Dst"
   ]
  },
  {
   "cell_type": "code",
   "execution_count": 50,
   "metadata": {},
   "outputs": [
    {
     "data": {
      "text/plain": [
       "<DecFileParser: decfile(s)=['data/Dst.dec'], n_decays=5>"
      ]
     },
     "execution_count": 50,
     "metadata": {},
     "output_type": "execute_result"
    }
   ],
   "source": [
    "dfp_Dst.parse()\n",
    "dfp_Dst"
   ]
  },
  {
   "cell_type": "markdown",
   "metadata": {
    "slideshow": {
     "slide_type": "subslide"
    }
   },
   "source": [
    "It can be handy to **parse from a multi-line string** rather than a file:"
   ]
  },
  {
   "cell_type": "code",
   "execution_count": 51,
   "metadata": {},
   "outputs": [],
   "source": [
    "s = \"\"\"\n",
    "# Decay file for [B_c+ -> (B_s0 -> K+ K-) pi+]cc\n",
    "\n",
    "Alias      B_c+sig        B_c+\n",
    "Alias      B_c-sig        B_c-\n",
    "ChargeConj B_c+sig        B_c-sig\n",
    "Alias      MyB_s0         B_s0\n",
    "Alias      Myanti-B_s0    anti-B_s0\n",
    "ChargeConj MyB_s0         Myanti-B_s0\n",
    "\n",
    "Decay B_c+sig\n",
    "  1.000     MyB_s0     pi+     PHOTOS PHSP;\n",
    "Enddecay\n",
    "CDecay B_c-sig\n",
    "\n",
    "Decay MyB_s0\n",
    "    1.000     K+     K-     SSD_CP 20.e12 0.1 1.0 0.04 9.6 -0.8 8.4 -0.6;\n",
    "Enddecay\n",
    "CDecay Myanti-B_s0\n",
    "\"\"\""
   ]
  },
  {
   "cell_type": "code",
   "execution_count": 52,
   "metadata": {
    "slideshow": {
     "slide_type": "subslide"
    }
   },
   "outputs": [
    {
     "data": {
      "text/plain": [
       "<DecFileParser: decfile(s)=<dec file input as a string>, n_decays=4>"
      ]
     },
     "execution_count": 52,
     "metadata": {},
     "output_type": "execute_result"
    }
   ],
   "source": [
    "dfp = DecFileParser.from_string(s)\n",
    "dfp.parse()\n",
    "dfp"
   ]
  },
  {
   "cell_type": "markdown",
   "metadata": {
    "slideshow": {
     "slide_type": "subslide"
    }
   },
   "source": [
    "#### Decay file information"
   ]
  },
  {
   "cell_type": "code",
   "execution_count": 53,
   "metadata": {},
   "outputs": [
    {
     "name": "stdout",
     "output_type": "stream",
     "text": [
      "       0.677 : D0  pi+                                                        VSS \n",
      "       0.307 : D+  pi0                                                        VSS \n",
      "       0.016 : D+  gamma                                                VSP_PWAVE \n"
     ]
    }
   ],
   "source": [
    "dfp_Dst.print_decay_modes('D*+')"
   ]
  },
  {
   "cell_type": "code",
   "execution_count": 54,
   "metadata": {},
   "outputs": [
    {
     "data": {
      "text/plain": [
       "['D*+', 'D*-', 'D0', 'D+', 'pi0']"
      ]
     },
     "execution_count": 54,
     "metadata": {},
     "output_type": "execute_result"
    }
   ],
   "source": [
    "dfp_Dst.list_decay_mother_names()"
   ]
  },
  {
   "cell_type": "code",
   "execution_count": 55,
   "metadata": {},
   "outputs": [
    {
     "data": {
      "text/plain": [
       "[['D0', 'pi+'], ['D+', 'pi0'], ['D+', 'gamma']]"
      ]
     },
     "execution_count": 55,
     "metadata": {},
     "output_type": "execute_result"
    }
   ],
   "source": [
    "dfp_Dst.list_decay_modes('D*+')"
   ]
  },
  {
   "cell_type": "markdown",
   "metadata": {
    "slideshow": {
     "slide_type": "subslide"
    }
   },
   "source": [
    "#### Info such as particle aliases"
   ]
  },
  {
   "cell_type": "code",
   "execution_count": 56,
   "metadata": {},
   "outputs": [
    {
     "data": {
      "text/plain": [
       "{'B_c+sig': 'B_c+',\n",
       " 'B_c-sig': 'B_c-',\n",
       " 'MyB_s0': 'B_s0',\n",
       " 'Myanti-B_s0': 'anti-B_s0'}"
      ]
     },
     "execution_count": 56,
     "metadata": {},
     "output_type": "execute_result"
    }
   ],
   "source": [
    "dfp.dict_aliases()"
   ]
  },
  {
   "cell_type": "code",
   "execution_count": 57,
   "metadata": {},
   "outputs": [
    {
     "data": {
      "text/plain": [
       "{'B_c+sig': 'B_c-sig', 'MyB_s0': 'Myanti-B_s0'}"
      ]
     },
     "execution_count": 57,
     "metadata": {},
     "output_type": "execute_result"
    }
   ],
   "source": [
    "dfp.dict_charge_conjugates()"
   ]
  },
  {
   "cell_type": "markdown",
   "metadata": {
    "slideshow": {
     "slide_type": "slide"
    }
   },
   "source": [
    "### **3.  Display of decay chains**\n",
    "\n",
    "The parser can provide a simple `dict` representation of any decay chain found in the input decay file(s). Being generic and simple, that is what is used as input information for the viewer class (see below)."
   ]
  },
  {
   "cell_type": "code",
   "execution_count": 58,
   "metadata": {},
   "outputs": [
    {
     "data": {
      "text/plain": [
       "{'D+': [{'bf': 1.0,\n",
       "   'fs': ['K-',\n",
       "    'pi+',\n",
       "    'pi+',\n",
       "    {'pi0': [{'bf': 0.988228297,\n",
       "       'fs': ['gamma', 'gamma'],\n",
       "       'model': 'PHSP',\n",
       "       'model_params': ''},\n",
       "      {'bf': 0.011738247,\n",
       "       'fs': ['e+', 'e-', 'gamma'],\n",
       "       'model': 'PI0_DALITZ',\n",
       "       'model_params': ''},\n",
       "      {'bf': 3.3392e-05,\n",
       "       'fs': ['e+', 'e+', 'e-', 'e-'],\n",
       "       'model': 'PHSP',\n",
       "       'model_params': ''},\n",
       "      {'bf': 6.5e-08,\n",
       "       'fs': ['e+', 'e-'],\n",
       "       'model': 'PHSP',\n",
       "       'model_params': ''}]}],\n",
       "   'model': 'PHSP',\n",
       "   'model_params': ''}]}"
      ]
     },
     "execution_count": 58,
     "metadata": {},
     "output_type": "execute_result"
    }
   ],
   "source": [
    "dc = dfp_Dst.build_decay_chains('D+')\n",
    "dc"
   ]
  },
  {
   "cell_type": "code",
   "execution_count": 59,
   "metadata": {
    "slideshow": {
     "slide_type": "subslide"
    }
   },
   "outputs": [],
   "source": [
    "from decaylanguage import DecayChainViewer"
   ]
  },
  {
   "cell_type": "code",
   "execution_count": 60,
   "metadata": {
    "slideshow": {
     "slide_type": "-"
    }
   },
   "outputs": [
    {
     "data": {
      "image/svg+xml": [
       "<?xml version=\"1.0\" encoding=\"UTF-8\" standalone=\"no\"?>\r\n",
       "<!DOCTYPE svg PUBLIC \"-//W3C//DTD SVG 1.1//EN\"\r\n",
       " \"http://www.w3.org/Graphics/SVG/1.1/DTD/svg11.dtd\">\r\n",
       "<!-- Generated by graphviz version 2.38.0 (20140413.2041)\r\n",
       " -->\r\n",
       "<!-- Title: DecayChainGraph Pages: 1 -->\r\n",
       "<svg width=\"365pt\" height=\"206pt\"\r\n",
       " viewBox=\"0.00 0.00 365.33 206.00\" xmlns=\"http://www.w3.org/2000/svg\" xmlns:xlink=\"http://www.w3.org/1999/xlink\">\r\n",
       "<g id=\"graph0\" class=\"graph\" transform=\"scale(1 1) rotate(0) translate(4 202)\">\r\n",
       "<title>DecayChainGraph</title>\r\n",
       "<polygon fill=\"white\" stroke=\"none\" points=\"-4,4 -4,-202 361.331,-202 361.331,4 -4,4\"/>\r\n",
       "<!-- mother -->\r\n",
       "<g id=\"node1\" class=\"node\"><title>mother</title>\r\n",
       "<polygon fill=\"#568dba\" stroke=\"none\" points=\"13.5,-123 13.5,-147 40.5,-147 40.5,-123 13.5,-123\"/>\r\n",
       "<polygon fill=\"none\" stroke=\"black\" points=\"14,-123 14,-147 41,-147 41,-123 14,-123\"/>\r\n",
       "<text text-anchor=\"start\" x=\"20\" y=\"-133.2\" font-family=\"Helvetica,sans-Serif\" font-size=\"11.00\">D</text>\r\n",
       "<text text-anchor=\"start\" x=\"29\" y=\"-133.2\" font-family=\"Helvetica,sans-Serif\" baseline-shift=\"super\" font-size=\"11.00\">+</text>\r\n",
       "</g>\r\n",
       "<!-- dec0 -->\r\n",
       "<g id=\"node2\" class=\"node\"><title>dec0</title>\r\n",
       "<polygon fill=\"#9abad6\" stroke=\"none\" points=\"118,-87 118,-183 144,-183 144,-87 118,-87\"/>\r\n",
       "<polygon fill=\"none\" stroke=\"black\" points=\"118,-159 118,-183 144,-183 144,-159 118,-159\"/>\r\n",
       "<text text-anchor=\"start\" x=\"125\" y=\"-169.2\" font-family=\"Helvetica,sans-Serif\" font-size=\"11.00\">K</text>\r\n",
       "<text text-anchor=\"start\" x=\"133\" y=\"-169.2\" font-family=\"Helvetica,sans-Serif\" baseline-shift=\"super\" font-size=\"11.00\">&#45;</text>\r\n",
       "<polygon fill=\"none\" stroke=\"black\" points=\"118,-135 118,-159 144,-159 144,-135 118,-135\"/>\r\n",
       "<text text-anchor=\"start\" x=\"124\" y=\"-145.2\" font-family=\"Helvetica,sans-Serif\" font-size=\"11.00\">π</text>\r\n",
       "<text text-anchor=\"start\" x=\"132\" y=\"-145.2\" font-family=\"Helvetica,sans-Serif\" baseline-shift=\"super\" font-size=\"11.00\">+</text>\r\n",
       "<polygon fill=\"none\" stroke=\"black\" points=\"118,-111 118,-135 144,-135 144,-111 118,-111\"/>\r\n",
       "<text text-anchor=\"start\" x=\"124\" y=\"-121.2\" font-family=\"Helvetica,sans-Serif\" font-size=\"11.00\">π</text>\r\n",
       "<text text-anchor=\"start\" x=\"132\" y=\"-121.2\" font-family=\"Helvetica,sans-Serif\" baseline-shift=\"super\" font-size=\"11.00\">+</text>\r\n",
       "<polygon fill=\"none\" stroke=\"black\" points=\"118,-87 118,-111 144,-111 144,-87 118,-87\"/>\r\n",
       "<text text-anchor=\"start\" x=\"124\" y=\"-97.2\" font-family=\"Helvetica,sans-Serif\" font-size=\"11.00\">π</text>\r\n",
       "<text text-anchor=\"start\" x=\"132\" y=\"-97.2\" font-family=\"Helvetica,sans-Serif\" baseline-shift=\"super\" font-size=\"11.00\">0</text>\r\n",
       "</g>\r\n",
       "<!-- mother&#45;&gt;dec0 -->\r\n",
       "<g id=\"edge1\" class=\"edge\"><title>mother&#45;&gt;dec0</title>\r\n",
       "<path fill=\"none\" stroke=\"black\" d=\"M54.0028,-135C66.0187,-135 80.4941,-135 93.5735,-135\"/>\r\n",
       "<polygon fill=\"black\" stroke=\"black\" points=\"93.69,-138.5 103.69,-135 93.69,-131.5 93.69,-138.5\"/>\r\n",
       "<text text-anchor=\"middle\" x=\"79\" y=\"-138.2\" font-family=\"Times New Roman,serif\" font-size=\"11.00\" fill=\"#4c4c4c\">1.0</text>\r\n",
       "</g>\r\n",
       "<!-- dec1 -->\r\n",
       "<g id=\"node3\" class=\"node\"><title>dec1</title>\r\n",
       "<ellipse fill=\"#eef3f8\" stroke=\"black\" cx=\"303.666\" cy=\"-180\" rx=\"27\" ry=\"18\"/>\r\n",
       "<polygon fill=\"#eef3f8\" stroke=\"none\" points=\"293.666,-172 293.666,-188 313.666,-188 313.666,-172 293.666,-172\"/>\r\n",
       "<text text-anchor=\"start\" x=\"295.666\" y=\"-177.2\" font-family=\"Helvetica,sans-Serif\" font-size=\"11.00\">γ</text>\r\n",
       "<text text-anchor=\"start\" x=\"305.666\" y=\"-177.2\" font-family=\"Helvetica,sans-Serif\" font-size=\"11.00\">γ</text>\r\n",
       "</g>\r\n",
       "<!-- dec0&#45;&gt;dec1 -->\r\n",
       "<g id=\"edge2\" class=\"edge\"><title>dec0:p3&#45;&gt;dec1</title>\r\n",
       "<path fill=\"none\" stroke=\"black\" d=\"M145,-99C162.7,-99 160.887,-114.787 176,-124 206.219,-142.422 243.563,-158.173 269.849,-168.235\"/>\r\n",
       "<polygon fill=\"black\" stroke=\"black\" points=\"268.751,-171.561 279.343,-171.806 271.216,-165.009 268.751,-171.561\"/>\r\n",
       "<text text-anchor=\"middle\" x=\"204\" y=\"-154.2\" font-family=\"Times New Roman,serif\" font-size=\"11.00\" fill=\"#4c4c4c\">0.988228297</text>\r\n",
       "</g>\r\n",
       "<!-- dec2 -->\r\n",
       "<g id=\"node4\" class=\"node\"><title>dec2</title>\r\n",
       "<ellipse fill=\"#eef3f8\" stroke=\"black\" cx=\"303.666\" cy=\"-126\" rx=\"38.8154\" ry=\"18\"/>\r\n",
       "<polygon fill=\"#eef3f8\" stroke=\"none\" points=\"282.666,-118 282.666,-134 324.666,-134 324.666,-118 282.666,-118\"/>\r\n",
       "<text text-anchor=\"start\" x=\"284.666\" y=\"-124.2\" font-family=\"Helvetica,sans-Serif\" font-size=\"11.00\">e</text>\r\n",
       "<text text-anchor=\"start\" x=\"291.666\" y=\"-124.2\" font-family=\"Helvetica,sans-Serif\" baseline-shift=\"super\" font-size=\"11.00\">+</text>\r\n",
       "<text text-anchor=\"start\" x=\"301.666\" y=\"-124.2\" font-family=\"Helvetica,sans-Serif\" font-size=\"11.00\">e</text>\r\n",
       "<text text-anchor=\"start\" x=\"308.666\" y=\"-124.2\" font-family=\"Helvetica,sans-Serif\" baseline-shift=\"super\" font-size=\"11.00\">&#45;</text>\r\n",
       "<text text-anchor=\"start\" x=\"316.666\" y=\"-123.2\" font-family=\"Helvetica,sans-Serif\" font-size=\"11.00\">γ</text>\r\n",
       "</g>\r\n",
       "<!-- dec0&#45;&gt;dec2 -->\r\n",
       "<g id=\"edge3\" class=\"edge\"><title>dec0:p3&#45;&gt;dec2</title>\r\n",
       "<path fill=\"none\" stroke=\"black\" d=\"M145,-99C184.343,-99 228.425,-107.269 259.953,-114.654\"/>\r\n",
       "<polygon fill=\"black\" stroke=\"black\" points=\"259.185,-118.069 269.727,-117.009 260.825,-111.264 259.185,-118.069\"/>\r\n",
       "<text text-anchor=\"middle\" x=\"204\" y=\"-111.2\" font-family=\"Times New Roman,serif\" font-size=\"11.00\" fill=\"#4c4c4c\">0.011738247</text>\r\n",
       "</g>\r\n",
       "<!-- dec3 -->\r\n",
       "<g id=\"node5\" class=\"node\"><title>dec3</title>\r\n",
       "<ellipse fill=\"#eef3f8\" stroke=\"black\" cx=\"303.666\" cy=\"-72\" rx=\"53.8318\" ry=\"18\"/>\r\n",
       "<polygon fill=\"#eef3f8\" stroke=\"none\" points=\"271.666,-64 271.666,-80 335.666,-80 335.666,-64 271.666,-64\"/>\r\n",
       "<text text-anchor=\"start\" x=\"273.666\" y=\"-70.2\" font-family=\"Helvetica,sans-Serif\" font-size=\"11.00\">e</text>\r\n",
       "<text text-anchor=\"start\" x=\"280.666\" y=\"-70.2\" font-family=\"Helvetica,sans-Serif\" baseline-shift=\"super\" font-size=\"11.00\">+</text>\r\n",
       "<text text-anchor=\"start\" x=\"290.666\" y=\"-70.2\" font-family=\"Helvetica,sans-Serif\" font-size=\"11.00\">e</text>\r\n",
       "<text text-anchor=\"start\" x=\"297.666\" y=\"-70.2\" font-family=\"Helvetica,sans-Serif\" baseline-shift=\"super\" font-size=\"11.00\">+</text>\r\n",
       "<text text-anchor=\"start\" x=\"307.666\" y=\"-70.2\" font-family=\"Helvetica,sans-Serif\" font-size=\"11.00\">e</text>\r\n",
       "<text text-anchor=\"start\" x=\"314.666\" y=\"-70.2\" font-family=\"Helvetica,sans-Serif\" baseline-shift=\"super\" font-size=\"11.00\">&#45;</text>\r\n",
       "<text text-anchor=\"start\" x=\"322.666\" y=\"-70.2\" font-family=\"Helvetica,sans-Serif\" font-size=\"11.00\">e</text>\r\n",
       "<text text-anchor=\"start\" x=\"329.666\" y=\"-70.2\" font-family=\"Helvetica,sans-Serif\" baseline-shift=\"super\" font-size=\"11.00\">&#45;</text>\r\n",
       "</g>\r\n",
       "<!-- dec0&#45;&gt;dec3 -->\r\n",
       "<g id=\"edge4\" class=\"edge\"><title>dec0:p3&#45;&gt;dec3</title>\r\n",
       "<path fill=\"none\" stroke=\"black\" d=\"M145,-99C160.306,-99 161.259,-88.1203 176,-84 196.292,-78.3281 219.047,-75.217 239.613,-73.5457\"/>\r\n",
       "<polygon fill=\"black\" stroke=\"black\" points=\"240.101,-77.0198 249.827,-72.8165 239.603,-70.0376 240.101,-77.0198\"/>\r\n",
       "<text text-anchor=\"middle\" x=\"204\" y=\"-87.2\" font-family=\"Times New Roman,serif\" font-size=\"11.00\" fill=\"#4c4c4c\">3.3392e&#45;05</text>\r\n",
       "</g>\r\n",
       "<!-- dec4 -->\r\n",
       "<g id=\"node6\" class=\"node\"><title>dec4</title>\r\n",
       "<ellipse fill=\"#eef3f8\" stroke=\"black\" cx=\"303.666\" cy=\"-18\" rx=\"32.4\" ry=\"18\"/>\r\n",
       "<polygon fill=\"#eef3f8\" stroke=\"none\" points=\"287.666,-10 287.666,-26 319.666,-26 319.666,-10 287.666,-10\"/>\r\n",
       "<text text-anchor=\"start\" x=\"289.666\" y=\"-16.2\" font-family=\"Helvetica,sans-Serif\" font-size=\"11.00\">e</text>\r\n",
       "<text text-anchor=\"start\" x=\"296.666\" y=\"-16.2\" font-family=\"Helvetica,sans-Serif\" baseline-shift=\"super\" font-size=\"11.00\">+</text>\r\n",
       "<text text-anchor=\"start\" x=\"306.666\" y=\"-16.2\" font-family=\"Helvetica,sans-Serif\" font-size=\"11.00\">e</text>\r\n",
       "<text text-anchor=\"start\" x=\"313.666\" y=\"-16.2\" font-family=\"Helvetica,sans-Serif\" baseline-shift=\"super\" font-size=\"11.00\">&#45;</text>\r\n",
       "</g>\r\n",
       "<!-- dec0&#45;&gt;dec4 -->\r\n",
       "<g id=\"edge5\" class=\"edge\"><title>dec0:p3&#45;&gt;dec4</title>\r\n",
       "<path fill=\"none\" stroke=\"black\" d=\"M131,-86C131,-30.2186 210.316,-18.8516 261.12,-17.2922\"/>\r\n",
       "<polygon fill=\"black\" stroke=\"black\" points=\"261.249,-20.7905 271.18,-17.0983 261.114,-13.7918 261.249,-20.7905\"/>\r\n",
       "<text text-anchor=\"middle\" x=\"204\" y=\"-35.2\" font-family=\"Times New Roman,serif\" font-size=\"11.00\" fill=\"#4c4c4c\">6.5e&#45;08</text>\r\n",
       "</g>\r\n",
       "</g>\r\n",
       "</svg>\r\n"
      ],
      "text/plain": [
       "<decaylanguage.decay.viewer.DecayChainViewer at 0x26dda208d88>"
      ]
     },
     "execution_count": 60,
     "metadata": {},
     "output_type": "execute_result"
    }
   ],
   "source": [
    "DecayChainViewer(dc)"
   ]
  },
  {
   "cell_type": "code",
   "execution_count": 61,
   "metadata": {
    "slideshow": {
     "slide_type": "subslide"
    }
   },
   "outputs": [
    {
     "data": {
      "image/svg+xml": [
       "<?xml version=\"1.0\" encoding=\"UTF-8\" standalone=\"no\"?>\r\n",
       "<!DOCTYPE svg PUBLIC \"-//W3C//DTD SVG 1.1//EN\"\r\n",
       " \"http://www.w3.org/Graphics/SVG/1.1/DTD/svg11.dtd\">\r\n",
       "<!-- Generated by graphviz version 2.38.0 (20140413.2041)\r\n",
       " -->\r\n",
       "<!-- Title: DecayChainGraph Pages: 1 -->\r\n",
       "<svg width=\"601pt\" height=\"587pt\"\r\n",
       " viewBox=\"0.00 0.00 600.66 587.00\" xmlns=\"http://www.w3.org/2000/svg\" xmlns:xlink=\"http://www.w3.org/1999/xlink\">\r\n",
       "<g id=\"graph0\" class=\"graph\" transform=\"scale(1 1) rotate(0) translate(4 583)\">\r\n",
       "<title>DecayChainGraph</title>\r\n",
       "<polygon fill=\"white\" stroke=\"none\" points=\"-4,4 -4,-583 596.663,-583 596.663,4 -4,4\"/>\r\n",
       "<!-- mother -->\r\n",
       "<g id=\"node1\" class=\"node\"><title>mother</title>\r\n",
       "<polygon fill=\"#568dba\" stroke=\"none\" points=\"8,-331 8,-355 71,-355 71,-331 8,-331\"/>\r\n",
       "<polygon fill=\"none\" stroke=\"black\" points=\"8.5,-331 8.5,-355 71.5,-355 71.5,-331 8.5,-331\"/>\r\n",
       "<text text-anchor=\"start\" x=\"14.5\" y=\"-341.2\" font-family=\"Helvetica,sans-Serif\" font-size=\"11.00\">D</text>\r\n",
       "<text text-anchor=\"start\" x=\"23.5\" y=\"-341.2\" font-family=\"Helvetica,sans-Serif\" baseline-shift=\"super\" font-size=\"11.00\">*</text>\r\n",
       "<text text-anchor=\"start\" x=\"27.5\" y=\"-341.2\" font-family=\"Helvetica,sans-Serif\" font-size=\"11.00\">(2010)</text>\r\n",
       "<text text-anchor=\"start\" x=\"59.5\" y=\"-341.2\" font-family=\"Helvetica,sans-Serif\" baseline-shift=\"super\" font-size=\"11.00\">+</text>\r\n",
       "</g>\r\n",
       "<!-- dec5 -->\r\n",
       "<g id=\"node2\" class=\"node\"><title>dec5</title>\r\n",
       "<polygon fill=\"#9abad6\" stroke=\"none\" points=\"153.5,-459 153.5,-507 180.5,-507 180.5,-459 153.5,-459\"/>\r\n",
       "<polygon fill=\"none\" stroke=\"black\" points=\"154,-483 154,-507 181,-507 181,-483 154,-483\"/>\r\n",
       "<text text-anchor=\"start\" x=\"160\" y=\"-493.2\" font-family=\"Helvetica,sans-Serif\" font-size=\"11.00\">D</text>\r\n",
       "<text text-anchor=\"start\" x=\"169\" y=\"-493.2\" font-family=\"Helvetica,sans-Serif\" baseline-shift=\"super\" font-size=\"11.00\">0</text>\r\n",
       "<polygon fill=\"none\" stroke=\"black\" points=\"154,-459 154,-483 181,-483 181,-459 154,-459\"/>\r\n",
       "<text text-anchor=\"start\" x=\"160.5\" y=\"-469.2\" font-family=\"Helvetica,sans-Serif\" font-size=\"11.00\">π</text>\r\n",
       "<text text-anchor=\"start\" x=\"168.5\" y=\"-469.2\" font-family=\"Helvetica,sans-Serif\" baseline-shift=\"super\" font-size=\"11.00\">+</text>\r\n",
       "</g>\r\n",
       "<!-- mother&#45;&gt;dec5 -->\r\n",
       "<g id=\"edge1\" class=\"edge\"><title>mother&#45;&gt;dec5</title>\r\n",
       "<path fill=\"none\" stroke=\"black\" d=\"M56.65,-361.016C76.1352,-382.752 109.354,-419.809 134.078,-447.389\"/>\r\n",
       "<polygon fill=\"black\" stroke=\"black\" points=\"131.526,-449.787 140.807,-454.896 136.738,-445.114 131.526,-449.787\"/>\r\n",
       "<text text-anchor=\"middle\" x=\"109.5\" y=\"-436.2\" font-family=\"Times New Roman,serif\" font-size=\"11.00\" fill=\"#4c4c4c\">0.677</text>\r\n",
       "</g>\r\n",
       "<!-- dec7 -->\r\n",
       "<g id=\"node4\" class=\"node\"><title>dec7</title>\r\n",
       "<polygon fill=\"#9abad6\" stroke=\"none\" points=\"153.5,-319 153.5,-367 180.5,-367 180.5,-319 153.5,-319\"/>\r\n",
       "<polygon fill=\"none\" stroke=\"black\" points=\"154,-343 154,-367 181,-367 181,-343 154,-343\"/>\r\n",
       "<text text-anchor=\"start\" x=\"160\" y=\"-353.2\" font-family=\"Helvetica,sans-Serif\" font-size=\"11.00\">D</text>\r\n",
       "<text text-anchor=\"start\" x=\"169\" y=\"-353.2\" font-family=\"Helvetica,sans-Serif\" baseline-shift=\"super\" font-size=\"11.00\">+</text>\r\n",
       "<polygon fill=\"none\" stroke=\"black\" points=\"154,-319 154,-343 181,-343 181,-319 154,-319\"/>\r\n",
       "<text text-anchor=\"start\" x=\"160.5\" y=\"-329.2\" font-family=\"Helvetica,sans-Serif\" font-size=\"11.00\">π</text>\r\n",
       "<text text-anchor=\"start\" x=\"168.5\" y=\"-329.2\" font-family=\"Helvetica,sans-Serif\" baseline-shift=\"super\" font-size=\"11.00\">0</text>\r\n",
       "</g>\r\n",
       "<!-- mother&#45;&gt;dec7 -->\r\n",
       "<g id=\"edge3\" class=\"edge\"><title>mother&#45;&gt;dec7</title>\r\n",
       "<path fill=\"none\" stroke=\"black\" d=\"M79.1782,-343C95.2119,-343 113.717,-343 129.513,-343\"/>\r\n",
       "<polygon fill=\"black\" stroke=\"black\" points=\"129.952,-346.5 139.952,-343 129.952,-339.5 129.952,-346.5\"/>\r\n",
       "<text text-anchor=\"middle\" x=\"109.5\" y=\"-346.2\" font-family=\"Times New Roman,serif\" font-size=\"11.00\" fill=\"#4c4c4c\">0.307</text>\r\n",
       "</g>\r\n",
       "<!-- dec17 -->\r\n",
       "<g id=\"node14\" class=\"node\"><title>dec17</title>\r\n",
       "<polygon fill=\"#9abad6\" stroke=\"none\" points=\"153.5,-186 153.5,-234 180.5,-234 180.5,-186 153.5,-186\"/>\r\n",
       "<polygon fill=\"none\" stroke=\"black\" points=\"154,-210 154,-234 181,-234 181,-210 154,-210\"/>\r\n",
       "<text text-anchor=\"start\" x=\"160\" y=\"-220.2\" font-family=\"Helvetica,sans-Serif\" font-size=\"11.00\">D</text>\r\n",
       "<text text-anchor=\"start\" x=\"169\" y=\"-220.2\" font-family=\"Helvetica,sans-Serif\" baseline-shift=\"super\" font-size=\"11.00\">+</text>\r\n",
       "<polygon fill=\"none\" stroke=\"black\" points=\"154,-186 154,-210 181,-210 181,-186 154,-186\"/>\r\n",
       "<text text-anchor=\"start\" x=\"164.5\" y=\"-195.2\" font-family=\"Helvetica,sans-Serif\" font-size=\"11.00\">γ</text>\r\n",
       "</g>\r\n",
       "<!-- mother&#45;&gt;dec17 -->\r\n",
       "<g id=\"edge13\" class=\"edge\"><title>mother&#45;&gt;dec17</title>\r\n",
       "<path fill=\"none\" stroke=\"black\" d=\"M57.6871,-324.786C76.9947,-304.324 108.789,-270.63 132.948,-245.027\"/>\r\n",
       "<polygon fill=\"black\" stroke=\"black\" points=\"135.543,-247.377 139.861,-237.702 130.452,-242.573 135.543,-247.377\"/>\r\n",
       "<text text-anchor=\"middle\" x=\"109.5\" y=\"-283.2\" font-family=\"Times New Roman,serif\" font-size=\"11.00\" fill=\"#4c4c4c\">0.016</text>\r\n",
       "</g>\r\n",
       "<!-- dec6 -->\r\n",
       "<g id=\"node3\" class=\"node\"><title>dec6</title>\r\n",
       "<ellipse fill=\"#eef3f8\" stroke=\"black\" cx=\"339.666\" cy=\"-561\" rx=\"33.5821\" ry=\"18\"/>\r\n",
       "<polygon fill=\"#eef3f8\" stroke=\"none\" points=\"322.666,-553 322.666,-569 356.666,-569 356.666,-553 322.666,-553\"/>\r\n",
       "<text text-anchor=\"start\" x=\"324.666\" y=\"-559.2\" font-family=\"Helvetica,sans-Serif\" font-size=\"11.00\">K</text>\r\n",
       "<text text-anchor=\"start\" x=\"332.666\" y=\"-559.2\" font-family=\"Helvetica,sans-Serif\" baseline-shift=\"super\" font-size=\"11.00\">&#45;</text>\r\n",
       "<text text-anchor=\"start\" x=\"340.666\" y=\"-559.2\" font-family=\"Helvetica,sans-Serif\" font-size=\"11.00\">π</text>\r\n",
       "<text text-anchor=\"start\" x=\"348.666\" y=\"-559.2\" font-family=\"Helvetica,sans-Serif\" baseline-shift=\"super\" font-size=\"11.00\">+</text>\r\n",
       "</g>\r\n",
       "<!-- dec5&#45;&gt;dec6 -->\r\n",
       "<g id=\"edge2\" class=\"edge\"><title>dec5:p0&#45;&gt;dec6</title>\r\n",
       "<path fill=\"none\" stroke=\"black\" d=\"M182,-495C194.862,-495 262.847,-525.601 304.922,-545.13\"/>\r\n",
       "<polygon fill=\"black\" stroke=\"black\" points=\"303.446,-548.303 313.989,-549.352 306.402,-541.958 303.446,-548.303\"/>\r\n",
       "<text text-anchor=\"middle\" x=\"240\" y=\"-531.2\" font-family=\"Times New Roman,serif\" font-size=\"11.00\" fill=\"#4c4c4c\">1.0</text>\r\n",
       "</g>\r\n",
       "<!-- dec8 -->\r\n",
       "<g id=\"node5\" class=\"node\"><title>dec8</title>\r\n",
       "<polygon fill=\"#9abad6\" stroke=\"none\" points=\"326.666,-425 326.666,-521 352.666,-521 352.666,-425 326.666,-425\"/>\r\n",
       "<polygon fill=\"none\" stroke=\"black\" points=\"326.666,-497 326.666,-521 352.666,-521 352.666,-497 326.666,-497\"/>\r\n",
       "<text text-anchor=\"start\" x=\"333.666\" y=\"-507.2\" font-family=\"Helvetica,sans-Serif\" font-size=\"11.00\">K</text>\r\n",
       "<text text-anchor=\"start\" x=\"341.666\" y=\"-507.2\" font-family=\"Helvetica,sans-Serif\" baseline-shift=\"super\" font-size=\"11.00\">&#45;</text>\r\n",
       "<polygon fill=\"none\" stroke=\"black\" points=\"326.666,-473 326.666,-497 352.666,-497 352.666,-473 326.666,-473\"/>\r\n",
       "<text text-anchor=\"start\" x=\"332.666\" y=\"-483.2\" font-family=\"Helvetica,sans-Serif\" font-size=\"11.00\">π</text>\r\n",
       "<text text-anchor=\"start\" x=\"340.666\" y=\"-483.2\" font-family=\"Helvetica,sans-Serif\" baseline-shift=\"super\" font-size=\"11.00\">+</text>\r\n",
       "<polygon fill=\"none\" stroke=\"black\" points=\"326.666,-449 326.666,-473 352.666,-473 352.666,-449 326.666,-449\"/>\r\n",
       "<text text-anchor=\"start\" x=\"332.666\" y=\"-459.2\" font-family=\"Helvetica,sans-Serif\" font-size=\"11.00\">π</text>\r\n",
       "<text text-anchor=\"start\" x=\"340.666\" y=\"-459.2\" font-family=\"Helvetica,sans-Serif\" baseline-shift=\"super\" font-size=\"11.00\">+</text>\r\n",
       "<polygon fill=\"none\" stroke=\"black\" points=\"326.666,-425 326.666,-449 352.666,-449 352.666,-425 326.666,-425\"/>\r\n",
       "<text text-anchor=\"start\" x=\"332.666\" y=\"-435.2\" font-family=\"Helvetica,sans-Serif\" font-size=\"11.00\">π</text>\r\n",
       "<text text-anchor=\"start\" x=\"340.666\" y=\"-435.2\" font-family=\"Helvetica,sans-Serif\" baseline-shift=\"super\" font-size=\"11.00\">0</text>\r\n",
       "</g>\r\n",
       "<!-- dec7&#45;&gt;dec8 -->\r\n",
       "<g id=\"edge4\" class=\"edge\"><title>dec7:p0&#45;&gt;dec8</title>\r\n",
       "<path fill=\"none\" stroke=\"black\" d=\"M168,-368C168,-430.651 252.461,-457.117 302.549,-467.305\"/>\r\n",
       "<polygon fill=\"black\" stroke=\"black\" points=\"301.893,-470.742 312.373,-469.185 303.209,-463.867 301.893,-470.742\"/>\r\n",
       "<text text-anchor=\"middle\" x=\"240\" y=\"-461.2\" font-family=\"Times New Roman,serif\" font-size=\"11.00\" fill=\"#4c4c4c\">1.0</text>\r\n",
       "</g>\r\n",
       "<!-- dec13 -->\r\n",
       "<g id=\"node10\" class=\"node\"><title>dec13</title>\r\n",
       "<ellipse fill=\"#eef3f8\" stroke=\"black\" cx=\"339.666\" cy=\"-385\" rx=\"27\" ry=\"18\"/>\r\n",
       "<polygon fill=\"#eef3f8\" stroke=\"none\" points=\"329.666,-377 329.666,-393 349.666,-393 349.666,-377 329.666,-377\"/>\r\n",
       "<text text-anchor=\"start\" x=\"331.666\" y=\"-382.2\" font-family=\"Helvetica,sans-Serif\" font-size=\"11.00\">γ</text>\r\n",
       "<text text-anchor=\"start\" x=\"341.666\" y=\"-382.2\" font-family=\"Helvetica,sans-Serif\" font-size=\"11.00\">γ</text>\r\n",
       "</g>\r\n",
       "<!-- dec7&#45;&gt;dec13 -->\r\n",
       "<g id=\"edge9\" class=\"edge\"><title>dec7:p1&#45;&gt;dec13</title>\r\n",
       "<path fill=\"none\" stroke=\"black\" d=\"M182,-331C197.111,-331 198.028,-341.245 212,-347 242.36,-359.505 278.33,-369.898 304.167,-376.635\"/>\r\n",
       "<polygon fill=\"black\" stroke=\"black\" points=\"303.328,-380.033 313.884,-379.122 305.064,-373.252 303.328,-380.033\"/>\r\n",
       "<text text-anchor=\"middle\" x=\"240\" y=\"-369.2\" font-family=\"Times New Roman,serif\" font-size=\"11.00\" fill=\"#4c4c4c\">0.988228297</text>\r\n",
       "</g>\r\n",
       "<!-- dec14 -->\r\n",
       "<g id=\"node11\" class=\"node\"><title>dec14</title>\r\n",
       "<ellipse fill=\"#eef3f8\" stroke=\"black\" cx=\"339.666\" cy=\"-331\" rx=\"38.8154\" ry=\"18\"/>\r\n",
       "<polygon fill=\"#eef3f8\" stroke=\"none\" points=\"318.666,-323 318.666,-339 360.666,-339 360.666,-323 318.666,-323\"/>\r\n",
       "<text text-anchor=\"start\" x=\"320.666\" y=\"-329.2\" font-family=\"Helvetica,sans-Serif\" font-size=\"11.00\">e</text>\r\n",
       "<text text-anchor=\"start\" x=\"327.666\" y=\"-329.2\" font-family=\"Helvetica,sans-Serif\" baseline-shift=\"super\" font-size=\"11.00\">+</text>\r\n",
       "<text text-anchor=\"start\" x=\"337.666\" y=\"-329.2\" font-family=\"Helvetica,sans-Serif\" font-size=\"11.00\">e</text>\r\n",
       "<text text-anchor=\"start\" x=\"344.666\" y=\"-329.2\" font-family=\"Helvetica,sans-Serif\" baseline-shift=\"super\" font-size=\"11.00\">&#45;</text>\r\n",
       "<text text-anchor=\"start\" x=\"352.666\" y=\"-328.2\" font-family=\"Helvetica,sans-Serif\" font-size=\"11.00\">γ</text>\r\n",
       "</g>\r\n",
       "<!-- dec7&#45;&gt;dec14 -->\r\n",
       "<g id=\"edge10\" class=\"edge\"><title>dec7:p1&#45;&gt;dec14</title>\r\n",
       "<path fill=\"none\" stroke=\"black\" d=\"M182,-331C218.41,-331 259.581,-331 290.577,-331\"/>\r\n",
       "<polygon fill=\"black\" stroke=\"black\" points=\"290.677,-334.5 300.677,-331 290.677,-327.5 290.677,-334.5\"/>\r\n",
       "<text text-anchor=\"middle\" x=\"240\" y=\"-334.2\" font-family=\"Times New Roman,serif\" font-size=\"11.00\" fill=\"#4c4c4c\">0.011738247</text>\r\n",
       "</g>\r\n",
       "<!-- dec15 -->\r\n",
       "<g id=\"node12\" class=\"node\"><title>dec15</title>\r\n",
       "<ellipse fill=\"#eef3f8\" stroke=\"black\" cx=\"339.666\" cy=\"-277\" rx=\"53.8318\" ry=\"18\"/>\r\n",
       "<polygon fill=\"#eef3f8\" stroke=\"none\" points=\"307.666,-269 307.666,-285 371.666,-285 371.666,-269 307.666,-269\"/>\r\n",
       "<text text-anchor=\"start\" x=\"309.666\" y=\"-275.2\" font-family=\"Helvetica,sans-Serif\" font-size=\"11.00\">e</text>\r\n",
       "<text text-anchor=\"start\" x=\"316.666\" y=\"-275.2\" font-family=\"Helvetica,sans-Serif\" baseline-shift=\"super\" font-size=\"11.00\">+</text>\r\n",
       "<text text-anchor=\"start\" x=\"326.666\" y=\"-275.2\" font-family=\"Helvetica,sans-Serif\" font-size=\"11.00\">e</text>\r\n",
       "<text text-anchor=\"start\" x=\"333.666\" y=\"-275.2\" font-family=\"Helvetica,sans-Serif\" baseline-shift=\"super\" font-size=\"11.00\">+</text>\r\n",
       "<text text-anchor=\"start\" x=\"343.666\" y=\"-275.2\" font-family=\"Helvetica,sans-Serif\" font-size=\"11.00\">e</text>\r\n",
       "<text text-anchor=\"start\" x=\"350.666\" y=\"-275.2\" font-family=\"Helvetica,sans-Serif\" baseline-shift=\"super\" font-size=\"11.00\">&#45;</text>\r\n",
       "<text text-anchor=\"start\" x=\"358.666\" y=\"-275.2\" font-family=\"Helvetica,sans-Serif\" font-size=\"11.00\">e</text>\r\n",
       "<text text-anchor=\"start\" x=\"365.666\" y=\"-275.2\" font-family=\"Helvetica,sans-Serif\" baseline-shift=\"super\" font-size=\"11.00\">&#45;</text>\r\n",
       "</g>\r\n",
       "<!-- dec7&#45;&gt;dec15 -->\r\n",
       "<g id=\"edge11\" class=\"edge\"><title>dec7:p1&#45;&gt;dec15</title>\r\n",
       "<path fill=\"none\" stroke=\"black\" d=\"M182,-331C197.111,-331 198.028,-320.755 212,-315 235.869,-305.169 263.205,-296.643 286.359,-290.173\"/>\r\n",
       "<polygon fill=\"black\" stroke=\"black\" points=\"287.285,-293.548 296.003,-287.528 285.434,-286.797 287.285,-293.548\"/>\r\n",
       "<text text-anchor=\"middle\" x=\"240\" y=\"-318.2\" font-family=\"Times New Roman,serif\" font-size=\"11.00\" fill=\"#4c4c4c\">3.3392e&#45;05</text>\r\n",
       "</g>\r\n",
       "<!-- dec16 -->\r\n",
       "<g id=\"node13\" class=\"node\"><title>dec16</title>\r\n",
       "<ellipse fill=\"#eef3f8\" stroke=\"black\" cx=\"339.666\" cy=\"-223\" rx=\"32.4\" ry=\"18\"/>\r\n",
       "<polygon fill=\"#eef3f8\" stroke=\"none\" points=\"323.666,-215 323.666,-231 355.666,-231 355.666,-215 323.666,-215\"/>\r\n",
       "<text text-anchor=\"start\" x=\"325.666\" y=\"-221.2\" font-family=\"Helvetica,sans-Serif\" font-size=\"11.00\">e</text>\r\n",
       "<text text-anchor=\"start\" x=\"332.666\" y=\"-221.2\" font-family=\"Helvetica,sans-Serif\" baseline-shift=\"super\" font-size=\"11.00\">+</text>\r\n",
       "<text text-anchor=\"start\" x=\"342.666\" y=\"-221.2\" font-family=\"Helvetica,sans-Serif\" font-size=\"11.00\">e</text>\r\n",
       "<text text-anchor=\"start\" x=\"349.666\" y=\"-221.2\" font-family=\"Helvetica,sans-Serif\" baseline-shift=\"super\" font-size=\"11.00\">&#45;</text>\r\n",
       "</g>\r\n",
       "<!-- dec7&#45;&gt;dec16 -->\r\n",
       "<g id=\"edge12\" class=\"edge\"><title>dec7:p1&#45;&gt;dec16</title>\r\n",
       "<path fill=\"none\" stroke=\"black\" d=\"M168,-318C168,-258.833 247.278,-236.188 297.769,-227.766\"/>\r\n",
       "<polygon fill=\"black\" stroke=\"black\" points=\"298.412,-231.208 307.759,-226.22 297.342,-224.29 298.412,-231.208\"/>\r\n",
       "<text text-anchor=\"middle\" x=\"240\" y=\"-256.2\" font-family=\"Times New Roman,serif\" font-size=\"11.00\" fill=\"#4c4c4c\">6.5e&#45;08</text>\r\n",
       "</g>\r\n",
       "<!-- dec9 -->\r\n",
       "<g id=\"node6\" class=\"node\"><title>dec9</title>\r\n",
       "<ellipse fill=\"#eef3f8\" stroke=\"black\" cx=\"538.997\" cy=\"-518\" rx=\"27\" ry=\"18\"/>\r\n",
       "<polygon fill=\"#eef3f8\" stroke=\"none\" points=\"528.997,-510 528.997,-526 548.997,-526 548.997,-510 528.997,-510\"/>\r\n",
       "<text text-anchor=\"start\" x=\"530.997\" y=\"-515.2\" font-family=\"Helvetica,sans-Serif\" font-size=\"11.00\">γ</text>\r\n",
       "<text text-anchor=\"start\" x=\"540.997\" y=\"-515.2\" font-family=\"Helvetica,sans-Serif\" font-size=\"11.00\">γ</text>\r\n",
       "</g>\r\n",
       "<!-- dec8&#45;&gt;dec9 -->\r\n",
       "<g id=\"edge5\" class=\"edge\"><title>dec8:p3&#45;&gt;dec9</title>\r\n",
       "<path fill=\"none\" stroke=\"black\" d=\"M353.666,-437C381.965,-437 385.497,-452.449 411.331,-464 443.455,-478.362 480.513,-494.061 506.212,-504.811\"/>\r\n",
       "<polygon fill=\"black\" stroke=\"black\" points=\"504.894,-508.054 515.471,-508.676 507.591,-501.594 504.894,-508.054\"/>\r\n",
       "<text text-anchor=\"middle\" x=\"439.331\" y=\"-491.2\" font-family=\"Times New Roman,serif\" font-size=\"11.00\" fill=\"#4c4c4c\">0.988228297</text>\r\n",
       "</g>\r\n",
       "<!-- dec10 -->\r\n",
       "<g id=\"node7\" class=\"node\"><title>dec10</title>\r\n",
       "<ellipse fill=\"#eef3f8\" stroke=\"black\" cx=\"538.997\" cy=\"-464\" rx=\"38.8154\" ry=\"18\"/>\r\n",
       "<polygon fill=\"#eef3f8\" stroke=\"none\" points=\"517.997,-456 517.997,-472 559.997,-472 559.997,-456 517.997,-456\"/>\r\n",
       "<text text-anchor=\"start\" x=\"519.997\" y=\"-462.2\" font-family=\"Helvetica,sans-Serif\" font-size=\"11.00\">e</text>\r\n",
       "<text text-anchor=\"start\" x=\"526.997\" y=\"-462.2\" font-family=\"Helvetica,sans-Serif\" baseline-shift=\"super\" font-size=\"11.00\">+</text>\r\n",
       "<text text-anchor=\"start\" x=\"536.997\" y=\"-462.2\" font-family=\"Helvetica,sans-Serif\" font-size=\"11.00\">e</text>\r\n",
       "<text text-anchor=\"start\" x=\"543.997\" y=\"-462.2\" font-family=\"Helvetica,sans-Serif\" baseline-shift=\"super\" font-size=\"11.00\">&#45;</text>\r\n",
       "<text text-anchor=\"start\" x=\"551.997\" y=\"-461.2\" font-family=\"Helvetica,sans-Serif\" font-size=\"11.00\">γ</text>\r\n",
       "</g>\r\n",
       "<!-- dec8&#45;&gt;dec10 -->\r\n",
       "<g id=\"edge6\" class=\"edge\"><title>dec8:p3&#45;&gt;dec10</title>\r\n",
       "<path fill=\"none\" stroke=\"black\" d=\"M353.666,-437C402.003,-437 456.724,-446.202 493.902,-453.862\"/>\r\n",
       "<polygon fill=\"black\" stroke=\"black\" points=\"493.396,-457.332 503.903,-455.972 494.841,-450.483 493.396,-457.332\"/>\r\n",
       "<text text-anchor=\"middle\" x=\"439.331\" y=\"-451.2\" font-family=\"Times New Roman,serif\" font-size=\"11.00\" fill=\"#4c4c4c\">0.011738247</text>\r\n",
       "</g>\r\n",
       "<!-- dec11 -->\r\n",
       "<g id=\"node8\" class=\"node\"><title>dec11</title>\r\n",
       "<ellipse fill=\"#eef3f8\" stroke=\"black\" cx=\"538.997\" cy=\"-410\" rx=\"53.8318\" ry=\"18\"/>\r\n",
       "<polygon fill=\"#eef3f8\" stroke=\"none\" points=\"506.997,-402 506.997,-418 570.997,-418 570.997,-402 506.997,-402\"/>\r\n",
       "<text text-anchor=\"start\" x=\"508.997\" y=\"-408.2\" font-family=\"Helvetica,sans-Serif\" font-size=\"11.00\">e</text>\r\n",
       "<text text-anchor=\"start\" x=\"515.997\" y=\"-408.2\" font-family=\"Helvetica,sans-Serif\" baseline-shift=\"super\" font-size=\"11.00\">+</text>\r\n",
       "<text text-anchor=\"start\" x=\"525.997\" y=\"-408.2\" font-family=\"Helvetica,sans-Serif\" font-size=\"11.00\">e</text>\r\n",
       "<text text-anchor=\"start\" x=\"532.997\" y=\"-408.2\" font-family=\"Helvetica,sans-Serif\" baseline-shift=\"super\" font-size=\"11.00\">+</text>\r\n",
       "<text text-anchor=\"start\" x=\"542.997\" y=\"-408.2\" font-family=\"Helvetica,sans-Serif\" font-size=\"11.00\">e</text>\r\n",
       "<text text-anchor=\"start\" x=\"549.997\" y=\"-408.2\" font-family=\"Helvetica,sans-Serif\" baseline-shift=\"super\" font-size=\"11.00\">&#45;</text>\r\n",
       "<text text-anchor=\"start\" x=\"557.997\" y=\"-408.2\" font-family=\"Helvetica,sans-Serif\" font-size=\"11.00\">e</text>\r\n",
       "<text text-anchor=\"start\" x=\"564.997\" y=\"-408.2\" font-family=\"Helvetica,sans-Serif\" baseline-shift=\"super\" font-size=\"11.00\">&#45;</text>\r\n",
       "</g>\r\n",
       "<!-- dec8&#45;&gt;dec11 -->\r\n",
       "<g id=\"edge7\" class=\"edge\"><title>dec8:p3&#45;&gt;dec11</title>\r\n",
       "<path fill=\"none\" stroke=\"black\" d=\"M353.666,-437C379.938,-437 385.42,-428.339 411.331,-424 432.521,-420.452 455.861,-417.581 476.672,-415.384\"/>\r\n",
       "<polygon fill=\"black\" stroke=\"black\" points=\"477.073,-418.862 486.664,-414.36 476.359,-411.898 477.073,-418.862\"/>\r\n",
       "<text text-anchor=\"middle\" x=\"439.331\" y=\"-427.2\" font-family=\"Times New Roman,serif\" font-size=\"11.00\" fill=\"#4c4c4c\">3.3392e&#45;05</text>\r\n",
       "</g>\r\n",
       "<!-- dec12 -->\r\n",
       "<g id=\"node9\" class=\"node\"><title>dec12</title>\r\n",
       "<ellipse fill=\"#eef3f8\" stroke=\"black\" cx=\"538.997\" cy=\"-356\" rx=\"32.4\" ry=\"18\"/>\r\n",
       "<polygon fill=\"#eef3f8\" stroke=\"none\" points=\"522.997,-348 522.997,-364 554.997,-364 554.997,-348 522.997,-348\"/>\r\n",
       "<text text-anchor=\"start\" x=\"524.997\" y=\"-354.2\" font-family=\"Helvetica,sans-Serif\" font-size=\"11.00\">e</text>\r\n",
       "<text text-anchor=\"start\" x=\"531.997\" y=\"-354.2\" font-family=\"Helvetica,sans-Serif\" baseline-shift=\"super\" font-size=\"11.00\">+</text>\r\n",
       "<text text-anchor=\"start\" x=\"541.997\" y=\"-354.2\" font-family=\"Helvetica,sans-Serif\" font-size=\"11.00\">e</text>\r\n",
       "<text text-anchor=\"start\" x=\"548.997\" y=\"-354.2\" font-family=\"Helvetica,sans-Serif\" baseline-shift=\"super\" font-size=\"11.00\">&#45;</text>\r\n",
       "</g>\r\n",
       "<!-- dec8&#45;&gt;dec12 -->\r\n",
       "<g id=\"edge8\" class=\"edge\"><title>dec8:p3&#45;&gt;dec12</title>\r\n",
       "<path fill=\"none\" stroke=\"black\" d=\"M353.666,-437C384.117,-437 384.061,-413.551 411.331,-400 439.95,-385.779 474.299,-374.157 500.003,-366.437\"/>\r\n",
       "<polygon fill=\"black\" stroke=\"black\" points=\"501.142,-369.75 509.749,-363.571 499.167,-363.034 501.142,-369.75\"/>\r\n",
       "<text text-anchor=\"middle\" x=\"439.331\" y=\"-403.2\" font-family=\"Times New Roman,serif\" font-size=\"11.00\" fill=\"#4c4c4c\">6.5e&#45;08</text>\r\n",
       "</g>\r\n",
       "<!-- dec18 -->\r\n",
       "<g id=\"node15\" class=\"node\"><title>dec18</title>\r\n",
       "<polygon fill=\"#9abad6\" stroke=\"none\" points=\"326.666,-87 326.666,-183 352.666,-183 352.666,-87 326.666,-87\"/>\r\n",
       "<polygon fill=\"none\" stroke=\"black\" points=\"326.666,-159 326.666,-183 352.666,-183 352.666,-159 326.666,-159\"/>\r\n",
       "<text text-anchor=\"start\" x=\"333.666\" y=\"-169.2\" font-family=\"Helvetica,sans-Serif\" font-size=\"11.00\">K</text>\r\n",
       "<text text-anchor=\"start\" x=\"341.666\" y=\"-169.2\" font-family=\"Helvetica,sans-Serif\" baseline-shift=\"super\" font-size=\"11.00\">&#45;</text>\r\n",
       "<polygon fill=\"none\" stroke=\"black\" points=\"326.666,-135 326.666,-159 352.666,-159 352.666,-135 326.666,-135\"/>\r\n",
       "<text text-anchor=\"start\" x=\"332.666\" y=\"-145.2\" font-family=\"Helvetica,sans-Serif\" font-size=\"11.00\">π</text>\r\n",
       "<text text-anchor=\"start\" x=\"340.666\" y=\"-145.2\" font-family=\"Helvetica,sans-Serif\" baseline-shift=\"super\" font-size=\"11.00\">+</text>\r\n",
       "<polygon fill=\"none\" stroke=\"black\" points=\"326.666,-111 326.666,-135 352.666,-135 352.666,-111 326.666,-111\"/>\r\n",
       "<text text-anchor=\"start\" x=\"332.666\" y=\"-121.2\" font-family=\"Helvetica,sans-Serif\" font-size=\"11.00\">π</text>\r\n",
       "<text text-anchor=\"start\" x=\"340.666\" y=\"-121.2\" font-family=\"Helvetica,sans-Serif\" baseline-shift=\"super\" font-size=\"11.00\">+</text>\r\n",
       "<polygon fill=\"none\" stroke=\"black\" points=\"326.666,-87 326.666,-111 352.666,-111 352.666,-87 326.666,-87\"/>\r\n",
       "<text text-anchor=\"start\" x=\"332.666\" y=\"-97.2\" font-family=\"Helvetica,sans-Serif\" font-size=\"11.00\">π</text>\r\n",
       "<text text-anchor=\"start\" x=\"340.666\" y=\"-97.2\" font-family=\"Helvetica,sans-Serif\" baseline-shift=\"super\" font-size=\"11.00\">0</text>\r\n",
       "</g>\r\n",
       "<!-- dec17&#45;&gt;dec18 -->\r\n",
       "<g id=\"edge14\" class=\"edge\"><title>dec17:p0&#45;&gt;dec18</title>\r\n",
       "<path fill=\"none\" stroke=\"black\" d=\"M182,-222C201.821,-222 195.845,-200.484 212,-189 239.816,-169.226 276,-154.714 302.568,-145.743\"/>\r\n",
       "<polygon fill=\"black\" stroke=\"black\" points=\"303.827,-149.014 312.242,-142.577 301.649,-142.361 303.827,-149.014\"/>\r\n",
       "<text text-anchor=\"middle\" x=\"240\" y=\"-192.2\" font-family=\"Times New Roman,serif\" font-size=\"11.00\" fill=\"#4c4c4c\">1.0</text>\r\n",
       "</g>\r\n",
       "<!-- dec19 -->\r\n",
       "<g id=\"node16\" class=\"node\"><title>dec19</title>\r\n",
       "<ellipse fill=\"#eef3f8\" stroke=\"black\" cx=\"538.997\" cy=\"-180\" rx=\"27\" ry=\"18\"/>\r\n",
       "<polygon fill=\"#eef3f8\" stroke=\"none\" points=\"528.997,-172 528.997,-188 548.997,-188 548.997,-172 528.997,-172\"/>\r\n",
       "<text text-anchor=\"start\" x=\"530.997\" y=\"-177.2\" font-family=\"Helvetica,sans-Serif\" font-size=\"11.00\">γ</text>\r\n",
       "<text text-anchor=\"start\" x=\"540.997\" y=\"-177.2\" font-family=\"Helvetica,sans-Serif\" font-size=\"11.00\">γ</text>\r\n",
       "</g>\r\n",
       "<!-- dec18&#45;&gt;dec19 -->\r\n",
       "<g id=\"edge15\" class=\"edge\"><title>dec18:p3&#45;&gt;dec19</title>\r\n",
       "<path fill=\"none\" stroke=\"black\" d=\"M353.666,-99C381.965,-99 385.497,-114.449 411.331,-126 443.455,-140.362 480.513,-156.061 506.212,-166.811\"/>\r\n",
       "<polygon fill=\"black\" stroke=\"black\" points=\"504.894,-170.054 515.471,-170.676 507.591,-163.594 504.894,-170.054\"/>\r\n",
       "<text text-anchor=\"middle\" x=\"439.331\" y=\"-153.2\" font-family=\"Times New Roman,serif\" font-size=\"11.00\" fill=\"#4c4c4c\">0.988228297</text>\r\n",
       "</g>\r\n",
       "<!-- dec20 -->\r\n",
       "<g id=\"node17\" class=\"node\"><title>dec20</title>\r\n",
       "<ellipse fill=\"#eef3f8\" stroke=\"black\" cx=\"538.997\" cy=\"-126\" rx=\"38.8154\" ry=\"18\"/>\r\n",
       "<polygon fill=\"#eef3f8\" stroke=\"none\" points=\"517.997,-118 517.997,-134 559.997,-134 559.997,-118 517.997,-118\"/>\r\n",
       "<text text-anchor=\"start\" x=\"519.997\" y=\"-124.2\" font-family=\"Helvetica,sans-Serif\" font-size=\"11.00\">e</text>\r\n",
       "<text text-anchor=\"start\" x=\"526.997\" y=\"-124.2\" font-family=\"Helvetica,sans-Serif\" baseline-shift=\"super\" font-size=\"11.00\">+</text>\r\n",
       "<text text-anchor=\"start\" x=\"536.997\" y=\"-124.2\" font-family=\"Helvetica,sans-Serif\" font-size=\"11.00\">e</text>\r\n",
       "<text text-anchor=\"start\" x=\"543.997\" y=\"-124.2\" font-family=\"Helvetica,sans-Serif\" baseline-shift=\"super\" font-size=\"11.00\">&#45;</text>\r\n",
       "<text text-anchor=\"start\" x=\"551.997\" y=\"-123.2\" font-family=\"Helvetica,sans-Serif\" font-size=\"11.00\">γ</text>\r\n",
       "</g>\r\n",
       "<!-- dec18&#45;&gt;dec20 -->\r\n",
       "<g id=\"edge16\" class=\"edge\"><title>dec18:p3&#45;&gt;dec20</title>\r\n",
       "<path fill=\"none\" stroke=\"black\" d=\"M353.666,-99C402.003,-99 456.724,-108.202 493.902,-115.862\"/>\r\n",
       "<polygon fill=\"black\" stroke=\"black\" points=\"493.396,-119.332 503.903,-117.972 494.841,-112.483 493.396,-119.332\"/>\r\n",
       "<text text-anchor=\"middle\" x=\"439.331\" y=\"-113.2\" font-family=\"Times New Roman,serif\" font-size=\"11.00\" fill=\"#4c4c4c\">0.011738247</text>\r\n",
       "</g>\r\n",
       "<!-- dec21 -->\r\n",
       "<g id=\"node18\" class=\"node\"><title>dec21</title>\r\n",
       "<ellipse fill=\"#eef3f8\" stroke=\"black\" cx=\"538.997\" cy=\"-72\" rx=\"53.8318\" ry=\"18\"/>\r\n",
       "<polygon fill=\"#eef3f8\" stroke=\"none\" points=\"506.997,-64 506.997,-80 570.997,-80 570.997,-64 506.997,-64\"/>\r\n",
       "<text text-anchor=\"start\" x=\"508.997\" y=\"-70.2\" font-family=\"Helvetica,sans-Serif\" font-size=\"11.00\">e</text>\r\n",
       "<text text-anchor=\"start\" x=\"515.997\" y=\"-70.2\" font-family=\"Helvetica,sans-Serif\" baseline-shift=\"super\" font-size=\"11.00\">+</text>\r\n",
       "<text text-anchor=\"start\" x=\"525.997\" y=\"-70.2\" font-family=\"Helvetica,sans-Serif\" font-size=\"11.00\">e</text>\r\n",
       "<text text-anchor=\"start\" x=\"532.997\" y=\"-70.2\" font-family=\"Helvetica,sans-Serif\" baseline-shift=\"super\" font-size=\"11.00\">+</text>\r\n",
       "<text text-anchor=\"start\" x=\"542.997\" y=\"-70.2\" font-family=\"Helvetica,sans-Serif\" font-size=\"11.00\">e</text>\r\n",
       "<text text-anchor=\"start\" x=\"549.997\" y=\"-70.2\" font-family=\"Helvetica,sans-Serif\" baseline-shift=\"super\" font-size=\"11.00\">&#45;</text>\r\n",
       "<text text-anchor=\"start\" x=\"557.997\" y=\"-70.2\" font-family=\"Helvetica,sans-Serif\" font-size=\"11.00\">e</text>\r\n",
       "<text text-anchor=\"start\" x=\"564.997\" y=\"-70.2\" font-family=\"Helvetica,sans-Serif\" baseline-shift=\"super\" font-size=\"11.00\">&#45;</text>\r\n",
       "</g>\r\n",
       "<!-- dec18&#45;&gt;dec21 -->\r\n",
       "<g id=\"edge17\" class=\"edge\"><title>dec18:p3&#45;&gt;dec21</title>\r\n",
       "<path fill=\"none\" stroke=\"black\" d=\"M353.666,-99C379.938,-99 385.42,-90.3388 411.331,-86 432.521,-82.4519 455.861,-79.5811 476.672,-77.3843\"/>\r\n",
       "<polygon fill=\"black\" stroke=\"black\" points=\"477.073,-80.8616 486.664,-76.36 476.359,-73.8981 477.073,-80.8616\"/>\r\n",
       "<text text-anchor=\"middle\" x=\"439.331\" y=\"-89.2\" font-family=\"Times New Roman,serif\" font-size=\"11.00\" fill=\"#4c4c4c\">3.3392e&#45;05</text>\r\n",
       "</g>\r\n",
       "<!-- dec22 -->\r\n",
       "<g id=\"node19\" class=\"node\"><title>dec22</title>\r\n",
       "<ellipse fill=\"#eef3f8\" stroke=\"black\" cx=\"538.997\" cy=\"-18\" rx=\"32.4\" ry=\"18\"/>\r\n",
       "<polygon fill=\"#eef3f8\" stroke=\"none\" points=\"522.997,-10 522.997,-26 554.997,-26 554.997,-10 522.997,-10\"/>\r\n",
       "<text text-anchor=\"start\" x=\"524.997\" y=\"-16.2\" font-family=\"Helvetica,sans-Serif\" font-size=\"11.00\">e</text>\r\n",
       "<text text-anchor=\"start\" x=\"531.997\" y=\"-16.2\" font-family=\"Helvetica,sans-Serif\" baseline-shift=\"super\" font-size=\"11.00\">+</text>\r\n",
       "<text text-anchor=\"start\" x=\"541.997\" y=\"-16.2\" font-family=\"Helvetica,sans-Serif\" font-size=\"11.00\">e</text>\r\n",
       "<text text-anchor=\"start\" x=\"548.997\" y=\"-16.2\" font-family=\"Helvetica,sans-Serif\" baseline-shift=\"super\" font-size=\"11.00\">&#45;</text>\r\n",
       "</g>\r\n",
       "<!-- dec18&#45;&gt;dec22 -->\r\n",
       "<g id=\"edge18\" class=\"edge\"><title>dec18:p3&#45;&gt;dec22</title>\r\n",
       "<path fill=\"none\" stroke=\"black\" d=\"M353.666,-99C384.117,-99 383.943,-75.311 411.331,-62 440.074,-48.0305 474.414,-36.3907 500.083,-28.599\"/>\r\n",
       "<polygon fill=\"black\" stroke=\"black\" points=\"501.227,-31.9102 509.813,-25.7031 499.23,-25.201 501.227,-31.9102\"/>\r\n",
       "<text text-anchor=\"middle\" x=\"439.331\" y=\"-65.2\" font-family=\"Times New Roman,serif\" font-size=\"11.00\" fill=\"#4c4c4c\">6.5e&#45;08</text>\r\n",
       "</g>\r\n",
       "</g>\r\n",
       "</svg>\r\n"
      ],
      "text/plain": [
       "<decaylanguage.decay.viewer.DecayChainViewer at 0x26dda1bea88>"
      ]
     },
     "execution_count": 61,
     "metadata": {},
     "output_type": "execute_result"
    }
   ],
   "source": [
    "DecayChainViewer(dfp_Dst.build_decay_chains('D*+'))"
   ]
  },
  {
   "cell_type": "code",
   "execution_count": 62,
   "metadata": {
    "slideshow": {
     "slide_type": "subslide"
    }
   },
   "outputs": [
    {
     "data": {
      "image/svg+xml": [
       "<?xml version=\"1.0\" encoding=\"UTF-8\" standalone=\"no\"?>\r\n",
       "<!DOCTYPE svg PUBLIC \"-//W3C//DTD SVG 1.1//EN\"\r\n",
       " \"http://www.w3.org/Graphics/SVG/1.1/DTD/svg11.dtd\">\r\n",
       "<!-- Generated by graphviz version 2.38.0 (20140413.2041)\r\n",
       " -->\r\n",
       "<!-- Title: DecayChainGraph Pages: 1 -->\r\n",
       "<svg width=\"219pt\" height=\"152pt\"\r\n",
       " viewBox=\"0.00 0.00 219.11 152.00\" xmlns=\"http://www.w3.org/2000/svg\" xmlns:xlink=\"http://www.w3.org/1999/xlink\">\r\n",
       "<g id=\"graph0\" class=\"graph\" transform=\"scale(1 1) rotate(0) translate(4 148)\">\r\n",
       "<title>DecayChainGraph</title>\r\n",
       "<polygon fill=\"white\" stroke=\"none\" points=\"-4,4 -4,-148 215.107,-148 215.107,4 -4,4\"/>\r\n",
       "<!-- mother -->\r\n",
       "<g id=\"node1\" class=\"node\"><title>mother</title>\r\n",
       "<polygon fill=\"#568dba\" stroke=\"none\" points=\"8,-60 8,-84 71,-84 71,-60 8,-60\"/>\r\n",
       "<polygon fill=\"none\" stroke=\"black\" points=\"8.5,-60 8.5,-84 71.5,-84 71.5,-60 8.5,-60\"/>\r\n",
       "<text text-anchor=\"start\" x=\"14.5\" y=\"-70.2\" font-family=\"Helvetica,sans-Serif\" font-size=\"11.00\">D</text>\r\n",
       "<text text-anchor=\"start\" x=\"23.5\" y=\"-70.2\" font-family=\"Helvetica,sans-Serif\" baseline-shift=\"super\" font-size=\"11.00\">*</text>\r\n",
       "<text text-anchor=\"start\" x=\"27.5\" y=\"-70.2\" font-family=\"Helvetica,sans-Serif\" font-size=\"11.00\">(2010)</text>\r\n",
       "<text text-anchor=\"start\" x=\"59.5\" y=\"-70.2\" font-family=\"Helvetica,sans-Serif\" baseline-shift=\"super\" font-size=\"11.00\">+</text>\r\n",
       "</g>\r\n",
       "<!-- dec23 -->\r\n",
       "<g id=\"node2\" class=\"node\"><title>dec23</title>\r\n",
       "<ellipse fill=\"#eef3f8\" stroke=\"black\" cx=\"175.553\" cy=\"-126\" rx=\"35.607\" ry=\"18\"/>\r\n",
       "<polygon fill=\"#eef3f8\" stroke=\"none\" points=\"157.053,-118 157.053,-134 194.053,-134 194.053,-118 157.053,-118\"/>\r\n",
       "<text text-anchor=\"start\" x=\"159.553\" y=\"-124.2\" font-family=\"Helvetica,sans-Serif\" font-size=\"11.00\">D</text>\r\n",
       "<text text-anchor=\"start\" x=\"168.553\" y=\"-124.2\" font-family=\"Helvetica,sans-Serif\" baseline-shift=\"super\" font-size=\"11.00\">0</text>\r\n",
       "<text text-anchor=\"start\" x=\"178.553\" y=\"-124.2\" font-family=\"Helvetica,sans-Serif\" font-size=\"11.00\">π</text>\r\n",
       "<text text-anchor=\"start\" x=\"186.553\" y=\"-124.2\" font-family=\"Helvetica,sans-Serif\" baseline-shift=\"super\" font-size=\"11.00\">+</text>\r\n",
       "</g>\r\n",
       "<!-- mother&#45;&gt;dec23 -->\r\n",
       "<g id=\"edge1\" class=\"edge\"><title>mother&#45;&gt;dec23</title>\r\n",
       "<path fill=\"none\" stroke=\"black\" d=\"M79.2738,-87.619C97.7578,-95.0648 119.751,-103.924 137.947,-111.254\"/>\r\n",
       "<polygon fill=\"black\" stroke=\"black\" points=\"136.764,-114.551 147.348,-115.041 139.38,-108.058 136.764,-114.551\"/>\r\n",
       "<text text-anchor=\"middle\" x=\"109.5\" y=\"-106.2\" font-family=\"Times New Roman,serif\" font-size=\"11.00\" fill=\"#4c4c4c\">0.677</text>\r\n",
       "</g>\r\n",
       "<!-- dec24 -->\r\n",
       "<g id=\"node3\" class=\"node\"><title>dec24</title>\r\n",
       "<ellipse fill=\"#eef3f8\" stroke=\"black\" cx=\"175.553\" cy=\"-72\" rx=\"35.607\" ry=\"18\"/>\r\n",
       "<polygon fill=\"#eef3f8\" stroke=\"none\" points=\"157.053,-64 157.053,-80 194.053,-80 194.053,-64 157.053,-64\"/>\r\n",
       "<text text-anchor=\"start\" x=\"159.553\" y=\"-70.2\" font-family=\"Helvetica,sans-Serif\" font-size=\"11.00\">D</text>\r\n",
       "<text text-anchor=\"start\" x=\"168.553\" y=\"-70.2\" font-family=\"Helvetica,sans-Serif\" baseline-shift=\"super\" font-size=\"11.00\">+</text>\r\n",
       "<text text-anchor=\"start\" x=\"178.553\" y=\"-70.2\" font-family=\"Helvetica,sans-Serif\" font-size=\"11.00\">π</text>\r\n",
       "<text text-anchor=\"start\" x=\"186.553\" y=\"-70.2\" font-family=\"Helvetica,sans-Serif\" baseline-shift=\"super\" font-size=\"11.00\">0</text>\r\n",
       "</g>\r\n",
       "<!-- mother&#45;&gt;dec24 -->\r\n",
       "<g id=\"edge2\" class=\"edge\"><title>mother&#45;&gt;dec24</title>\r\n",
       "<path fill=\"none\" stroke=\"black\" d=\"M79.2738,-72C95.0049,-72 113.277,-72 129.588,-72\"/>\r\n",
       "<polygon fill=\"black\" stroke=\"black\" points=\"129.977,-75.5001 139.977,-72 129.977,-68.5001 129.977,-75.5001\"/>\r\n",
       "<text text-anchor=\"middle\" x=\"109.5\" y=\"-75.2\" font-family=\"Times New Roman,serif\" font-size=\"11.00\" fill=\"#4c4c4c\">0.307</text>\r\n",
       "</g>\r\n",
       "<!-- dec25 -->\r\n",
       "<g id=\"node4\" class=\"node\"><title>dec25</title>\r\n",
       "<ellipse fill=\"#eef3f8\" stroke=\"black\" cx=\"175.553\" cy=\"-18\" rx=\"30.375\" ry=\"18\"/>\r\n",
       "<polygon fill=\"#eef3f8\" stroke=\"none\" points=\"161.053,-10 161.053,-26 190.053,-26 190.053,-10 161.053,-10\"/>\r\n",
       "<text text-anchor=\"start\" x=\"163.553\" y=\"-16.2\" font-family=\"Helvetica,sans-Serif\" font-size=\"11.00\">D</text>\r\n",
       "<text text-anchor=\"start\" x=\"172.553\" y=\"-16.2\" font-family=\"Helvetica,sans-Serif\" baseline-shift=\"super\" font-size=\"11.00\">+</text>\r\n",
       "<text text-anchor=\"start\" x=\"182.553\" y=\"-15.2\" font-family=\"Helvetica,sans-Serif\" font-size=\"11.00\">γ</text>\r\n",
       "</g>\r\n",
       "<!-- mother&#45;&gt;dec25 -->\r\n",
       "<g id=\"edge3\" class=\"edge\"><title>mother&#45;&gt;dec25</title>\r\n",
       "<path fill=\"none\" stroke=\"black\" d=\"M79.2738,-56.381C98.7649,-48.5295 122.157,-39.1064 140.886,-31.5621\"/>\r\n",
       "<polygon fill=\"black\" stroke=\"black\" points=\"142.241,-34.7894 150.209,-27.8064 139.626,-28.2964 142.241,-34.7894\"/>\r\n",
       "<text text-anchor=\"middle\" x=\"109.5\" y=\"-51.2\" font-family=\"Times New Roman,serif\" font-size=\"11.00\" fill=\"#4c4c4c\">0.016</text>\r\n",
       "</g>\r\n",
       "</g>\r\n",
       "</svg>\r\n"
      ],
      "text/plain": [
       "<decaylanguage.decay.viewer.DecayChainViewer at 0x26ddc121b88>"
      ]
     },
     "execution_count": 62,
     "metadata": {},
     "output_type": "execute_result"
    }
   ],
   "source": [
    "dc = dfp_Dst.build_decay_chains('D*+', stable_particles=['D+', 'D0', 'pi0'])\n",
    "DecayChainViewer(dc)"
   ]
  },
  {
   "cell_type": "markdown",
   "metadata": {
    "slideshow": {
     "slide_type": "subslide"
    }
   },
   "source": [
    "#### **Charge conjugation**"
   ]
  },
  {
   "cell_type": "code",
   "execution_count": 63,
   "metadata": {},
   "outputs": [
    {
     "data": {
      "image/svg+xml": [
       "<?xml version=\"1.0\" encoding=\"UTF-8\" standalone=\"no\"?>\r\n",
       "<!DOCTYPE svg PUBLIC \"-//W3C//DTD SVG 1.1//EN\"\r\n",
       " \"http://www.w3.org/Graphics/SVG/1.1/DTD/svg11.dtd\">\r\n",
       "<!-- Generated by graphviz version 2.38.0 (20140413.2041)\r\n",
       " -->\r\n",
       "<!-- Title: DecayChainGraph Pages: 1 -->\r\n",
       "<svg width=\"214pt\" height=\"152pt\"\r\n",
       " viewBox=\"0.00 0.00 214.42 152.00\" xmlns=\"http://www.w3.org/2000/svg\" xmlns:xlink=\"http://www.w3.org/1999/xlink\">\r\n",
       "<g id=\"graph0\" class=\"graph\" transform=\"scale(1 1) rotate(0) translate(4 148)\">\r\n",
       "<title>DecayChainGraph</title>\r\n",
       "<polygon fill=\"white\" stroke=\"none\" points=\"-4,4 -4,-148 210.424,-148 210.424,4 -4,4\"/>\r\n",
       "<!-- mother -->\r\n",
       "<g id=\"node1\" class=\"node\"><title>mother</title>\r\n",
       "<polygon fill=\"#568dba\" stroke=\"none\" points=\"8,-60 8,-84 69,-84 69,-60 8,-60\"/>\r\n",
       "<polygon fill=\"none\" stroke=\"black\" points=\"8.5,-60 8.5,-84 69.5,-84 69.5,-60 8.5,-60\"/>\r\n",
       "<text text-anchor=\"start\" x=\"14.5\" y=\"-70.2\" font-family=\"Helvetica,sans-Serif\" font-size=\"11.00\">D</text>\r\n",
       "<text text-anchor=\"start\" x=\"23.5\" y=\"-70.2\" font-family=\"Helvetica,sans-Serif\" baseline-shift=\"super\" font-size=\"11.00\">*</text>\r\n",
       "<text text-anchor=\"start\" x=\"27.5\" y=\"-70.2\" font-family=\"Helvetica,sans-Serif\" font-size=\"11.00\">(2010)</text>\r\n",
       "<text text-anchor=\"start\" x=\"59.5\" y=\"-70.2\" font-family=\"Helvetica,sans-Serif\" baseline-shift=\"super\" font-size=\"11.00\">&#45;</text>\r\n",
       "</g>\r\n",
       "<!-- dec26 -->\r\n",
       "<g id=\"node2\" class=\"node\"><title>dec26</title>\r\n",
       "<ellipse fill=\"#eef3f8\" stroke=\"black\" cx=\"172.212\" cy=\"-126\" rx=\"34.425\" ry=\"18\"/>\r\n",
       "<polygon fill=\"#eef3f8\" stroke=\"none\" points=\"154.712,-118 154.712,-134 189.712,-134 189.712,-118 154.712,-118\"/>\r\n",
       "<text text-anchor=\"start\" x=\"157.212\" y=\"-124.2\" font-family=\"Helvetica,sans-Serif\" font-size=\"11.00\">D̅</text>\r\n",
       "<text text-anchor=\"start\" x=\"166.212\" y=\"-124.2\" font-family=\"Helvetica,sans-Serif\" baseline-shift=\"super\" font-size=\"11.00\">0</text>\r\n",
       "<text text-anchor=\"start\" x=\"176.212\" y=\"-124.2\" font-family=\"Helvetica,sans-Serif\" font-size=\"11.00\">π</text>\r\n",
       "<text text-anchor=\"start\" x=\"184.212\" y=\"-124.2\" font-family=\"Helvetica,sans-Serif\" baseline-shift=\"super\" font-size=\"11.00\">&#45;</text>\r\n",
       "</g>\r\n",
       "<!-- mother&#45;&gt;dec26 -->\r\n",
       "<g id=\"edge1\" class=\"edge\"><title>mother&#45;&gt;dec26</title>\r\n",
       "<path fill=\"none\" stroke=\"black\" d=\"M77.2433,-87.4742C95.4589,-94.9423 117.207,-103.859 135.191,-111.232\"/>\r\n",
       "<polygon fill=\"black\" stroke=\"black\" points=\"134.168,-114.595 144.749,-115.15 136.824,-108.119 134.168,-114.595\"/>\r\n",
       "<text text-anchor=\"middle\" x=\"107.5\" y=\"-106.2\" font-family=\"Times New Roman,serif\" font-size=\"11.00\" fill=\"#4c4c4c\">0.677</text>\r\n",
       "</g>\r\n",
       "<!-- dec27 -->\r\n",
       "<g id=\"node3\" class=\"node\"><title>dec27</title>\r\n",
       "<ellipse fill=\"#eef3f8\" stroke=\"black\" cx=\"172.212\" cy=\"-72\" rx=\"34.425\" ry=\"18\"/>\r\n",
       "<polygon fill=\"#eef3f8\" stroke=\"none\" points=\"154.712,-64 154.712,-80 189.712,-80 189.712,-64 154.712,-64\"/>\r\n",
       "<text text-anchor=\"start\" x=\"157.212\" y=\"-70.2\" font-family=\"Helvetica,sans-Serif\" font-size=\"11.00\">D</text>\r\n",
       "<text text-anchor=\"start\" x=\"166.212\" y=\"-70.2\" font-family=\"Helvetica,sans-Serif\" baseline-shift=\"super\" font-size=\"11.00\">&#45;</text>\r\n",
       "<text text-anchor=\"start\" x=\"174.212\" y=\"-70.2\" font-family=\"Helvetica,sans-Serif\" font-size=\"11.00\">π</text>\r\n",
       "<text text-anchor=\"start\" x=\"182.212\" y=\"-70.2\" font-family=\"Helvetica,sans-Serif\" baseline-shift=\"super\" font-size=\"11.00\">0</text>\r\n",
       "</g>\r\n",
       "<!-- mother&#45;&gt;dec27 -->\r\n",
       "<g id=\"edge2\" class=\"edge\"><title>mother&#45;&gt;dec27</title>\r\n",
       "<path fill=\"none\" stroke=\"black\" d=\"M77.2433,-72C92.9574,-72 111.3,-72 127.588,-72\"/>\r\n",
       "<polygon fill=\"black\" stroke=\"black\" points=\"127.946,-75.5001 137.946,-72 127.946,-68.5001 127.946,-75.5001\"/>\r\n",
       "<text text-anchor=\"middle\" x=\"107.5\" y=\"-75.2\" font-family=\"Times New Roman,serif\" font-size=\"11.00\" fill=\"#4c4c4c\">0.307</text>\r\n",
       "</g>\r\n",
       "<!-- dec28 -->\r\n",
       "<g id=\"node4\" class=\"node\"><title>dec28</title>\r\n",
       "<ellipse fill=\"#eef3f8\" stroke=\"black\" cx=\"172.212\" cy=\"-18\" rx=\"28.6914\" ry=\"18\"/>\r\n",
       "<polygon fill=\"#eef3f8\" stroke=\"none\" points=\"158.712,-10 158.712,-26 185.712,-26 185.712,-10 158.712,-10\"/>\r\n",
       "<text text-anchor=\"start\" x=\"161.212\" y=\"-16.2\" font-family=\"Helvetica,sans-Serif\" font-size=\"11.00\">D</text>\r\n",
       "<text text-anchor=\"start\" x=\"170.212\" y=\"-16.2\" font-family=\"Helvetica,sans-Serif\" baseline-shift=\"super\" font-size=\"11.00\">&#45;</text>\r\n",
       "<text text-anchor=\"start\" x=\"178.212\" y=\"-15.2\" font-family=\"Helvetica,sans-Serif\" font-size=\"11.00\">γ</text>\r\n",
       "</g>\r\n",
       "<!-- mother&#45;&gt;dec28 -->\r\n",
       "<g id=\"edge3\" class=\"edge\"><title>mother&#45;&gt;dec28</title>\r\n",
       "<path fill=\"none\" stroke=\"black\" d=\"M77.2433,-56.5258C96.4453,-48.6532 119.573,-39.1713 138.078,-31.5842\"/>\r\n",
       "<polygon fill=\"black\" stroke=\"black\" points=\"139.634,-34.7293 147.559,-27.6975 136.978,-28.2525 139.634,-34.7293\"/>\r\n",
       "<text text-anchor=\"middle\" x=\"107.5\" y=\"-51.2\" font-family=\"Times New Roman,serif\" font-size=\"11.00\" fill=\"#4c4c4c\">0.016</text>\r\n",
       "</g>\r\n",
       "</g>\r\n",
       "</svg>\r\n"
      ],
      "text/plain": [
       "<decaylanguage.decay.viewer.DecayChainViewer at 0x26ddc1b5208>"
      ]
     },
     "execution_count": 63,
     "metadata": {},
     "output_type": "execute_result"
    }
   ],
   "source": [
    "dc_cc = dfp_Dst.build_decay_chains('D*-', stable_particles=['D-', 'anti-D0', 'pi0'])\n",
    "DecayChainViewer(dc_cc)"
   ]
  },
  {
   "cell_type": "markdown",
   "metadata": {
    "slideshow": {
     "slide_type": "subslide"
    }
   },
   "source": [
    "#### **Parsing several files**\n",
    "\n",
    "Typically useful when the user decay file needs information from the master decay file."
   ]
  },
  {
   "cell_type": "code",
   "execution_count": 64,
   "metadata": {},
   "outputs": [],
   "source": [
    "s = u\"\"\"\n",
    "Alias      MyXic+              Xi_c+\n",
    "Alias      MyantiXic-          anti-Xi_c-\n",
    "ChargeConj MyXic+              MyantiXic-\n",
    "\n",
    "Decay Xi_cc+sig\n",
    "  1.000       MyXic+    pi-    pi+       PHSP;\n",
    "Enddecay\n",
    "CDecay anti-Xi_cc-sig\n",
    "\n",
    "Decay MyXic+\n",
    "  1.000       p+    K-    pi+       PHSP;\n",
    "Enddecay\n",
    "CDecay MyantiXic-\n",
    "\n",
    "End\n",
    "\"\"\""
   ]
  },
  {
   "cell_type": "code",
   "execution_count": 65,
   "metadata": {
    "slideshow": {
     "slide_type": "subslide"
    }
   },
   "outputs": [
    {
     "name": "stderr",
     "output_type": "stream",
     "text": [
      "C:\\home\\sw\\Anaconda3\\lib\\site-packages\\decaylanguage\\dec\\dec.py:447: UserWarning: \n",
      "Corresponding 'Decay' statement for 'CDecay' statement(s) of following particle(s) not found:\n",
      "anti-Xi_cc-sig.\n",
      "Skipping creation of these charge-conjugate decay trees.\n",
      "  warnings.warn(msg)\n"
     ]
    },
    {
     "data": {
      "text/plain": [
       "<DecFileParser: decfile(s)=<dec file input as a string>, n_decays=3>"
      ]
     },
     "execution_count": 65,
     "metadata": {},
     "output_type": "execute_result"
    }
   ],
   "source": [
    "dfp = DecFileParser.from_string(s)\n",
    "dfp.parse()\n",
    "dfp"
   ]
  },
  {
   "cell_type": "markdown",
   "metadata": {},
   "source": [
    "Note the subtletly: 3, not 4 decays, are found! This is because the file contains no statement\n",
    "`ChargeConj anti-Xi_cc-sigXi_cc+sig`, hence the parser cannot know to which particle (matching `Decay` statement) the charge-conjugate decay of `anti-Xi_cc-sig` relates to (code does not rely on position of statements to guess ;-))."
   ]
  },
  {
   "cell_type": "code",
   "execution_count": 66,
   "metadata": {
    "slideshow": {
     "slide_type": "subslide"
    }
   },
   "outputs": [
    {
     "data": {
      "image/svg+xml": [
       "<?xml version=\"1.0\" encoding=\"UTF-8\" standalone=\"no\"?>\r\n",
       "<!DOCTYPE svg PUBLIC \"-//W3C//DTD SVG 1.1//EN\"\r\n",
       " \"http://www.w3.org/Graphics/SVG/1.1/DTD/svg11.dtd\">\r\n",
       "<!-- Generated by graphviz version 2.38.0 (20140413.2041)\r\n",
       " -->\r\n",
       "<!-- Title: DecayChainGraph Pages: 1 -->\r\n",
       "<svg width=\"331pt\" height=\"90pt\"\r\n",
       " viewBox=\"0.00 0.00 330.84 90.00\" xmlns=\"http://www.w3.org/2000/svg\" xmlns:xlink=\"http://www.w3.org/1999/xlink\">\r\n",
       "<g id=\"graph0\" class=\"graph\" transform=\"scale(1 1) rotate(0) translate(4 86)\">\r\n",
       "<title>DecayChainGraph</title>\r\n",
       "<polygon fill=\"white\" stroke=\"none\" points=\"-4,4 -4,-86 326.84,-86 326.84,4 -4,4\"/>\r\n",
       "<!-- mother -->\r\n",
       "<g id=\"node1\" class=\"node\"><title>mother</title>\r\n",
       "<polygon fill=\"#568dba\" stroke=\"none\" points=\"8,-28 8,-52 69,-52 69,-28 8,-28\"/>\r\n",
       "<polygon fill=\"none\" stroke=\"black\" points=\"8.5,-28 8.5,-52 69.5,-52 69.5,-28 8.5,-28\"/>\r\n",
       "<text text-anchor=\"start\" x=\"14.5\" y=\"-37.2\" font-family=\"Helvetica,sans-Serif\" font-size=\"11.00\">Xi_cc+sig</text>\r\n",
       "</g>\r\n",
       "<!-- dec29 -->\r\n",
       "<g id=\"node2\" class=\"node\"><title>dec29</title>\r\n",
       "<polygon fill=\"#9abad6\" stroke=\"none\" points=\"135,-4 135,-76 183,-76 183,-4 135,-4\"/>\r\n",
       "<polygon fill=\"none\" stroke=\"black\" points=\"135,-52 135,-76 183,-76 183,-52 135,-52\"/>\r\n",
       "<text text-anchor=\"start\" x=\"141\" y=\"-61.2\" font-family=\"Helvetica,sans-Serif\" font-size=\"11.00\">MyXic+</text>\r\n",
       "<polygon fill=\"none\" stroke=\"black\" points=\"135,-28 135,-52 183,-52 183,-28 135,-28\"/>\r\n",
       "<text text-anchor=\"start\" x=\"153\" y=\"-38.2\" font-family=\"Helvetica,sans-Serif\" font-size=\"11.00\">π</text>\r\n",
       "<text text-anchor=\"start\" x=\"161\" y=\"-38.2\" font-family=\"Helvetica,sans-Serif\" baseline-shift=\"super\" font-size=\"11.00\">&#45;</text>\r\n",
       "<polygon fill=\"none\" stroke=\"black\" points=\"135,-4 135,-28 183,-28 183,-4 135,-4\"/>\r\n",
       "<text text-anchor=\"start\" x=\"152\" y=\"-14.2\" font-family=\"Helvetica,sans-Serif\" font-size=\"11.00\">π</text>\r\n",
       "<text text-anchor=\"start\" x=\"160\" y=\"-14.2\" font-family=\"Helvetica,sans-Serif\" baseline-shift=\"super\" font-size=\"11.00\">+</text>\r\n",
       "</g>\r\n",
       "<!-- mother&#45;&gt;dec29 -->\r\n",
       "<g id=\"edge1\" class=\"edge\"><title>mother&#45;&gt;dec29</title>\r\n",
       "<path fill=\"none\" stroke=\"black\" d=\"M77.3199,-40C89.8084,-40 103.765,-40 116.513,-40\"/>\r\n",
       "<polygon fill=\"black\" stroke=\"black\" points=\"116.878,-43.5001 126.878,-40 116.878,-36.5001 116.878,-43.5001\"/>\r\n",
       "<text text-anchor=\"middle\" x=\"102\" y=\"-43.2\" font-family=\"Times New Roman,serif\" font-size=\"11.00\" fill=\"#4c4c4c\">1.0</text>\r\n",
       "</g>\r\n",
       "<!-- dec30 -->\r\n",
       "<g id=\"node3\" class=\"node\"><title>dec30</title>\r\n",
       "<ellipse fill=\"#eef3f8\" stroke=\"black\" cx=\"281.92\" cy=\"-64\" rx=\"40.8402\" ry=\"18\"/>\r\n",
       "<polygon fill=\"#eef3f8\" stroke=\"none\" points=\"259.42,-56 259.42,-72 304.42,-72 304.42,-56 259.42,-56\"/>\r\n",
       "<text text-anchor=\"start\" x=\"261.92\" y=\"-61.2\" font-family=\"Helvetica,sans-Serif\" font-size=\"11.00\">p</text>\r\n",
       "<text text-anchor=\"start\" x=\"272.92\" y=\"-62.2\" font-family=\"Helvetica,sans-Serif\" font-size=\"11.00\">K</text>\r\n",
       "<text text-anchor=\"start\" x=\"280.92\" y=\"-62.2\" font-family=\"Helvetica,sans-Serif\" baseline-shift=\"super\" font-size=\"11.00\">&#45;</text>\r\n",
       "<text text-anchor=\"start\" x=\"288.92\" y=\"-62.2\" font-family=\"Helvetica,sans-Serif\" font-size=\"11.00\">π</text>\r\n",
       "<text text-anchor=\"start\" x=\"296.92\" y=\"-62.2\" font-family=\"Helvetica,sans-Serif\" baseline-shift=\"super\" font-size=\"11.00\">+</text>\r\n",
       "</g>\r\n",
       "<!-- dec29&#45;&gt;dec30 -->\r\n",
       "<g id=\"edge2\" class=\"edge\"><title>dec29:p0&#45;&gt;dec30</title>\r\n",
       "<path fill=\"none\" stroke=\"black\" d=\"M184,-64C199.175,-64 215.687,-64 230.71,-64\"/>\r\n",
       "<polygon fill=\"black\" stroke=\"black\" points=\"230.839,-67.5001 240.839,-64 230.839,-60.5001 230.839,-67.5001\"/>\r\n",
       "<text text-anchor=\"middle\" x=\"216\" y=\"-67.2\" font-family=\"Times New Roman,serif\" font-size=\"11.00\" fill=\"#4c4c4c\">1.0</text>\r\n",
       "</g>\r\n",
       "</g>\r\n",
       "</svg>\r\n"
      ],
      "text/plain": [
       "<decaylanguage.decay.viewer.DecayChainViewer at 0x26ddc18f4c8>"
      ]
     },
     "execution_count": 66,
     "metadata": {},
     "output_type": "execute_result"
    }
   ],
   "source": [
    "d = dfp.build_decay_chains('Xi_cc+sig')\n",
    "DecayChainViewer(d)"
   ]
  },
  {
   "cell_type": "markdown",
   "metadata": {
    "slideshow": {
     "slide_type": "subslide"
    }
   },
   "source": [
    "As said in the warning, the information provided is not enough for the anti-Xi_cc-sig to make sense:"
   ]
  },
  {
   "cell_type": "code",
   "execution_count": 67,
   "metadata": {},
   "outputs": [
    {
     "name": "stdout",
     "output_type": "stream",
     "text": [
      "Decays of particle 'anti-Xi_cc-sig' not found in .dec file!\n"
     ]
    }
   ],
   "source": [
    "from decaylanguage.dec.dec import DecayNotFound\n",
    "\n",
    "try:\n",
    "    d = dfp.build_decay_chains('anti-Xi_cc-sig')\n",
    "except DecayNotFound:\n",
    "    print(\"Decays of particle 'anti-Xi_cc-sig' not found in .dec file!\")"
   ]
  },
  {
   "cell_type": "markdown",
   "metadata": {},
   "source": [
    "But the missing information is easily providing **parsing two files simultaneously ...!** (Any number of files is allowed.)"
   ]
  },
  {
   "cell_type": "code",
   "execution_count": 68,
   "metadata": {
    "slideshow": {
     "slide_type": "subslide"
    }
   },
   "outputs": [],
   "source": [
    "from tempfile import NamedTemporaryFile\n",
    "\n",
    "with NamedTemporaryFile(delete=False) as tf:\n",
    "    tf.write(s.encode('utf-8'))\n",
    "    \n",
    "dfp = DecFileParser(tf.name, 'data/DECAY_LHCB.DEC')\n",
    "dfp.parse()"
   ]
  },
  {
   "cell_type": "code",
   "execution_count": 69,
   "metadata": {
    "slideshow": {
     "slide_type": "subslide"
    }
   },
   "outputs": [
    {
     "data": {
      "image/svg+xml": [
       "<?xml version=\"1.0\" encoding=\"UTF-8\" standalone=\"no\"?>\r\n",
       "<!DOCTYPE svg PUBLIC \"-//W3C//DTD SVG 1.1//EN\"\r\n",
       " \"http://www.w3.org/Graphics/SVG/1.1/DTD/svg11.dtd\">\r\n",
       "<!-- Generated by graphviz version 2.38.0 (20140413.2041)\r\n",
       " -->\r\n",
       "<!-- Title: DecayChainGraph Pages: 1 -->\r\n",
       "<svg width=\"331pt\" height=\"90pt\"\r\n",
       " viewBox=\"0.00 0.00 330.84 90.00\" xmlns=\"http://www.w3.org/2000/svg\" xmlns:xlink=\"http://www.w3.org/1999/xlink\">\r\n",
       "<g id=\"graph0\" class=\"graph\" transform=\"scale(1 1) rotate(0) translate(4 86)\">\r\n",
       "<title>DecayChainGraph</title>\r\n",
       "<polygon fill=\"white\" stroke=\"none\" points=\"-4,4 -4,-86 326.84,-86 326.84,4 -4,4\"/>\r\n",
       "<!-- mother -->\r\n",
       "<g id=\"node1\" class=\"node\"><title>mother</title>\r\n",
       "<polygon fill=\"#568dba\" stroke=\"none\" points=\"8,-28 8,-52 69,-52 69,-28 8,-28\"/>\r\n",
       "<polygon fill=\"none\" stroke=\"black\" points=\"8.5,-28 8.5,-52 69.5,-52 69.5,-28 8.5,-28\"/>\r\n",
       "<text text-anchor=\"start\" x=\"14.5\" y=\"-37.2\" font-family=\"Helvetica,sans-Serif\" font-size=\"11.00\">Xi_cc+sig</text>\r\n",
       "</g>\r\n",
       "<!-- dec31 -->\r\n",
       "<g id=\"node2\" class=\"node\"><title>dec31</title>\r\n",
       "<polygon fill=\"#9abad6\" stroke=\"none\" points=\"135,-4 135,-76 183,-76 183,-4 135,-4\"/>\r\n",
       "<polygon fill=\"none\" stroke=\"black\" points=\"135,-52 135,-76 183,-76 183,-52 135,-52\"/>\r\n",
       "<text text-anchor=\"start\" x=\"141\" y=\"-61.2\" font-family=\"Helvetica,sans-Serif\" font-size=\"11.00\">MyXic+</text>\r\n",
       "<polygon fill=\"none\" stroke=\"black\" points=\"135,-28 135,-52 183,-52 183,-28 135,-28\"/>\r\n",
       "<text text-anchor=\"start\" x=\"153\" y=\"-38.2\" font-family=\"Helvetica,sans-Serif\" font-size=\"11.00\">π</text>\r\n",
       "<text text-anchor=\"start\" x=\"161\" y=\"-38.2\" font-family=\"Helvetica,sans-Serif\" baseline-shift=\"super\" font-size=\"11.00\">&#45;</text>\r\n",
       "<polygon fill=\"none\" stroke=\"black\" points=\"135,-4 135,-28 183,-28 183,-4 135,-4\"/>\r\n",
       "<text text-anchor=\"start\" x=\"152\" y=\"-14.2\" font-family=\"Helvetica,sans-Serif\" font-size=\"11.00\">π</text>\r\n",
       "<text text-anchor=\"start\" x=\"160\" y=\"-14.2\" font-family=\"Helvetica,sans-Serif\" baseline-shift=\"super\" font-size=\"11.00\">+</text>\r\n",
       "</g>\r\n",
       "<!-- mother&#45;&gt;dec31 -->\r\n",
       "<g id=\"edge1\" class=\"edge\"><title>mother&#45;&gt;dec31</title>\r\n",
       "<path fill=\"none\" stroke=\"black\" d=\"M77.3199,-40C89.8084,-40 103.765,-40 116.513,-40\"/>\r\n",
       "<polygon fill=\"black\" stroke=\"black\" points=\"116.878,-43.5001 126.878,-40 116.878,-36.5001 116.878,-43.5001\"/>\r\n",
       "<text text-anchor=\"middle\" x=\"102\" y=\"-43.2\" font-family=\"Times New Roman,serif\" font-size=\"11.00\" fill=\"#4c4c4c\">1.0</text>\r\n",
       "</g>\r\n",
       "<!-- dec32 -->\r\n",
       "<g id=\"node3\" class=\"node\"><title>dec32</title>\r\n",
       "<ellipse fill=\"#eef3f8\" stroke=\"black\" cx=\"281.92\" cy=\"-64\" rx=\"40.8402\" ry=\"18\"/>\r\n",
       "<polygon fill=\"#eef3f8\" stroke=\"none\" points=\"259.42,-56 259.42,-72 304.42,-72 304.42,-56 259.42,-56\"/>\r\n",
       "<text text-anchor=\"start\" x=\"261.92\" y=\"-61.2\" font-family=\"Helvetica,sans-Serif\" font-size=\"11.00\">p</text>\r\n",
       "<text text-anchor=\"start\" x=\"272.92\" y=\"-62.2\" font-family=\"Helvetica,sans-Serif\" font-size=\"11.00\">K</text>\r\n",
       "<text text-anchor=\"start\" x=\"280.92\" y=\"-62.2\" font-family=\"Helvetica,sans-Serif\" baseline-shift=\"super\" font-size=\"11.00\">&#45;</text>\r\n",
       "<text text-anchor=\"start\" x=\"288.92\" y=\"-62.2\" font-family=\"Helvetica,sans-Serif\" font-size=\"11.00\">π</text>\r\n",
       "<text text-anchor=\"start\" x=\"296.92\" y=\"-62.2\" font-family=\"Helvetica,sans-Serif\" baseline-shift=\"super\" font-size=\"11.00\">+</text>\r\n",
       "</g>\r\n",
       "<!-- dec31&#45;&gt;dec32 -->\r\n",
       "<g id=\"edge2\" class=\"edge\"><title>dec31:p0&#45;&gt;dec32</title>\r\n",
       "<path fill=\"none\" stroke=\"black\" d=\"M184,-64C199.175,-64 215.687,-64 230.71,-64\"/>\r\n",
       "<polygon fill=\"black\" stroke=\"black\" points=\"230.839,-67.5001 240.839,-64 230.839,-60.5001 230.839,-67.5001\"/>\r\n",
       "<text text-anchor=\"middle\" x=\"216\" y=\"-67.2\" font-family=\"Times New Roman,serif\" font-size=\"11.00\" fill=\"#4c4c4c\">1.0</text>\r\n",
       "</g>\r\n",
       "</g>\r\n",
       "</svg>\r\n"
      ],
      "text/plain": [
       "<decaylanguage.decay.viewer.DecayChainViewer at 0x26ddc19d0c8>"
      ]
     },
     "execution_count": 69,
     "metadata": {},
     "output_type": "execute_result"
    }
   ],
   "source": [
    "dc = dfp.build_decay_chains('Xi_cc+sig')\n",
    "\n",
    "DecayChainViewer(dc)"
   ]
  },
  {
   "cell_type": "code",
   "execution_count": 70,
   "metadata": {
    "slideshow": {
     "slide_type": "subslide"
    }
   },
   "outputs": [
    {
     "data": {
      "image/svg+xml": [
       "<?xml version=\"1.0\" encoding=\"UTF-8\" standalone=\"no\"?>\r\n",
       "<!DOCTYPE svg PUBLIC \"-//W3C//DTD SVG 1.1//EN\"\r\n",
       " \"http://www.w3.org/Graphics/SVG/1.1/DTD/svg11.dtd\">\r\n",
       "<!-- Generated by graphviz version 2.38.0 (20140413.2041)\r\n",
       " -->\r\n",
       "<!-- Title: DecayChainGraph Pages: 1 -->\r\n",
       "<svg width=\"363pt\" height=\"90pt\"\r\n",
       " viewBox=\"0.00 0.00 362.84 90.00\" xmlns=\"http://www.w3.org/2000/svg\" xmlns:xlink=\"http://www.w3.org/1999/xlink\">\r\n",
       "<g id=\"graph0\" class=\"graph\" transform=\"scale(1 1) rotate(0) translate(4 86)\">\r\n",
       "<title>DecayChainGraph</title>\r\n",
       "<polygon fill=\"white\" stroke=\"none\" points=\"-4,4 -4,-86 358.84,-86 358.84,4 -4,4\"/>\r\n",
       "<!-- mother -->\r\n",
       "<g id=\"node1\" class=\"node\"><title>mother</title>\r\n",
       "<polygon fill=\"#568dba\" stroke=\"none\" points=\"8,-28 8,-52 87,-52 87,-28 8,-28\"/>\r\n",
       "<polygon fill=\"none\" stroke=\"black\" points=\"8.5,-28 8.5,-52 87.5,-52 87.5,-28 8.5,-28\"/>\r\n",
       "<text text-anchor=\"start\" x=\"14.5\" y=\"-37.2\" font-family=\"Helvetica,sans-Serif\" font-size=\"11.00\">anti&#45;Xi_cc&#45;sig</text>\r\n",
       "</g>\r\n",
       "<!-- dec33 -->\r\n",
       "<g id=\"node2\" class=\"node\"><title>dec33</title>\r\n",
       "<polygon fill=\"#9abad6\" stroke=\"none\" points=\"153,-4 153,-76 215,-76 215,-4 153,-4\"/>\r\n",
       "<polygon fill=\"none\" stroke=\"black\" points=\"153,-52 153,-76 215,-76 215,-52 153,-52\"/>\r\n",
       "<text text-anchor=\"start\" x=\"159\" y=\"-61.2\" font-family=\"Helvetica,sans-Serif\" font-size=\"11.00\">MyantiXic&#45;</text>\r\n",
       "<polygon fill=\"none\" stroke=\"black\" points=\"153,-28 153,-52 215,-52 215,-28 153,-28\"/>\r\n",
       "<text text-anchor=\"start\" x=\"177\" y=\"-38.2\" font-family=\"Helvetica,sans-Serif\" font-size=\"11.00\">π</text>\r\n",
       "<text text-anchor=\"start\" x=\"185\" y=\"-38.2\" font-family=\"Helvetica,sans-Serif\" baseline-shift=\"super\" font-size=\"11.00\">+</text>\r\n",
       "<polygon fill=\"none\" stroke=\"black\" points=\"153,-4 153,-28 215,-28 215,-4 153,-4\"/>\r\n",
       "<text text-anchor=\"start\" x=\"178\" y=\"-14.2\" font-family=\"Helvetica,sans-Serif\" font-size=\"11.00\">π</text>\r\n",
       "<text text-anchor=\"start\" x=\"186\" y=\"-14.2\" font-family=\"Helvetica,sans-Serif\" baseline-shift=\"super\" font-size=\"11.00\">&#45;</text>\r\n",
       "</g>\r\n",
       "<!-- mother&#45;&gt;dec33 -->\r\n",
       "<g id=\"edge1\" class=\"edge\"><title>mother&#45;&gt;dec33</title>\r\n",
       "<path fill=\"none\" stroke=\"black\" d=\"M95.1641,-40C107.976,-40 121.891,-40 134.788,-40\"/>\r\n",
       "<polygon fill=\"black\" stroke=\"black\" points=\"134.872,-43.5001 144.872,-40 134.872,-36.5001 134.872,-43.5001\"/>\r\n",
       "<text text-anchor=\"middle\" x=\"120\" y=\"-43.2\" font-family=\"Times New Roman,serif\" font-size=\"11.00\" fill=\"#4c4c4c\">1.0</text>\r\n",
       "</g>\r\n",
       "<!-- dec34 -->\r\n",
       "<g id=\"node3\" class=\"node\"><title>dec34</title>\r\n",
       "<ellipse fill=\"#eef3f8\" stroke=\"black\" cx=\"313.92\" cy=\"-64\" rx=\"40.8402\" ry=\"18\"/>\r\n",
       "<polygon fill=\"#eef3f8\" stroke=\"none\" points=\"291.42,-56 291.42,-72 336.42,-72 336.42,-56 291.42,-56\"/>\r\n",
       "<text text-anchor=\"start\" x=\"293.92\" y=\"-61.2\" font-family=\"Helvetica,sans-Serif\" font-size=\"11.00\">p̅</text>\r\n",
       "<text text-anchor=\"start\" x=\"304.92\" y=\"-62.2\" font-family=\"Helvetica,sans-Serif\" font-size=\"11.00\">K</text>\r\n",
       "<text text-anchor=\"start\" x=\"312.92\" y=\"-62.2\" font-family=\"Helvetica,sans-Serif\" baseline-shift=\"super\" font-size=\"11.00\">+</text>\r\n",
       "<text text-anchor=\"start\" x=\"322.92\" y=\"-62.2\" font-family=\"Helvetica,sans-Serif\" font-size=\"11.00\">π</text>\r\n",
       "<text text-anchor=\"start\" x=\"330.92\" y=\"-62.2\" font-family=\"Helvetica,sans-Serif\" baseline-shift=\"super\" font-size=\"11.00\">&#45;</text>\r\n",
       "</g>\r\n",
       "<!-- dec33&#45;&gt;dec34 -->\r\n",
       "<g id=\"edge2\" class=\"edge\"><title>dec33:p0&#45;&gt;dec34</title>\r\n",
       "<path fill=\"none\" stroke=\"black\" d=\"M216,-64C231.175,-64 247.687,-64 262.71,-64\"/>\r\n",
       "<polygon fill=\"black\" stroke=\"black\" points=\"262.839,-67.5001 272.839,-64 262.839,-60.5001 262.839,-67.5001\"/>\r\n",
       "<text text-anchor=\"middle\" x=\"248\" y=\"-67.2\" font-family=\"Times New Roman,serif\" font-size=\"11.00\" fill=\"#4c4c4c\">1.0</text>\r\n",
       "</g>\r\n",
       "</g>\r\n",
       "</svg>\r\n"
      ],
      "text/plain": [
       "<decaylanguage.decay.viewer.DecayChainViewer at 0x26ddc0b3c88>"
      ]
     },
     "execution_count": 70,
     "metadata": {},
     "output_type": "execute_result"
    }
   ],
   "source": [
    "dc_cc = dfp.build_decay_chains('anti-Xi_cc-sig')\n",
    "\n",
    "DecayChainViewer(dc_cc)"
   ]
  },
  {
   "cell_type": "markdown",
   "metadata": {},
   "source": [
    "Want to save a graph? Try for example \n",
    "```python\n",
    "dcv = DecayChainViewer(...)\n",
    "dcv.graph.write_pdf('test.pdf')\n",
    "```"
   ]
  },
  {
   "cell_type": "markdown",
   "metadata": {
    "slideshow": {
     "slide_type": "slide"
    }
   },
   "source": [
    "### **4. Representation of decay chains**\n",
    "\n",
    "<span style=\"color:green\">The universal (and digital) representation of decay chains is of interest well outside the context of decay file parsing!</span>"
   ]
  },
  {
   "cell_type": "markdown",
   "metadata": {
    "slideshow": {
     "slide_type": "subslide"
    }
   },
   "source": [
    "#### Building blocks\n",
    "\n",
    "- A <span style=\"color:green\">daughters list</span> - list of final-state particles.\n",
    "- A <span style=\"color:green\">decay mode</span> - typically a branching fraction and a list of final-state particles (may also contain _any_ metadata such as decay model and optional decay-model parameters, as defined for example in .dec decay files).\n",
    "- A <span style=\"color:green\">decay chain</span> - can be seen as a mother particle and a list of decay modes."
   ]
  },
  {
   "cell_type": "code",
   "execution_count": 71,
   "metadata": {
    "slideshow": {
     "slide_type": "subslide"
    }
   },
   "outputs": [],
   "source": [
    "from decaylanguage.decay.decay import DaughtersDict, DecayMode, DecayChain"
   ]
  },
  {
   "cell_type": "markdown",
   "metadata": {},
   "source": [
    "**Daughters list** (actually a ``Counter`` dictionary, internally):"
   ]
  },
  {
   "cell_type": "code",
   "execution_count": 72,
   "metadata": {
    "slideshow": {
     "slide_type": "subslide"
    }
   },
   "outputs": [
    {
     "data": {
      "text/plain": [
       "<DaughtersDict: ['K+', 'K-', 'pi0']>"
      ]
     },
     "execution_count": 72,
     "metadata": {},
     "output_type": "execute_result"
    }
   ],
   "source": [
    "# Constructor from a dictionary\n",
    "dd = DaughtersDict({'K+': 1, 'K-': 2, 'pi+': 1, 'pi0': 1})\n",
    "\n",
    "# Constructor from a list of particle names\n",
    "dd = DaughtersDict(['K+', 'K-', 'K-', 'pi+', 'pi0'])\n",
    "\n",
    "# Constructor from a string representing the final state\n",
    "dd = DaughtersDict('K+ K- pi0')\n",
    "dd"
   ]
  },
  {
   "cell_type": "markdown",
   "metadata": {},
   "source": [
    "#### Decay Modes"
   ]
  },
  {
   "cell_type": "code",
   "execution_count": 73,
   "metadata": {
    "slideshow": {
     "slide_type": "subslide"
    }
   },
   "outputs": [
    {
     "data": {
      "text/plain": [
       "<DecayMode: daughters=nu_tau pi- pi0, BF=0.2551>"
      ]
     },
     "execution_count": 73,
     "metadata": {},
     "output_type": "execute_result"
    }
   ],
   "source": [
    "# A 'default' and hence empty, decay mode\n",
    "dm = DecayMode()\n",
    "\n",
    "# Decay mode with minimal input information\n",
    "dd = DaughtersDict('K+ K-')\n",
    "dm = DecayMode(0.5, dd)\n",
    "\n",
    "# Decay mode with decay model information and user metadata\n",
    "dm = DecayMode(0.2551,                                              # branching fraction\n",
    "               'pi- pi0 nu_tau',                                    # final-state particles\n",
    "               model='TAUHADNU',                                    # decay model\n",
    "               model_params=[-0.108, 0.775, 0.149, 1.364, 0.400],   # decay-model parameters\n",
    "               study='toy', year=2019                               # user metadata\n",
    "              )\n",
    "dm"
   ]
  },
  {
   "cell_type": "code",
   "execution_count": 74,
   "metadata": {
    "slideshow": {
     "slide_type": "subslide"
    }
   },
   "outputs": [
    {
     "name": "stdout",
     "output_type": "stream",
     "text": [
      "Daughters: pi- pi0 nu_tau , BF: 0.2551         \n",
      "    Decay model: TAUHADNU [-0.108, 0.775, 0.149, 1.364, 0.4]\n",
      "    Extra info:\n",
      "        study: toy\n",
      "        year: 2019\n",
      "\n"
     ]
    }
   ],
   "source": [
    "print(dm.describe())"
   ]
  },
  {
   "cell_type": "markdown",
   "metadata": {
    "slideshow": {
     "slide_type": "subslide"
    }
   },
   "source": [
    "Various manipulations are available:"
   ]
  },
  {
   "cell_type": "code",
   "execution_count": 75,
   "metadata": {},
   "outputs": [
    {
     "name": "stdout",
     "output_type": "stream",
     "text": [
      "<DecayMode: daughters=K+ K-, BF=0.5>\n"
     ]
    },
    {
     "data": {
      "text/plain": [
       "<DecayMode: daughters=K- K- pi+, BF=1.0>"
      ]
     },
     "execution_count": 75,
     "metadata": {},
     "output_type": "execute_result"
    }
   ],
   "source": [
    "dm = DecayMode.from_pdgids(0.5, [321, -321])\n",
    "print(dm)\n",
    "\n",
    "dm = DecayMode(1.0, 'K+ K+ pi-')\n",
    "dm.charge_conjugate()"
   ]
  },
  {
   "cell_type": "markdown",
   "metadata": {
    "slideshow": {
     "slide_type": "subslide"
    }
   },
   "source": [
    "#### Decay chains "
   ]
  },
  {
   "cell_type": "code",
   "execution_count": 76,
   "metadata": {},
   "outputs": [
    {
     "data": {
      "text/plain": [
       "<DecayChain: D0 -> K_S0 pi0 (2 sub-decays), BF=0.0124>"
      ]
     },
     "execution_count": 76,
     "metadata": {},
     "output_type": "execute_result"
    }
   ],
   "source": [
    "dm1 = DecayMode(0.0124, 'K_S0 pi0', model='PHSP')\n",
    "dm2 = DecayMode(0.692, 'pi+ pi-')\n",
    "dm3 = DecayMode(0.98823, 'gamma gamma')\n",
    "dc = DecayChain('D0', {'D0':dm1, 'K_S0':dm2, 'pi0':dm3})\n",
    "\n",
    "dc"
   ]
  },
  {
   "cell_type": "code",
   "execution_count": 77,
   "metadata": {},
   "outputs": [
    {
     "data": {
      "text/plain": [
       "{'D0': <DecayMode: daughters=K_S0 pi0, BF=0.0124>,\n",
       " 'K_S0': <DecayMode: daughters=pi+ pi-, BF=0.692>,\n",
       " 'pi0': <DecayMode: daughters=gamma gamma, BF=0.98823>}"
      ]
     },
     "execution_count": 77,
     "metadata": {},
     "output_type": "execute_result"
    }
   ],
   "source": [
    "dc.decays"
   ]
  },
  {
   "cell_type": "markdown",
   "metadata": {
    "slideshow": {
     "slide_type": "subslide"
    }
   },
   "source": [
    "Flatten the decay chain, i.e. replace all intermediate, decaying particles, with their final states:\n",
    "- The BF is now the *visible BF*"
   ]
  },
  {
   "cell_type": "code",
   "execution_count": 78,
   "metadata": {
    "slideshow": {
     "slide_type": "-"
    }
   },
   "outputs": [
    {
     "data": {
      "text/plain": [
       "<DecayChain: D0 -> gamma gamma pi+ pi- (0 sub-decays), BF=0.008479803984>"
      ]
     },
     "execution_count": 78,
     "metadata": {},
     "output_type": "execute_result"
    }
   ],
   "source": [
    "dc.flatten()"
   ]
  },
  {
   "cell_type": "markdown",
   "metadata": {},
   "source": [
    "Of course you can sill just as easily visualise decays defined via this `DecayChain` class:"
   ]
  },
  {
   "cell_type": "code",
   "execution_count": 79,
   "metadata": {
    "slideshow": {
     "slide_type": "subslide"
    }
   },
   "outputs": [
    {
     "data": {
      "image/svg+xml": [
       "<?xml version=\"1.0\" encoding=\"UTF-8\" standalone=\"no\"?>\r\n",
       "<!DOCTYPE svg PUBLIC \"-//W3C//DTD SVG 1.1//EN\"\r\n",
       " \"http://www.w3.org/Graphics/SVG/1.1/DTD/svg11.dtd\">\r\n",
       "<!-- Generated by graphviz version 2.38.0 (20140413.2041)\r\n",
       " -->\r\n",
       "<!-- Title: DecayChainGraph Pages: 1 -->\r\n",
       "<svg width=\"320pt\" height=\"98pt\"\r\n",
       " viewBox=\"0.00 0.00 320.08 98.00\" xmlns=\"http://www.w3.org/2000/svg\" xmlns:xlink=\"http://www.w3.org/1999/xlink\">\r\n",
       "<g id=\"graph0\" class=\"graph\" transform=\"scale(1 1) rotate(0) translate(4 94)\">\r\n",
       "<title>DecayChainGraph</title>\r\n",
       "<polygon fill=\"white\" stroke=\"none\" points=\"-4,4 -4,-94 316.082,-94 316.082,4 -4,4\"/>\r\n",
       "<!-- mother -->\r\n",
       "<g id=\"node1\" class=\"node\"><title>mother</title>\r\n",
       "<polygon fill=\"#568dba\" stroke=\"none\" points=\"13.5,-33 13.5,-57 40.5,-57 40.5,-33 13.5,-33\"/>\r\n",
       "<polygon fill=\"none\" stroke=\"black\" points=\"14,-33 14,-57 41,-57 41,-33 14,-33\"/>\r\n",
       "<text text-anchor=\"start\" x=\"20\" y=\"-43.2\" font-family=\"Helvetica,sans-Serif\" font-size=\"11.00\">D</text>\r\n",
       "<text text-anchor=\"start\" x=\"29\" y=\"-43.2\" font-family=\"Helvetica,sans-Serif\" baseline-shift=\"super\" font-size=\"11.00\">0</text>\r\n",
       "</g>\r\n",
       "<!-- dec35 -->\r\n",
       "<g id=\"node2\" class=\"node\"><title>dec35</title>\r\n",
       "<polygon fill=\"#9abad6\" stroke=\"none\" points=\"130.5,-21 130.5,-69 163.5,-69 163.5,-21 130.5,-21\"/>\r\n",
       "<polygon fill=\"none\" stroke=\"black\" points=\"131,-45 131,-69 164,-69 164,-45 131,-45\"/>\r\n",
       "<text text-anchor=\"start\" x=\"137\" y=\"-55.2\" font-family=\"Helvetica,sans-Serif\" font-size=\"11.00\">K</text>\r\n",
       "<text text-anchor=\"start\" x=\"145\" y=\"-55.2\" font-family=\"Helvetica,sans-Serif\" baseline-shift=\"sub\" font-size=\"11.00\">S</text>\r\n",
       "<text text-anchor=\"start\" x=\"152\" y=\"-55.2\" font-family=\"Helvetica,sans-Serif\" baseline-shift=\"super\" font-size=\"11.00\">0</text>\r\n",
       "<polygon fill=\"none\" stroke=\"black\" points=\"131,-21 131,-45 164,-45 164,-21 131,-21\"/>\r\n",
       "<text text-anchor=\"start\" x=\"140.5\" y=\"-31.2\" font-family=\"Helvetica,sans-Serif\" font-size=\"11.00\">π</text>\r\n",
       "<text text-anchor=\"start\" x=\"148.5\" y=\"-31.2\" font-family=\"Helvetica,sans-Serif\" baseline-shift=\"super\" font-size=\"11.00\">0</text>\r\n",
       "</g>\r\n",
       "<!-- mother&#45;&gt;dec35 -->\r\n",
       "<g id=\"edge1\" class=\"edge\"><title>mother&#45;&gt;dec35</title>\r\n",
       "<path fill=\"none\" stroke=\"black\" d=\"M54.188,-45C70.5345,-45 91.808,-45 109.761,-45\"/>\r\n",
       "<polygon fill=\"black\" stroke=\"black\" points=\"109.885,-48.5001 119.885,-45 109.885,-41.5001 109.885,-48.5001\"/>\r\n",
       "<text text-anchor=\"middle\" x=\"87\" y=\"-48.2\" font-family=\"Times New Roman,serif\" font-size=\"11.00\" fill=\"#4c4c4c\">0.0124</text>\r\n",
       "</g>\r\n",
       "<!-- dec36 -->\r\n",
       "<g id=\"node3\" class=\"node\"><title>dec36</title>\r\n",
       "<ellipse fill=\"#eef3f8\" stroke=\"black\" cx=\"278.541\" cy=\"-72\" rx=\"33.5821\" ry=\"18\"/>\r\n",
       "<polygon fill=\"#eef3f8\" stroke=\"none\" points=\"261.541,-64 261.541,-80 295.541,-80 295.541,-64 261.541,-64\"/>\r\n",
       "<text text-anchor=\"start\" x=\"263.541\" y=\"-70.2\" font-family=\"Helvetica,sans-Serif\" font-size=\"11.00\">π</text>\r\n",
       "<text text-anchor=\"start\" x=\"271.541\" y=\"-70.2\" font-family=\"Helvetica,sans-Serif\" baseline-shift=\"super\" font-size=\"11.00\">+</text>\r\n",
       "<text text-anchor=\"start\" x=\"281.541\" y=\"-70.2\" font-family=\"Helvetica,sans-Serif\" font-size=\"11.00\">π</text>\r\n",
       "<text text-anchor=\"start\" x=\"289.541\" y=\"-70.2\" font-family=\"Helvetica,sans-Serif\" baseline-shift=\"super\" font-size=\"11.00\">&#45;</text>\r\n",
       "</g>\r\n",
       "<!-- dec35&#45;&gt;dec36 -->\r\n",
       "<g id=\"edge2\" class=\"edge\"><title>dec35:p0&#45;&gt;dec36</title>\r\n",
       "<path fill=\"none\" stroke=\"black\" d=\"M165,-57C188.884,-57 215.372,-60.3606 236.648,-63.9004\"/>\r\n",
       "<polygon fill=\"black\" stroke=\"black\" points=\"236.187,-67.3728 246.639,-65.6386 237.387,-60.4764 236.187,-67.3728\"/>\r\n",
       "<text text-anchor=\"middle\" x=\"209.5\" y=\"-65.2\" font-family=\"Times New Roman,serif\" font-size=\"11.00\" fill=\"#4c4c4c\">0.692</text>\r\n",
       "</g>\r\n",
       "<!-- dec37 -->\r\n",
       "<g id=\"node4\" class=\"node\"><title>dec37</title>\r\n",
       "<ellipse fill=\"#eef3f8\" stroke=\"black\" cx=\"278.541\" cy=\"-18\" rx=\"27\" ry=\"18\"/>\r\n",
       "<polygon fill=\"#eef3f8\" stroke=\"none\" points=\"268.541,-10 268.541,-26 288.541,-26 288.541,-10 268.541,-10\"/>\r\n",
       "<text text-anchor=\"start\" x=\"270.541\" y=\"-15.2\" font-family=\"Helvetica,sans-Serif\" font-size=\"11.00\">γ</text>\r\n",
       "<text text-anchor=\"start\" x=\"280.541\" y=\"-15.2\" font-family=\"Helvetica,sans-Serif\" font-size=\"11.00\">γ</text>\r\n",
       "</g>\r\n",
       "<!-- dec35&#45;&gt;dec37 -->\r\n",
       "<g id=\"edge3\" class=\"edge\"><title>dec35:p1&#45;&gt;dec37</title>\r\n",
       "<path fill=\"none\" stroke=\"black\" d=\"M165,-33C191.205,-33 220.544,-28.9546 242.694,-25.0656\"/>\r\n",
       "<polygon fill=\"black\" stroke=\"black\" points=\"243.43,-28.4892 252.637,-23.2463 242.17,-21.6035 243.43,-28.4892\"/>\r\n",
       "<text text-anchor=\"middle\" x=\"209.5\" y=\"-34.2\" font-family=\"Times New Roman,serif\" font-size=\"11.00\" fill=\"#4c4c4c\">0.98823</text>\r\n",
       "</g>\r\n",
       "</g>\r\n",
       "</svg>\r\n"
      ],
      "text/plain": [
       "<decaylanguage.decay.viewer.DecayChainViewer at 0x26dde039f48>"
      ]
     },
     "execution_count": 79,
     "metadata": {},
     "output_type": "execute_result"
    }
   ],
   "source": [
    "DecayChainViewer(dc.to_dict())"
   ]
  }
 ],
 "metadata": {
  "kernelspec": {
   "display_name": "Python 3",
   "language": "python",
   "name": "python3"
  },
  "language_info": {
   "codemirror_mode": {
    "name": "ipython",
    "version": 3
   },
   "file_extension": ".py",
   "mimetype": "text/x-python",
   "name": "python",
   "nbconvert_exporter": "python",
   "pygments_lexer": "ipython3",
   "version": "3.7.7"
  }
 },
 "nbformat": 4,
 "nbformat_minor": 4
}
