{
 "cells": [
  {
   "cell_type": "markdown",
   "metadata": {},
   "source": [
    "<center><h1><b><span style=\"color:blue\">\"HEP Python ecosystem example\"</span></b></h1></center>\n",
    "\n",
    "#### **Goal of this exploration**\n",
    "\n",
    "As said before, other groups and projects are working on other domain-specific areas towards the common goal of a modern, Pythonic and friendly analysis ecosystem for HEP. Let's play a bit with the `phasespace` and `zfit` packages from the [zfit project](https://github.com/zfit/).\n",
    "\n",
    "We will generate some toy simulation data according to a model we want to look at, and will fit the data. This is a common task in HEP analysis. We will even make it a bit more complicated ... and will use `TensorFlow`.\n",
    "\n",
    "Do not hesitate to play around, change things, use the ecosystem to produce plots differently, etc.!"
   ]
  },
  {
   "cell_type": "markdown",
   "metadata": {},
   "source": [
    "&nbsp;<br><center><img src=\"images/logo_zfit.png\" style=\"width:150px;\"/></center>\n",
    "\n",
    "<center><h2><b><span style=\"color:green\">Model building and fitting library based on TensorFlow</span></b></h2></center>"
   ]
  },
  {
   "cell_type": "markdown",
   "metadata": {},
   "source": [
    "The `zfit` package is a model fitting library based on TensorFlow and optimised for simple and direct manipulation of probability density functions. The main focus is on the scalability, parallelisation and a Pythonic user friendly experience framework."
   ]
  },
  {
   "cell_type": "markdown",
   "metadata": {},
   "source": [
    "## **A HEP common use-case - simultaneoous fit to a signal decay and a control mode**"
   ]
  },
  {
   "cell_type": "markdown",
   "metadata": {},
   "source": [
    "<div class=\"alert alert-info\">\n",
    "\n",
    "<b>Acknowledgements:</b>\n",
    "\n",
    "This tutorial is largely based on code kindly provided by Jonas Eschle (University of Zurich), the main author and maintainer of zfit.\n",
    "It showcases the generation and fit of samples of $ B^0 \\to \\mu^+ \\mu^- K^{*0}$ events (for the sake of example),\n",
    "including a simultaneous fit, and the subsequent determination of the signal significance.\n",
    "</div>"
   ]
  },
  {
   "cell_type": "markdown",
   "metadata": {},
   "source": [
    "### Unbinned maximum likelihood model fit to $B^0 \\to \\mu^+ \\mu^- K^{*0}$\n",
    "\n",
    "The fit will be done in three steps using the `zfit` package:\n",
    "- A fit with the (exponential) combinatorial background to the right-hand side of the signal peak, to obtain good starting values for the fitting parameters.\n",
    "- A model composed of an exponential for the combinatorial background and a double Crystal Ball (DoubleCB) function for the $B^0 \\to \\mu^+ \\mu^- K^{*0}$ signal is built and fitted to the \"rare\" mode. This is hard to get right, as we set low statistics in the rare mode.\n",
    "- To improve the fit, the same model with a few shared parameters is built for the resonant mode $B^0 \\to J/\\psi (\\to \\mu^+ \\mu^-) K^{*0}$,\n",
    "  to improve the shape of the DoubleCB, as mostly the tails are tricky. They seem to be independent of $q^2 (\\mu\\mu)$, so we can share them."
   ]
  },
  {
   "cell_type": "markdown",
   "metadata": {},
   "source": [
    "### **0. Imports, settings, helper functions**\n",
    "\n",
    "Let's start by importing\n",
    "- Standard library modules\n",
    "- Used Scikit-HEP packages\n",
    "- `phasespace` and `zfit`\n",
    "\n",
    "... this is what is meant by working with an ecosystem (where you take what you need, and no more) ;-)."
   ]
  },
  {
   "cell_type": "code",
   "execution_count": 1,
   "metadata": {},
   "outputs": [
    {
     "name": "stdout",
     "output_type": "stream",
     "text": [
      "zfit version: 0.5.4\n"
     ]
    }
   ],
   "source": [
    "from pprint import pprint\n",
    "\n",
    "import matplotlib.pyplot as plt\n",
    "import numpy as np\n",
    "\n",
    "import tensorflow as tf\n",
    "import tensorflow_probability as tfp\n",
    "\n",
    "from particle.particle import literals as lp\n",
    "from hepstats import hypotests\n",
    "\n",
    "from phasespace import GenParticle\n",
    "\n",
    "import os\n",
    "os.environ['ZFIT_DISABLE_TF_WARNINGS'] = \"True\"  # suppresses TensorFlow warnings\n",
    "import zfit\n",
    "print('zfit version:', zfit.__version__)"
   ]
  },
  {
   "cell_type": "markdown",
   "metadata": {},
   "source": [
    "**General settings**"
   ]
  },
  {
   "cell_type": "code",
   "execution_count": 2,
   "metadata": {},
   "outputs": [],
   "source": [
    "seed = 11  # a \"good\" seed\n",
    "tf.random.set_seed(seed)\n",
    "np.random.seed(seed)\n",
    "\n",
    "# Take the PDG particle masses from the Particle package.\n",
    "B0_MASS = lp.B_0.mass\n",
    "JPSI_MASS = lp.Jpsi_1S.mass\n",
    "KSTARZ_MASS = lp.Kst_892_0.mass\n",
    "KSTARZ_WIDTH = lp.Kst_892_0.width\n",
    "PION_MASS = lp.pi_minus.mass\n",
    "KAON_MASS = lp.K_plus.mass\n",
    "MU_MASS = lp.mu_minus.mass\n",
    "\n",
    "# Yields - feel free to change these to play around.\n",
    "n_sig_rare = 120\n",
    "n_sig_reso = 4000\n",
    "n_bkg_rare = 5000\n",
    "n_bkg_reso = 3000\n",
    "\n",
    "# Detector smearing of the particles 4-momenta (sigma of a Gaussian).\n",
    "rare_smearing = 7\n",
    "reso_smearing = 7"
   ]
  },
  {
   "cell_type": "markdown",
   "metadata": {},
   "source": [
    "**Helper functions**"
   ]
  },
  {
   "cell_type": "code",
   "execution_count": 3,
   "metadata": {},
   "outputs": [],
   "source": [
    "def invariant_mass(four_momenta):\n",
    "    \"\"\"Calculate the invariant mass given four momenta with shape (n_events, 4) with px, py, pz, E.\"\"\"\n",
    "    momenta_squared = four_momenta ** 2\n",
    "    return np.sqrt(momenta_squared[:, 3] - np.sum((momenta_squared[:, :3]), axis=-1))"
   ]
  },
  {
   "cell_type": "markdown",
   "metadata": {},
   "source": [
    "Since the generation of the decays will be kinematically sampled from a fixed B mass, currently the reconstructed invariant B mass would only\n",
    "be a sharp peak. To include detector resolution effects and make it look more like real data/MC, the particles are smeared according to the function below."
   ]
  },
  {
   "cell_type": "code",
   "execution_count": 4,
   "metadata": {},
   "outputs": [],
   "source": [
    "def smear_momenta(four_momenta, smearing=10):\n",
    "    \"\"\"Smears the momenta (gaussian) with a width of `smearing`.\"\"\"\n",
    "    # The four_momenta are \"eager_tensors\", wrapped numpy arrays. \n",
    "    # We could convert them with `np.array(four_momenta)`\n",
    "    return np.random.normal(loc=four_momenta, scale=smearing)"
   ]
  },
  {
   "cell_type": "markdown",
   "metadata": {},
   "source": [
    "### **1. Phasespace generation of the rare signal**\n",
    "\n",
    "To generate the signal, we will sample from the phasespace of the decay and apply some ad-hoc smearing.\n",
    "Using the `phasespace` package, a decay chain has to be sticked together with the different particles.\n",
    "While this is simple to do for non-resonant particles with a fixed mass, since it is only a number,\n",
    "phasespace allows also for (arbitrary) resonance shapes of the mass. Therefore, instead of a constant number,\n",
    "a function that samples from the resonance can be provided, whereby `min_mass` and `max_mass` specify the kinematically\n",
    "allowed boundaries for the mass. This is best illustrated with the example below.\n",
    "\n",
    "The $K^{*0}$ is resonant; we define here the sampling of the mass.\n",
    "Either zfit PDFs or TensorFlow Probability distributions (or anything using TensorFlow, also arbitrary\n",
    "Python functions wrapped with `tf.py_function`, can be used). White TensorFlow Probability offers many useful\n",
    "distributions, they often have support from -inf to inf, while zfit PDFs offer the possitility to sample only\n",
    "within certain limits."
   ]
  },
  {
   "cell_type": "code",
   "execution_count": 5,
   "metadata": {},
   "outputs": [],
   "source": [
    "def kstar_mass(min_mass, max_mass, n_events):\n",
    "    # Make sure everything is float64.\n",
    "    min_mass = tf.cast(min_mass, tf.float64)\n",
    "    max_mass = tf.cast(max_mass, tf.float64)\n",
    "    kstar_width_cast = tf.cast(KSTARZ_WIDTH, tf.float64)\n",
    "    kstar_mass_cast = tf.cast(KSTARZ_MASS, dtype=tf.float64)\n",
    "\n",
    "    # To produce n_events samples, we can e.g. broadcast the K*0 mass (currently a scalar)\n",
    "    # to have the right shape (n_events,). But there are many ways, also see TensorFlow Probability Distributions.\n",
    "    kstar_mass = tf.broadcast_to(kstar_mass_cast, shape=(n_events,))\n",
    "    if KSTARZ_WIDTH > 0:\n",
    "        kstar_mass = tfp.distributions.TruncatedNormal(loc=kstar_mass,\n",
    "                                                       scale=kstar_width_cast,\n",
    "                                                       low=min_mass,\n",
    "                                                       high=max_mass).sample()\n",
    "    return kstar_mass"
   ]
  },
  {
   "cell_type": "markdown",
   "metadata": {},
   "source": [
    "**1.a. Decay chain generation with smeared momenta for the daughter particles**"
   ]
  },
  {
   "cell_type": "code",
   "execution_count": 6,
   "metadata": {},
   "outputs": [],
   "source": [
    "# Create the K*0 and also set its children.\n",
    "kstar = GenParticle('K*0', mass=kstar_mass).set_children(GenParticle('K+', mass=KAON_MASS),\n",
    "                                                         GenParticle('pi-', mass=PION_MASS))\n",
    "bz = GenParticle('B0', B0_MASS).set_children(kstar,\n",
    "                                             GenParticle('mu+', mass=MU_MASS),\n",
    "                                             GenParticle('mu-', mass=MU_MASS))\n",
    "\n",
    "# `generate` returns the weights of the event and a dict which contains the 4-momenta of the particles\n",
    "# as {particle_name: EagerTensor of shape (n_events, 4)}, where an EagerTensor is basically a wrapped NumPy array.\n",
    "# and the particle_name is e.g. 'K+', 'K*0', the name that has been used above.\n",
    "weights, particles = bz.generate(n_sig_rare)\n",
    "weights = weights / np.average(weights)\n",
    "weights = weights.numpy()\n",
    "\n",
    "# Since this is kinematically sampled from a fixed B0 mass, currently the reconstructed invariant B0 mass would only\n",
    "# be a sharp peak. To include detector resolution effects and make it look more like real data/MC, the particles are smeared.\n",
    "smeared_momenta = {}\n",
    "daugther_particles = ['K+', 'pi-', 'mu+', 'mu-']\n",
    "for particle in daugther_particles:\n",
    "    smeared_momenta[particle] = smear_momenta(particles[particle], smearing=rare_smearing)\n",
    "\n",
    "# Reconstruct the mother particles using the smeared daughters.\n",
    "smeared_momenta['K*0'] = smeared_momenta['K+'] + smeared_momenta['pi-']\n",
    "# Reminder - no J/psi in the rare mode. The name 'Jpsi' is simply used for convenience.\n",
    "smeared_momenta['Jpsi'] = smeared_momenta['mu+'] + smeared_momenta['mu-']\n",
    "smeared_momenta['B0'] = smeared_momenta['K*0'] + smeared_momenta['Jpsi']"
   ]
  },
  {
   "cell_type": "markdown",
   "metadata": {},
   "source": [
    "The B0 invariant mass and (mu+,mu-)-pair invariant mass squared are simply"
   ]
  },
  {
   "cell_type": "code",
   "execution_count": 7,
   "metadata": {},
   "outputs": [
    {
     "data": {
      "text/plain": [
       "True"
      ]
     },
     "execution_count": 7,
     "metadata": {},
     "output_type": "execute_result"
    }
   ],
   "source": [
    "b_mass_rare = invariant_mass(smeared_momenta['B0'])\n",
    "q2 = invariant_mass(smeared_momenta['Jpsi']) ** 2\n",
    "\n",
    "# Indeed n_sig_rare decays have been generated\n",
    "b_mass_rare.size == q2.size == n_sig_rare"
   ]
  },
  {
   "cell_type": "markdown",
   "metadata": {},
   "source": [
    "**1.b. Visualisation of the spectrum**"
   ]
  },
  {
   "cell_type": "code",
   "execution_count": 8,
   "metadata": {},
   "outputs": [
    {
     "data": {
      "text/plain": [
       "<matplotlib.legend.Legend at 0x7f5f786f77f0>"
      ]
     },
     "execution_count": 8,
     "metadata": {},
     "output_type": "execute_result"
    },
    {
     "data": {
      "image/png": "[encoded data removed]",
      "text/plain": [
       "<Figure size 432x288 with 1 Axes>"
      ]
     },
     "metadata": {
      "needs_background": "light"
     },
     "output_type": "display_data"
    },
    {
     "data": {
      "image/png": "[encoded data removed]",
      "text/plain": [
       "<Figure size 432x288 with 1 Axes>"
      ]
     },
     "metadata": {
      "needs_background": "light"
     },
     "output_type": "display_data"
    }
   ],
   "source": [
    "# X-axis label, to be used later.\n",
    "xlabel_bmass = 'm($K^+ \\pi^- \\mu^+ \\mu^-$) [MeV/c^2]'\n",
    "\n",
    "# Plot the B0 mass with the weights. It is basically the same as without weights.\n",
    "plt.figure()\n",
    "plt.title(\"$B^0$ mass generated non resonant\")\n",
    "plt.hist(b_mass_rare, weights=weights, alpha=0.5, bins=40, label=\"with weights\")\n",
    "plt.hist(b_mass_rare, bins=40, alpha=0.5, label=\"no weights\")\n",
    "plt.xlabel(xlabel_bmass)\n",
    "plt.legend()\n",
    "\n",
    "plt.figure()\n",
    "plt.title(\"$q^2$ generated non resonant\")\n",
    "plt.hist(q2, weights=weights, alpha=0.5, bins=40, label=\"with weights\")\n",
    "plt.hist(q2, bins=40, alpha=0.5, label=\"no weights\")\n",
    "plt.xlabel('$q^2 [MeV^2/c^4]$')\n",
    "plt.legend()"
   ]
  },
  {
   "cell_type": "markdown",
   "metadata": {},
   "source": [
    "### **2. Fit to the rare signal**"
   ]
  },
  {
   "cell_type": "markdown",
   "metadata": {},
   "source": [
    "As a reminder (see above), the fit of the rare (non-resonant) decay will be done in three steps:\n",
    "- A fit with the (exponential) combinatorial background to the right-hand side of the signal peak, to obtain good starting values for the fitting parameters.\n",
    "- A model composed of an exponential for the combinatorial background and a DoubleCB function for the $B^0 \\to \\mu^+ \\mu^- K^{*0}$ signal is built and fitted to the \"rare\" mode. This is hard to get right, as we set low statistics in the rare mode.\n",
    "- In the next section the resonant mode $B^0 \\to J/\\psi (\\to \\mu^+ \\mu^-) K^{*0}$ will be exploited to improve the fit,\n",
    "  using the same model with a few shared parameters.\n",
    "\n",
    "#### If the fit does not converge\n",
    "\n",
    "Finding the minimum given some parameters is in general not a simple problem. Two major reasons this does\n",
    "not work well are the initial values and the *step size*, which may be too far off or too large/small. The latter\n",
    "should be around the uncertainty of the parameter (once the fit will be converged). More information can be\n",
    "found at https://github.com/zfit/zfit/wiki/FAQ#fitting-and-minimization."
   ]
  },
  {
   "cell_type": "markdown",
   "metadata": {},
   "source": [
    "**2.a Fit to the right-hand sideband**"
   ]
  },
  {
   "cell_type": "markdown",
   "metadata": {},
   "source": [
    "The range of the mass, the observable, defines the range of the data and hence of the fit - [5000, 5600] MeV."
   ]
  },
  {
   "cell_type": "code",
   "execution_count": 9,
   "metadata": {},
   "outputs": [],
   "source": [
    "# The observable and its range are defined.\n",
    "upper_limit = 5600\n",
    "obs = zfit.Space('Bmass', (5000, upper_limit))  # for whole range\n",
    "obs_bkg = zfit.Space('Bmass', (5400, upper_limit))  # to pre-fit the exponential"
   ]
  },
  {
   "cell_type": "markdown",
   "metadata": {},
   "source": [
    "We first need to generate some background data! Indeed only signal has been generated so far."
   ]
  },
  {
   "cell_type": "code",
   "execution_count": 10,
   "metadata": {},
   "outputs": [],
   "source": [
    "# Parameters are specified:  (name (unique), initial, lower, upper) whereas lower, upper are optional.\n",
    "lambda_rare = zfit.Parameter('lambda_rare', -0.002, -0.01, -0.0001, step_size=0.0005)  # floating, also without limits\n",
    "comb_bkg_rare = zfit.pdf.Exponential(lambda_rare, obs=obs)\n",
    "\n",
    "# Create the background data.\n",
    "comb_bkg_rare_sample = comb_bkg_rare.sample(n=n_bkg_rare)  # sampled within the limits of `obs`"
   ]
  },
  {
   "cell_type": "markdown",
   "metadata": {},
   "source": [
    "At last, the right-hand side of the data, which is only the combinatorial background freshly generated, is fitted to the exponential model in order to get a good initial value."
   ]
  },
  {
   "cell_type": "code",
   "execution_count": 11,
   "metadata": {},
   "outputs": [
    {
     "name": "stderr",
     "output_type": "stream",
     "text": [
      "/srv/conda/envs/notebook/lib/python3.8/site-packages/zfit/minimizers/minimizer_minuit.py:165: IMinuitWarning: Setting print_level >=3 has the side-effect of setting the level globally for all Minuit instances\n",
      "  minimizer = iminuit.Minuit.from_array_func(fcn=func, start=start_values,\n",
      "/srv/conda/envs/notebook/lib/python3.8/site-packages/zfit/util/cache.py:283: VisibleDeprecationWarning: Creating an ndarray from ragged nested sequences (which is a list-or-tuple of lists-or-tuples-or ndarrays with different lengths or shapes) is deprecated. If you meant to do this, you must specify 'dtype=object' when creating the ndarray\n",
      "  return all(np.equal(self.immutable_representation, other.immutable_representation))\n"
     ]
    },
    {
     "name": "stdout",
     "output_type": "stream",
     "text": [
      "┌──────────────────────────────────┬──────────────────────────────────────┐\n",
      "│ FCN = 5530                       │        Ncalls = 22 (22 total)        │\n",
      "│ EDM = 1.15e-05 (Goal: 0.001)     │               up = 0.5               │\n",
      "├───────────────┬──────────────────┼──────────────────────────────────────┤\n",
      "│ Valid Minimum │ Valid Parameters │        No Parameters at limit        │\n",
      "├───────────────┴──────────────────┼──────────────────────────────────────┤\n",
      "│ Below EDM threshold (goal x 10)  │           Below call limit           │\n",
      "├───────────────┬──────────────────┼───────────┬─────────────┬────────────┤\n",
      "│   Hesse ok    │  Has Covariance  │ Accurate  │  Pos. def.  │ Not forced │\n",
      "└───────────────┴──────────────────┴───────────┴─────────────┴────────────┘\n"
     ]
    }
   ],
   "source": [
    "right_tale_data_rare = zfit.Data.from_numpy(obs=obs_bkg, array=comb_bkg_rare_sample.value())\n",
    "\n",
    "# Set the value of lambda to something different than we sampled from (for the fit afterwards).\n",
    "lambda_rare.set_value(-0.003)\n",
    "\n",
    "# The normalisation range is temporarily set to the right-hand side only.\n",
    "with comb_bkg_rare.set_norm_range(obs_bkg):\n",
    "    right_tale_loss = zfit.loss.UnbinnedNLL(comb_bkg_rare, right_tale_data_rare)\n",
    "    minimizer = zfit.minimize.Minuit(verbosity=7, use_minuit_grad=True)\n",
    "    result_right_tale = minimizer.minimize(right_tale_loss)"
   ]
  },
  {
   "cell_type": "code",
   "execution_count": 12,
   "metadata": {},
   "outputs": [
    {
     "data": {
      "text/plain": [
       "\u001b[1mFitResult\u001b[22m of\n",
       "<UnbinnedNLL model=[<zfit.Exponential  params=[lambda_rare] dtype=float64>0] data=[<zfit.core.data.Data object at 0x7f5f78295f10>] constraints=[]> \n",
       "with\n",
       "<Minuit strategy=PushbackStrategy tolerance=0.001>\n",
       "\n",
       "╒═════════╤═════════════╤══════════════════╤═════════╤═════════════╕\n",
       "│ valid   │ converged   │ param at limit   │ edm     │ min value   │\n",
       "╞═════════╪═════════════╪══════════════════╪═════════╪═════════════╡\n",
       "│ \u001b[48;5;10mTrue\u001b[0m    │ True\u001b[0m        │ False\u001b[0m            │ 1.2e-05 │ 5530        │\n",
       "╘═════════╧═════════════╧══════════════════╧═════════╧═════════════╛\n",
       "\n",
       "\u001b[1mParameters\n",
       "\u001b[22mname              value    at limit\n",
       "-----------  ----------  ----------\n",
       "lambda_rare  -0.0008876       False\u001b[0m"
      ]
     },
     "execution_count": 12,
     "metadata": {},
     "output_type": "execute_result"
    }
   ],
   "source": [
    "result_right_tale"
   ]
  },
  {
   "cell_type": "markdown",
   "metadata": {},
   "source": [
    "**2.b Fit to the full spectrum**"
   ]
  },
  {
   "cell_type": "code",
   "execution_count": 13,
   "metadata": {},
   "outputs": [
    {
     "data": {
      "image/png": "[encoded data removed]",
      "text/plain": [
       "<Figure size 432x288 with 1 Axes>"
      ]
     },
     "metadata": {
      "needs_background": "light"
     },
     "output_type": "display_data"
    }
   ],
   "source": [
    "# Create the data for the rare fit\n",
    "rare_data_np = np.concatenate([b_mass_rare, comb_bkg_rare_sample[:, 0]], axis=0)\n",
    "rare_weights_np = np.concatenate([weights, np.ones_like(comb_bkg_rare_sample[:, 0])], axis=0)\n",
    "# TODO: we could do some data preprocessing here (e.g. apply a cut to q2, which we actually\n",
    "# need to have \"no Jpsi\" in there). This can be done with pandas and then loaded into zfit\n",
    "\n",
    "rare_data = zfit.Data.from_numpy(obs=obs, array=rare_data_np, weights=rare_weights_np)\n",
    "# Data can also be loaded from ROOT\n",
    "# right_tale_data_rare = zfit.Data.from_root(...)\n",
    "\n",
    "# ...or to/from a pandas DataFrame. Either convert the `zfit.Data` to a pandas DF\n",
    "# right_tale_data_rare_df = right_tale_data_rare.to_pandas()\n",
    "# .... or create it from scratch\n",
    "# right_tale_data_rare_df = pd.DataFrame(data=rare_data_np, columns=obs_bkg.obs)\n",
    "# Then we can directly load it\n",
    "# right_tale_data_rare = zfit.Data.from_pandas(df=right_tale_data_rare_df, obs=obs_bkg)\n",
    "\n",
    "# (maybe remove plot, just for data visualisation example?)\n",
    "plt.figure()\n",
    "plt.title(\"Invariant mass of combinatorial bkg and signal $B^0 -> K^{*} (-> K^+ \\pi^-) \\mu^+ \\mu^-$\")\n",
    "plt.hist(rare_data_np, weights=rare_weights_np, bins=40)\n",
    "plt.xlabel(xlabel_bmass)\n",
    "\n",
    "# Create the model to fit to the rare mode\n",
    "\n",
    "# Parameters for the model\n",
    "mu = zfit.Parameter('mu', 5270, 5200, 5350, step_size=3)\n",
    "sigma = zfit.Parameter('sigma', 22, 1, 100, step_size=0.1)\n",
    "\n",
    "# A double crystalball, a sum of two Crystal Ball functions will be used\n",
    "alphal_rare = zfit.Parameter('alpha left rare', -0.3, -5, 0)\n",
    "nl_rare = zfit.Parameter('n left rare', 0.3, 0, 10)\n",
    "alphar_rare = zfit.Parameter('alpha right rare', 1, 0, 5)\n",
    "nr_rare = zfit.Parameter('n right rare', 2.8, 0, 10)\n",
    "frac_dcb_rare = zfit.Parameter('frac dcb', 0.3, 0.1, 0.9)\n",
    "\n",
    "left_cb_rare = zfit.pdf.CrystalBall(obs=obs,\n",
    "                                    mu=mu, sigma=sigma,\n",
    "                                    alpha=alphal_rare, n=nl_rare,\n",
    "                                    )\n",
    "right_cb_rare = zfit.pdf.CrystalBall(obs=obs,\n",
    "                                     mu=mu, sigma=sigma,\n",
    "                                     alpha=alphar_rare, n=nr_rare,\n",
    "                                     )\n",
    "signal_rare = zfit.pdf.SumPDF([left_cb_rare, right_cb_rare], fracs=frac_dcb_rare)\n",
    "\n",
    "\n",
    "# Create the yields and the extended pdfs\n",
    "rare_sig_yield = zfit.Parameter('rare_sig_yield', n_sig_rare + 30,\n",
    "                                step_size=3)  # step size: default is small, use appropriate\n",
    "rare_bkg_yield = zfit.Parameter('rare_bkg_yield', n_bkg_rare - 40, step_size=1)\n",
    "# Create extended PDFs\n",
    "extended_sig_rare = signal_rare.create_extended(rare_sig_yield)\n",
    "extended_bkg_rare = comb_bkg_rare.create_extended(rare_bkg_yield)\n",
    "\n",
    "# The final model is the combination of the signal and backgrond pdf\n",
    "model_rare = zfit.pdf.SumPDF([extended_sig_rare, extended_bkg_rare])\n",
    "\n",
    "\n",
    "# Different models could be used here. A more simple model, such as a Gaussian...\n",
    "# signal_rare = zfit.pdf.Gauss(mu=mu, sigma=sigma, obs=obs)\n",
    "\n",
    "# ...or even a completely custom PDF. Explained also here: \n",
    "# https://zfit.readthedocs.io/en/latest/getting_started/intro/model.html#custom-pdf\n",
    "# from zfit import z  # backend, can also use TensorFlow directly\n",
    "#\n",
    "# class MySignal(zfit.ZPDF):\n",
    "#     _N_OBS = 1\n",
    "#     _PARAMS = ['mean', 'width']\n",
    "#    \n",
    "#     # Implement the shape (unnormalized) of your pdf. If the analytical integral is known, it can be\n",
    "#     # registered later on.\n",
    "#     def _unnormalized_pdf(self, x):\n",
    "#         x = z.unstack(x)  # could be higher dimensional\n",
    "#         mean = self.params['mean']\n",
    "#         width = self.params['width']\n",
    "#         return z.exp((x - mean) ** 2 / (2 * width ** 2))  # Gaussian, unnormalized\n",
    "#\n",
    "#\n",
    "# signal_rare = MySignal(mean=mu, width=sigma, obs=obs)"
   ]
  },
  {
   "cell_type": "markdown",
   "metadata": {},
   "source": [
    "**2.c. Visualisation of the spectrum**"
   ]
  },
  {
   "cell_type": "code",
   "execution_count": 14,
   "metadata": {},
   "outputs": [
    {
     "name": "stderr",
     "output_type": "stream",
     "text": [
      "<ipython-input-14-632c93bbcb5d>:5: UserWarning: The function <function Space.area at 0x7f5fa5a8ad30> may does not return the actual area/limits but rather the rectangular limits. <zfit Space obs=('Bmass',), axes=(0,), limits=(array([[5000.]]), array([[5600.]]))> can also have functional limits that are arbitrarily defined and lay inside the rect_limits. To test if a value is inside, use `inside` or `filter`.\n",
      "  plot_scaling = data.nevents / n_bins * space.area()\n",
      "<ipython-input-14-632c93bbcb5d>:6: UserWarning: The function <function Space.limit1d at 0x7f5fa5a8af70> may does not return the actual area/limits but rather the rectangular limits. <zfit Space obs=('Bmass',), axes=(0,), limits=(array([[5000.]]), array([[5600.]]))> can also have functional limits that are arbitrarily defined and lay inside the rect_limits. To test if a value is inside, use `inside` or `filter`.\n",
      "  lower, upper = space.limit1d\n"
     ]
    },
    {
     "data": {
      "image/png": "[encoded data removed]",
      "text/plain": [
       "<Figure size 432x288 with 1 Axes>"
      ]
     },
     "metadata": {
      "needs_background": "light"
     },
     "output_type": "display_data"
    },
    {
     "name": "stderr",
     "output_type": "stream",
     "text": [
      "/srv/conda/envs/notebook/lib/python3.8/site-packages/zfit/minimizers/minimizer_minuit.py:165: IMinuitWarning: Setting print_level >=3 has the side-effect of setting the level globally for all Minuit instances\n",
      "  minimizer = iminuit.Minuit.from_array_func(fcn=func, start=start_values,\n",
      "/srv/conda/envs/notebook/lib/python3.8/site-packages/zfit/util/cache.py:283: VisibleDeprecationWarning: Creating an ndarray from ragged nested sequences (which is a list-or-tuple of lists-or-tuples-or ndarrays with different lengths or shapes) is deprecated. If you meant to do this, you must specify 'dtype=object' when creating the ndarray\n",
      "  return all(np.equal(self.immutable_representation, other.immutable_representation))\n"
     ]
    },
    {
     "name": "stdout",
     "output_type": "stream",
     "text": [
      "┌──────────────────────────────────┬──────────────────────────────────────┐\n",
      "│ FCN = -6177                      │       Ncalls = 728 (728 total)       │\n",
      "│ EDM = 0.000341 (Goal: 0.001)     │               up = 0.5               │\n",
      "├───────────────┬──────────────────┼──────────────────────────────────────┤\n",
      "│ Valid Minimum │ Valid Parameters │       SOME Parameters at limit       │\n",
      "├───────────────┴──────────────────┼──────────────────────────────────────┤\n",
      "│ Below EDM threshold (goal x 10)  │           Below call limit           │\n",
      "├───────────────┬──────────────────┼───────────┬─────────────┬────────────┤\n",
      "│   Hesse ok    │  Has Covariance  │ Accurate  │  Pos. def.  │ Not forced │\n",
      "└───────────────┴──────────────────┴───────────┴─────────────┴────────────┘\n"
     ]
    },
    {
     "name": "stderr",
     "output_type": "stream",
     "text": [
      "/srv/conda/envs/notebook/lib/python3.8/site-packages/IPython/core/pylabtools.py:132: UserWarning: Creating legend with loc=\"best\" can be slow with large amounts of data.\n",
      "  fig.canvas.print_figure(bytes_io, **kw)\n"
     ]
    },
    {
     "data": {
      "image/png": "[encoded data removed]",
      "text/plain": [
       "<Figure size 432x288 with 1 Axes>"
      ]
     },
     "metadata": {
      "needs_background": "light"
     },
     "output_type": "display_data"
    }
   ],
   "source": [
    "# In order to plot our model, a helper function is created\n",
    "def plot_pdf_data(data, model, title, n_bins=40):\n",
    "    linewidth = 2.5\n",
    "    space = data.data_range\n",
    "    plot_scaling = data.nevents / n_bins * space.area()\n",
    "    lower, upper = space.limit1d\n",
    "    x = np.linspace(lower, upper, 1000)\n",
    "\n",
    "    plt.figure()\n",
    "    plt.title(title)\n",
    "\n",
    "    # plot the data\n",
    "    data_np = data[:, 0]\n",
    "    plt.hist(data_np,\n",
    "             # color=color,\n",
    "             bins=n_bins, histtype=\"stepfilled\", alpha=0.1)\n",
    "    plt.hist(data_np,\n",
    "             # color=color,\n",
    "             bins=n_bins, histtype=\"step\")\n",
    "    # plot the pdfs\n",
    "    y = zfit.run(model.pdf(x))\n",
    "    y_sig = zfit.run(model.pdfs[0].pdf(x) * model.fracs[0])# notice the frac!\n",
    "    y_bkg = zfit.run(model.pdfs[1].pdf(x) * model.fracs[1])  # notice the frac!\n",
    "\n",
    "    plt.plot(x, y * plot_scaling, label=\"Sum - Model\", linewidth=linewidth * 2)\n",
    "    plt.plot(x, y_sig * plot_scaling, '--', label=f\"{model.pdfs[0].name} - Signal\", linewidth=linewidth)\n",
    "    plt.plot(x, y_bkg * plot_scaling, '--', label=f\"{model.pdfs[1].name} - Background\", linewidth=linewidth)\n",
    "    plt.xlabel(space.obs[0])\n",
    "    plt.legend()\n",
    "    \n",
    "\n",
    "plot_pdf_data(data=rare_data, model=model_rare, title='before fitting: $B^0 -> K^{*} (-> K^+ \\pi^-) \\mu^+ \\mu^-$')\n",
    "plt.show()\n",
    "\n",
    "# As a next step, the loss is created: the minimum of it defines the solution to the problem\n",
    "ext_rare_nll = zfit.loss.ExtendedUnbinnedNLL(model_rare, rare_data)\n",
    "\n",
    "# The minimization uses by default all floating parameters (that the model(s) used in the loss depend on)\n",
    "# but they can also be explicitly specified as an argument to `minimize`.\n",
    "result_rare = minimizer.minimize(ext_rare_nll)\n",
    "\n",
    "# The parameter values are set automatically to the value found at the minimum.\n",
    "plot_pdf_data(data=rare_data, model=model_rare, title='after rare fitting: $B^0 -> K^{*} (-> K^+ \\pi^-) \\mu^+ \\mu^-$')\n",
    "plt.show()"
   ]
  },
  {
   "cell_type": "code",
   "execution_count": 15,
   "metadata": {},
   "outputs": [
    {
     "name": "stdout",
     "output_type": "stream",
     "text": [
      "{<zfit.Parameter 'alpha left rare' floating=True value=-4.257>: {'value': -4.257120196987471},\n",
      " <zfit.Parameter 'lambda_rare' floating=True value=-0.002011>: {'value': -0.002011039131642748},\n",
      " <zfit.Parameter 'n right rare' floating=True value=6.539e-05>: {'value': 6.538538570688424e-05},\n",
      " <zfit.Parameter 'alpha right rare' floating=True value=0.0002425>: {'value': 0.00024249741221837873},\n",
      " <zfit.Parameter 'n left rare' floating=True value=0.486>: {'value': 0.4860143679129342},\n",
      " <zfit.Parameter 'frac dcb' floating=True value=0.6304>: {'value': 0.6303764661916278},\n",
      " <zfit.Parameter 'sigma' floating=True value=9.264>: {'value': 9.263629853806707},\n",
      " <zfit.Parameter 'rare_sig_yield' floating=True value=164.3>: {'value': 164.3393120596956},\n",
      " <zfit.Parameter 'rare_bkg_yield' floating=True value=4956>: {'value': 4956.343502826942},\n",
      " <zfit.Parameter 'mu' floating=True value=5282>: {'value': 5282.028559912763}}\n",
      "The fit converged: True, the minimum is -6177.436256880177\n"
     ]
    },
    {
     "name": "stderr",
     "output_type": "stream",
     "text": [
      "/srv/conda/envs/notebook/lib/python3.8/site-packages/zfit/minimizers/fitresult.py:360: FutureWarning: 'minuit_minos' will be changed as the default errors method to a custom implementationwith the same functionality. If you want to make sure that 'minuit_minos' will be used in the future, add it explicitly as in `errors(method='minuit_minos')`\n",
      "  warnings.warn(\"'minuit_minos' will be changed as the default errors method to a custom implementation\"\n"
     ]
    },
    {
     "name": "stdout",
     "output_type": "stream",
     "text": [
      "{<zfit.Parameter 'alpha left rare' floating=True value=-1.944>: {'value': -4.257120196987471},\n",
      " <zfit.Parameter 'lambda_rare' floating=True value=-0.002036>: {'value': -0.002011039131642748},\n",
      " <zfit.Parameter 'alpha right rare' floating=True value=6.129e-07>: {'value': 0.00024249741221837873},\n",
      " <zfit.Parameter 'n right rare' floating=True value=0.06404>: {'value': 6.538538570688424e-05},\n",
      " <zfit.Parameter 'frac dcb' floating=True value=0.8248>: {'value': 0.6303764661916278},\n",
      " <zfit.Parameter 'n left rare' floating=True value=5.224>: {'value': 0.4860143679129342},\n",
      " <zfit.Parameter 'sigma' floating=True value=9.416>: {'value': 9.263629853806707},\n",
      " <zfit.Parameter 'rare_sig_yield' floating=True value=164.3>: {'minuit_minos': MError(name='rare_sig_yield', is_valid=False, lower=-1.4121631534391828, upper=1.4121631534391828, lower_valid=False, upper_valid=False, at_lower_limit=False, at_upper_limit=False, at_lower_max_fcn=False, at_upper_max_fcn=False, lower_new_min=True, upper_new_min=True, nfcn=1024, min=164.3393120596956),\n",
      "                                                               'value': 164.3393120596956},\n",
      " <zfit.Parameter 'rare_bkg_yield' floating=True value=4992>: {'value': 4956.343502826942},\n",
      " <zfit.Parameter 'mu' floating=True value=5282>: {'minuit_minos': MError(name='mu', is_valid=False, lower=-2.291295537712813, upper=2.291295537712813, lower_valid=False, upper_valid=False, at_lower_limit=False, at_upper_limit=False, at_lower_max_fcn=False, at_upper_max_fcn=False, lower_new_min=False, upper_new_min=False, nfcn=741, min=5282.028559912763),\n",
      "                                                  'value': 5282.028559912763}}\n",
      "Mu value of rare fit: 5282.028559912763 + 2.291295537712813 - 2.291295537712813\n"
     ]
    }
   ],
   "source": [
    "# The information about the minimization and the result of it are stored in the\n",
    "# FitResult that is returned. It contains e.g. information about the parameters\n",
    "pprint(result_rare.params)\n",
    "\n",
    "# ...and more:\n",
    "print(f\"The fit converged: {result_rare.converged}, the minimum is {result_rare.fmin}\")\n",
    "\n",
    "# Following are error estimations. They return the result and also add it into the `params` attribute.\n",
    "# Unfortunately, hesse is currently not yet supported with weights.\n",
    "# result_rare.hesse()  # error calculation using the inverse hessian approximation\n",
    "# result_rare.error()  # error calculation using minos, this takes all parameters (expensive)\n",
    "result_rare.error([rare_sig_yield, mu])  # just for specific parameters\n",
    "pprint(result_rare.params)\n",
    "\n",
    "# the params can be accesssed using the parameter objects (not their names!)\n",
    "mu_rare_fit = result_rare.params[mu]\n",
    "# they contain information about the result such as value etc\n",
    "print(f\"Mu value of rare fit: {mu_rare_fit['value']} \"\n",
    "      f\"+ {mu_rare_fit['minuit_minos']['upper']} \"\n",
    "      f\"- {mu_rare_fit['minuit_minos']['upper']}\"\n",
    "      # f\" (symmetric Hesse error: {mu_rare_fit['minuit_hesse']['error']})\"\n",
    "      )"
   ]
  },
  {
   "cell_type": "markdown",
   "metadata": {},
   "source": [
    "### **3. Phasespace generation of the resonant decay**\n",
    "\n",
    "Since the previous fit, e.g. the tail, was not great due to the lack of statistics, we can also fit the resonant mode simultaneously and share certain parameters.\n",
    "\n",
    "**3.a. Signal decay chain generation with smeared momenta for the daughter particles**"
   ]
  },
  {
   "cell_type": "code",
   "execution_count": 16,
   "metadata": {},
   "outputs": [
    {
     "data": {
      "text/plain": [
       "<matplotlib.legend.Legend at 0x7f5f456aba00>"
      ]
     },
     "execution_count": 16,
     "metadata": {},
     "output_type": "execute_result"
    },
    {
     "data": {
      "image/png": "[encoded data removed]",
      "text/plain": [
       "<Figure size 432x288 with 1 Axes>"
      ]
     },
     "metadata": {
      "needs_background": "light"
     },
     "output_type": "display_data"
    }
   ],
   "source": [
    "# Create the resonant decay. This is basically the same as above, we simply add an intermediate Jpsi.\n",
    "bz = GenParticle('B0', B0_MASS).set_children(kstar,\n",
    "                                             GenParticle('Jpsi', mass=JPSI_MASS).set_children(\n",
    "                                                 GenParticle('mu+', mass=MU_MASS),\n",
    "                                                 GenParticle('mu-', mass=MU_MASS)\n",
    "                                             ))\n",
    "\n",
    "weights_reso, particles_reso = bz.generate(n_sig_reso)\n",
    "weights_reso /= np.average(weights_reso)\n",
    "weights_reso = weights_reso.numpy()\n",
    "\n",
    "smeared_momenta_reso = {}\n",
    "daugther_particles_reso = ['K+', 'pi-', 'mu+', 'mu-']\n",
    "for particle in daugther_particles_reso:\n",
    "    smeared_momenta_reso[particle] = smear_momenta(particles_reso[particle], smearing=reso_smearing)\n",
    "\n",
    "smeared_momenta_reso['K*0'] = smeared_momenta_reso['K+'] + smeared_momenta_reso['pi-']\n",
    "smeared_momenta_reso['Jpsi'] = smeared_momenta_reso['mu+'] + smeared_momenta_reso['mu-']\n",
    "smeared_momenta_reso['B0'] = smeared_momenta_reso['K*0'] + smeared_momenta_reso['Jpsi']\n",
    "\n",
    "b_mass_reso = invariant_mass(smeared_momenta_reso['B0'])\n",
    "q2_reso = invariant_mass(smeared_momenta_reso['Jpsi'])\n",
    "\n",
    "# plot the q2\n",
    "plt.figure()\n",
    "plt.title(\"$q^2$ generated resonant\")\n",
    "plt.hist(q2_reso, weights=weights_reso, alpha=0.5, bins=40, label=\"with weights\")\n",
    "plt.hist(q2_reso, bins=40, alpha=0.5, label=\"no weights\")\n",
    "plt.legend()"
   ]
  },
  {
   "cell_type": "markdown",
   "metadata": {},
   "source": [
    "**3.b. Combinatorial background generation**"
   ]
  },
  {
   "cell_type": "code",
   "execution_count": 17,
   "metadata": {},
   "outputs": [
    {
     "data": {
      "text/plain": [
       "<zfit.util.temporary.TemporarilySet at 0x7f5f78749070>"
      ]
     },
     "execution_count": 17,
     "metadata": {},
     "output_type": "execute_result"
    }
   ],
   "source": [
    "lambda_reso = zfit.Parameter('lambda_reso', -0.002, -0.01, 0.0001)  # floating, also without limits\n",
    "comb_bkg_reso_pdf = zfit.pdf.Exponential(lambda_reso, obs=obs)\n",
    "\n",
    "# Create some background data\n",
    "comb_bkg_reso_sample = comb_bkg_reso_pdf.sample(n=n_bkg_reso)  # sampled within the limits of `obs`\n",
    "\n",
    "# Set the value of lambda to smth different then we sampled from (for the fit afterwards)\n",
    "lambda_reso.set_value(-0.01)"
   ]
  },
  {
   "cell_type": "markdown",
   "metadata": {},
   "source": [
    "**3.c. Signal + background data set**"
   ]
  },
  {
   "cell_type": "code",
   "execution_count": 18,
   "metadata": {},
   "outputs": [],
   "source": [
    "reso_data_np = np.concatenate([b_mass_reso, comb_bkg_reso_sample[:, 0]], axis=0)\n",
    "reso_weights_np = np.concatenate([weights_reso, np.ones_like(comb_bkg_reso_sample[:, 0])], axis=0)\n",
    "\n",
    "reso_data = zfit.Data.from_numpy(obs=obs, array=reso_data_np)"
   ]
  },
  {
   "cell_type": "markdown",
   "metadata": {},
   "source": [
    "**3.d. Visualisation of the full spectrum**"
   ]
  },
  {
   "cell_type": "code",
   "execution_count": 19,
   "metadata": {},
   "outputs": [
    {
     "data": {
      "text/plain": [
       "(array([ 125.        ,  129.        ,  129.        ,  117.        ,\n",
       "         124.        ,  117.        ,  108.        ,   96.        ,\n",
       "          89.        ,  109.        ,   85.        ,   87.        ,\n",
       "          87.        ,   89.        ,   85.        ,   88.19688328,\n",
       "         218.88169002,  896.229071  , 1689.92696254, 1202.24231287,\n",
       "         332.34392984,   84.17915045,   67.        ,   53.        ,\n",
       "          77.        ,   49.        ,   63.        ,   43.        ,\n",
       "          56.        ,   52.        ,   41.        ,   49.        ,\n",
       "          50.        ,   53.        ,   44.        ,   46.        ,\n",
       "          24.        ,   55.        ,   49.        ,   41.        ]),\n",
       " array([5000.22704681, 5015.22133792, 5030.21562903, 5045.20992015,\n",
       "        5060.20421126, 5075.19850238, 5090.19279349, 5105.1870846 ,\n",
       "        5120.18137572, 5135.17566683, 5150.16995795, 5165.16424906,\n",
       "        5180.15854017, 5195.15283129, 5210.1471224 , 5225.14141352,\n",
       "        5240.13570463, 5255.12999574, 5270.12428686, 5285.11857797,\n",
       "        5300.11286909, 5315.1071602 , 5330.10145131, 5345.09574243,\n",
       "        5360.09003354, 5375.08432466, 5390.07861577, 5405.07290688,\n",
       "        5420.067198  , 5435.06148911, 5450.05578023, 5465.05007134,\n",
       "        5480.04436245, 5495.03865357, 5510.03294468, 5525.0272358 ,\n",
       "        5540.02152691, 5555.01581803, 5570.01010914, 5585.00440025,\n",
       "        5599.99869137]),\n",
       " <BarContainer object of 40 artists>)"
      ]
     },
     "execution_count": 19,
     "metadata": {},
     "output_type": "execute_result"
    },
    {
     "data": {
      "image/png": "[encoded data removed]",
      "text/plain": [
       "<Figure size 432x288 with 1 Axes>"
      ]
     },
     "metadata": {
      "needs_background": "light"
     },
     "output_type": "display_data"
    }
   ],
   "source": [
    "# (maybe remove plot, just for data visualization example?)\n",
    "plt.figure()\n",
    "plt.title(\"Invariant B mass $B^0 -> K^{*} (-> K^+ \\pi^-) J/\\psi (-> \\mu^+ \\mu^-)$\")\n",
    "plt.xlabel(xlabel_bmass)\n",
    "plt.hist(reso_data_np, weights=reso_weights_np, bins=40)"
   ]
  },
  {
   "cell_type": "markdown",
   "metadata": {},
   "source": [
    "**3.e Model for the resonant decay**\n",
    "\n",
    "Create the full model to fit the spectrum of the resonant signal model and its related combinatorial background."
   ]
  },
  {
   "cell_type": "code",
   "execution_count": 20,
   "metadata": {},
   "outputs": [
    {
     "name": "stderr",
     "output_type": "stream",
     "text": [
      "/srv/conda/envs/notebook/lib/python3.8/site-packages/zfit/core/parameter.py:761: UserWarning: `dependents` is deprecated, use `params` instead.\n",
      "  warnings.warn(\"`dependents` is deprecated, use `params` instead.\")\n"
     ]
    }
   ],
   "source": [
    "# we can share parameters directly or create composed parameters. Here we have a\n",
    "# parameter that scales the sigma from the rare fit\n",
    "\n",
    "sigma_scaling = zfit.Parameter('sigma_scaling', 0.9, 0.5, 10, step_size=0.1)\n",
    "\n",
    "\n",
    "def sigma_scaled_fn():\n",
    "    return sigma * sigma_scaling  # this can be an arbitrary function\n",
    "\n",
    "\n",
    "sigma_scaled = zfit.ComposedParameter('sigma scaled', sigma_scaled_fn,\n",
    "                                      dependents=sigma  # the objects used inside the function\n",
    "                                      )\n",
    "\n",
    "# Instead of sharing, free parameters could be used. This would though defy the purpose of the simultaneous fit here.\n",
    "# If we know that some can't be shared though (e.g. the tails between a muon and electron modes), only certain parameters can be shared.\n",
    "# alphal_reso = zfit.Parameter('alpha left reso', -0.7, -5, 0)\n",
    "# nl_reso = zfit.Parameter('n left reso', 0.4, 0, 10)\n",
    "# alphar_reso = zfit.Parameter('alpha right reso', 1, 0, 5)\n",
    "# nr_reso = zfit.Parameter('n right reso', 1.8, 0, 10)\n",
    "alphal_reso = alphal_rare\n",
    "nl_reso = nl_rare\n",
    "alphar_reso = alphal_rare\n",
    "nr_reso = nr_rare\n",
    "\n",
    "# frac_dcb_reso = zfit.Parameter('frac dcb_reso', 0.5, 0.01, 0.99)\n",
    "frac_dcb_reso = frac_dcb_rare\n",
    "left_cb_reso = zfit.pdf.CrystalBall(obs=obs,\n",
    "                                    mu=mu, sigma=sigma_scaled,\n",
    "                                    alpha=alphal_reso, n=nl_reso,\n",
    "                                    )\n",
    "right_cb_reso = zfit.pdf.CrystalBall(obs=obs,\n",
    "                                     mu=mu, sigma=sigma_scaled,\n",
    "                                     alpha=alphar_reso, n=nr_reso,\n",
    "                                     )\n",
    "signal_reso = zfit.pdf.SumPDF([left_cb_reso, right_cb_reso], fracs=frac_dcb_reso)\n",
    "\n",
    "# Again, also a simpler (or custom) shape could be used\n",
    "# signal_reso = zfit.pdf.Gauss(mu=mu,  # using the same mu as above means it's shared\n",
    "#                              sigma=sigma_scaled, obs=obs)\n",
    "\n",
    "reso_sig_yield = zfit.Parameter('reso_sig_yield', n_sig_reso - 100, 0, n_sig_reso * 3,\n",
    "                                step_size=1)  # step size: default is small, use appropriate\n",
    "reso_bkg_yield = zfit.Parameter('reso_bkg_yield', n_bkg_reso + 70, 0, n_bkg_reso * 3, step_size=1)\n",
    "\n",
    "# Create the extended models\n",
    "extended_sig_reso = signal_reso.create_extended(reso_sig_yield)\n",
    "extended_bkg_reso = comb_bkg_reso_pdf.create_extended(reso_bkg_yield)\n",
    "model_reso = zfit.pdf.SumPDF([extended_bkg_reso, extended_sig_reso])"
   ]
  },
  {
   "cell_type": "markdown",
   "metadata": {},
   "source": [
    "### **4. Simultaneous fit**\n",
    "\n",
    "- Built the simultaneous loss function.\n",
    "- Run the simultaneous fit.\n",
    "- Print and plot the fit results."
   ]
  },
  {
   "cell_type": "code",
   "execution_count": 21,
   "metadata": {},
   "outputs": [
    {
     "name": "stderr",
     "output_type": "stream",
     "text": [
      "/srv/conda/envs/notebook/lib/python3.8/site-packages/zfit/core/loss.py:99: UserWarning: The fit_range argument is depreceated and will maybe removed in future releases. It is preferred to define the range in the space when creating the data and the model.\n",
      "  warnings.warn(\"The fit_range argument is depreceated and will maybe removed in future releases. \"\n",
      "/srv/conda/envs/notebook/lib/python3.8/site-packages/zfit/minimizers/minimizer_minuit.py:165: IMinuitWarning: Setting print_level >=3 has the side-effect of setting the level globally for all Minuit instances\n",
      "  minimizer = iminuit.Minuit.from_array_func(fcn=func, start=start_values,\n",
      "/srv/conda/envs/notebook/lib/python3.8/site-packages/zfit/util/cache.py:283: VisibleDeprecationWarning: Creating an ndarray from ragged nested sequences (which is a list-or-tuple of lists-or-tuples-or ndarrays with different lengths or shapes) is deprecated. If you meant to do this, you must specify 'dtype=object' when creating the ndarray\n",
      "  return all(np.equal(self.immutable_representation, other.immutable_representation))\n"
     ]
    },
    {
     "name": "stdout",
     "output_type": "stream",
     "text": [
      "┌──────────────────────────────────┬──────────────────────────────────────┐\n",
      "│ FCN = -2.235e+04                 │       Ncalls = 338 (338 total)       │\n",
      "│ EDM = 0.000562 (Goal: 0.001)     │               up = 0.5               │\n",
      "├───────────────┬──────────────────┼──────────────────────────────────────┤\n",
      "│ Valid Minimum │ Valid Parameters │       SOME Parameters at limit       │\n",
      "├───────────────┴──────────────────┼──────────────────────────────────────┤\n",
      "│ Below EDM threshold (goal x 10)  │           Below call limit           │\n",
      "├───────────────┬──────────────────┼───────────┬─────────────┬────────────┤\n",
      "│   Hesse ok    │  Has Covariance  │ Accurate  │  Pos. def.  │ Not forced │\n",
      "└───────────────┴──────────────────┴───────────┴─────────────┴────────────┘\n"
     ]
    }
   ],
   "source": [
    "# Constraints could also be added to the loss, we don't have a good use-case here, so we leave them away.\n",
    "# They usually resemble other measurements of a parameter with an uncertainty in the same order of\n",
    "# magnitude as the sensitivity of our fit. Too strong constraint parameters can be though of as constants,\n",
    "# too loose do not add anything.\n",
    "# constraint = zfit.constraint.GaussianConstraint(mu, observation=5279, uncertainty=50)\n",
    "# ext_reso_nll = zfit.loss.ExtendedUnbinnedNLL(model_reso, reso_data, constraints=constraint)\n",
    "\n",
    "ext_reso_nll = zfit.loss.ExtendedUnbinnedNLL(model_reso, reso_data)\n",
    "\n",
    "# to create a simultaneous loss, the individual losses are added\n",
    "simultaneous_loss = ext_reso_nll + ext_rare_nll\n",
    "\n",
    "result_simult = minimizer.minimize(simultaneous_loss)"
   ]
  },
  {
   "cell_type": "code",
   "execution_count": 22,
   "metadata": {},
   "outputs": [
    {
     "data": {
      "text/plain": [
       "\u001b[1mFitResult\u001b[22m of\n",
       "<ExtendedUnbinnedNLL model=[<zfit.SumPDF  params=[Composed_autoparam_8, Composed_autoparam_9] dtype=float64>0, <zfit.SumPDF  params=[Composed_autoparam_3, Composed_autoparam_4] dtype=float64>0] data=[<zfit.core.data.Data object at 0x7f5f782654c0>, <zfit.core.data.Data object at 0x7f5f786b3f10>] constraints=[]> \n",
       "with\n",
       "<Minuit strategy=PushbackStrategy tolerance=0.001>\n",
       "\n",
       "╒═════════╤═════════════╤══════════════════╤═════════╤═════════════╕\n",
       "│ valid   │ converged   │ param at limit   │ edm     │ min value   │\n",
       "╞═════════╪═════════════╪══════════════════╪═════════╪═════════════╡\n",
       "│ \u001b[48;5;10mTrue\u001b[0m    │ True\u001b[0m        │ False\u001b[0m            │ 0.00056 │ -2.235e+04  │\n",
       "╘═════════╧═════════════╧══════════════════╧═════════╧═════════════╛\n",
       "\n",
       "\u001b[1mParameters\n",
       "\u001b[22mname                  value    at limit\n",
       "----------------  ---------  ----------\n",
       "reso_bkg_yield         3002       False\u001b[0m\n",
       "reso_sig_yield         3998       False\u001b[0m\n",
       "lambda_reso       -0.002074       False\u001b[0m\n",
       "frac dcb             0.8773       False\u001b[0m\n",
       "alpha left rare      -3.761       False\u001b[0m\n",
       "mu                     5280       False\u001b[0m\n",
       "n left rare           1.862       False\u001b[0m\n",
       "sigma                 15.41       False\u001b[0m\n",
       "n right rare          2.813       False\u001b[0m\n",
       "rare_sig_yield        144.7       False\u001b[0m\n",
       "rare_bkg_yield         4976       False\u001b[0m\n",
       "alpha right rare  2.097e-10       False\u001b[0m\n",
       "lambda_rare       -0.002046       False\u001b[0m"
      ]
     },
     "execution_count": 22,
     "metadata": {},
     "output_type": "execute_result"
    }
   ],
   "source": [
    "result_simult"
   ]
  },
  {
   "cell_type": "code",
   "execution_count": 23,
   "metadata": {},
   "outputs": [
    {
     "name": "stderr",
     "output_type": "stream",
     "text": [
      "/srv/conda/envs/notebook/lib/python3.8/site-packages/IPython/core/pylabtools.py:132: UserWarning: Creating legend with loc=\"best\" can be slow with large amounts of data.\n",
      "  fig.canvas.print_figure(bytes_io, **kw)\n"
     ]
    },
    {
     "data": {
      "image/png": "[encoded data removed]",
      "text/plain": [
       "<Figure size 432x288 with 1 Axes>"
      ]
     },
     "metadata": {
      "needs_background": "light"
     },
     "output_type": "display_data"
    },
    {
     "data": {
      "image/png": "[encoded data removed]",
      "text/plain": [
       "<Figure size 432x288 with 1 Axes>"
      ]
     },
     "metadata": {
      "needs_background": "light"
     },
     "output_type": "display_data"
    },
    {
     "name": "stderr",
     "output_type": "stream",
     "text": [
      "/srv/conda/envs/notebook/lib/python3.8/site-packages/zfit/minimizers/fitresult.py:360: FutureWarning: 'minuit_minos' will be changed as the default errors method to a custom implementationwith the same functionality. If you want to make sure that 'minuit_minos' will be used in the future, add it explicitly as in `errors(method='minuit_minos')`\n",
      "  warnings.warn(\"'minuit_minos' will be changed as the default errors method to a custom implementation\"\n"
     ]
    },
    {
     "name": "stdout",
     "output_type": "stream",
     "text": [
      "OrderedDict([(<zfit.Parameter 'mu' floating=True value=5280>,\n",
      "              MError(name='mu', is_valid=False, lower=-0.24507226105066146, upper=0.2024576691751463, lower_valid=True, upper_valid=False, at_lower_limit=False, at_upper_limit=False, at_lower_max_fcn=False, at_upper_max_fcn=False, lower_new_min=False, upper_new_min=False, nfcn=621, min=5279.871817830991)),\n",
      "             (<zfit.Parameter 'rare_sig_yield' floating=True value=144.7>,\n",
      "              MError(name='rare_sig_yield', is_valid=False, lower=-41.13230607916881, upper=25.254643167727455, lower_valid=True, upper_valid=False, at_lower_limit=False, at_upper_limit=False, at_lower_max_fcn=False, at_upper_max_fcn=False, lower_new_min=False, upper_new_min=True, nfcn=765, min=144.68263211015116)),\n",
      "             (<zfit.Parameter 'reso_sig_yield' floating=True value=3998>,\n",
      "              MError(name='reso_sig_yield', is_valid=False, lower=-66.82402624165684, upper=66.82402624165684, lower_valid=False, upper_valid=False, at_lower_limit=False, at_upper_limit=False, at_lower_max_fcn=False, at_upper_max_fcn=False, lower_new_min=False, upper_new_min=True, nfcn=758, min=3997.6781805159017))])\n"
     ]
    }
   ],
   "source": [
    "plot_pdf_data(data=rare_data, model=model_rare, title='$B^0 -> K^{*} (-> K^+ \\pi^-) \\mu^+ \\mu^-$')\n",
    "plot_pdf_data(data=reso_data, model=model_reso, title='$B^0 -> K^{*} (-> K^+ \\pi^-) J/\\psi (-> \\mu^+ \\mu^-)$')\n",
    "plt.show()\n",
    "\n",
    "# Hesse is not yet supported with weights\n",
    "# result_simult.hesse()  # error calculation using hesse\n",
    "errors = result_simult.error([mu, rare_sig_yield, reso_sig_yield])  # error calculation using minos, just for a few\n",
    "# parameters as it is quite expensive\n",
    "pprint(errors)"
   ]
  },
  {
   "cell_type": "markdown",
   "metadata": {},
   "source": [
    "### **5. Wrapping up - determination of the signal significance**\n",
    "\n",
    "Going beyond the fits one is often interested in obtaining limits or calculate signal significances.\n",
    "These statistical procedures usually perform multiple fits with certain parameters fixed.\n",
    "\n",
    "For this purpose, the `bhepstats` library can be used. It is built on top of the same interface that `zfit`\n",
    "uses and therefore integrates well together. Models built and fits done in `zfit` will directly work with `hepstats`."
   ]
  },
  {
   "cell_type": "code",
   "execution_count": 24,
   "metadata": {},
   "outputs": [
    {
     "name": "stdout",
     "output_type": "stream",
     "text": [
      "Get fit best values!\n"
     ]
    },
    {
     "name": "stderr",
     "output_type": "stream",
     "text": [
      "/srv/conda/envs/notebook/lib/python3.8/site-packages/zfit/minimizers/minimizer_minuit.py:165: IMinuitWarning: Setting print_level >=3 has the side-effect of setting the level globally for all Minuit instances\n",
      "  minimizer = iminuit.Minuit.from_array_func(fcn=func, start=start_values,\n"
     ]
    },
    {
     "name": "stdout",
     "output_type": "stream",
     "text": [
      "┌──────────────────────────────────┬──────────────────────────────────────┐\n",
      "│ FCN = -2.235e+04                 │      Ncalls = 1166 (1166 total)      │\n",
      "│ EDM = 3.21e-05 (Goal: 0.001)     │               up = 0.5               │\n",
      "├───────────────┬──────────────────┼──────────────────────────────────────┤\n",
      "│ Valid Minimum │ Valid Parameters │       SOME Parameters at limit       │\n",
      "├───────────────┴──────────────────┼──────────────────────────────────────┤\n",
      "│ Below EDM threshold (goal x 10)  │           Below call limit           │\n",
      "├───────────────┬──────────────────┼───────────┬─────────────┬────────────┤\n",
      "│   Hesse ok    │  Has Covariance  │APPROXIMATE│NOT pos. def.│   FORCED   │\n",
      "└───────────────┴──────────────────┴───────────┴─────────────┴────────────┘\n",
      "\n",
      "p_value for the Null hypothesis = 1.5103277184458364e-08\n",
      "Significance (in units of sigma) = 5.540235274810547\n",
      "pnull: 1.5103277184458364e-08 with significance 5.540235274810547\n"
     ]
    }
   ],
   "source": [
    "from hepstats.hypotests import Discovery\n",
    "from hepstats.hypotests.calculators import AsymptoticCalculator\n",
    "from hepstats.hypotests.parameters import POI\n",
    "\n",
    "calculator = AsymptoticCalculator(simultaneous_loss, minimizer)\n",
    "poinull = POI(rare_sig_yield, 0)\n",
    "discovery_test = Discovery(calculator, poinull)\n",
    "pnull, significance = discovery_test.result()\n",
    "print(f'pnull: {pnull} with significance {significance}')"
   ]
  }
 ],
 "metadata": {
  "kernelspec": {
   "display_name": "Python 3",
   "language": "python",
   "name": "python3"
  },
  "language_info": {
   "codemirror_mode": {
    "name": "ipython",
    "version": 3
   },
   "file_extension": ".py",
   "mimetype": "text/x-python",
   "name": "python",
   "nbconvert_exporter": "python",
   "pygments_lexer": "ipython3",
   "version": "3.8.6"
  }
 },
 "nbformat": 4,
 "nbformat_minor": 4
}
