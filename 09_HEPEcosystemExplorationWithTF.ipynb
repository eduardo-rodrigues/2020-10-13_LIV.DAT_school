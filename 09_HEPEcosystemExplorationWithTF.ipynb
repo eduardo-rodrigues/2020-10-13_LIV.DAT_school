{
 "cells": [
  {
   "cell_type": "markdown",
   "metadata": {},
   "source": [
    "<center><h1><b><span style=\"color:blue\">\"HEP Python ecosystem example\"</span></b></h1></center>\n",
    "\n",
    "#### **Goal of this exploration**\n",
    "\n",
    "As said before, other groups and projects are working on other domain-specific areas towards the common goal of a modern, Pythonic and friendly analysis ecosystem for HEP. Let's play a bit with the `phasespace` and `zfit` packages from the [zfit project](https://github.com/zfit/).\n",
    "\n",
    "We will generate some toy simulation data according to a model we want to look at, and will fit the data. This is a common task in HEP analysis. We will even make it a bit more complicated ... and will use `TensorFlow`.\n",
    "\n",
    "Do not hesitate to play around, change things, use the ecosystem to produce plots differently, etc.!"
   ]
  },
  {
   "cell_type": "markdown",
   "metadata": {},
   "source": [
    "&nbsp;<br><center><img src=\"images/logo_zfit.png\" style=\"width:150px;\"/></center>\n",
    "\n",
    "<center><h2><b><span style=\"color:green\">Model building and fitting library based on TensorFlow</span></b></h2></center>"
   ]
  },
  {
   "cell_type": "markdown",
   "metadata": {},
   "source": [
    "The `zfit` package is a model fitting library based on TensorFlow and optimised for simple and direct manipulation of probability density functions. The main focus is on the scalability, parallelisation and a Pythonic user friendly experience framework."
   ]
  },
  {
   "cell_type": "markdown",
   "metadata": {},
   "source": [
    "## **A HEP common use-case - simultaneoous fit to a signal decay and a control mode**"
   ]
  },
  {
   "cell_type": "markdown",
   "metadata": {},
   "source": [
    "<div class=\"alert alert-info\">\n",
    "\n",
    "<b>Acknowledgements:</b>\n",
    "\n",
    "This tutorial is largely based on code kindly provided by Jonas Eschle (University of Zurich), the main author and maintainer of zfit.\n",
    "It showcases the generation and fit of samples of $ B^0 \\to \\mu^+ \\mu^- K^{*0}$ events (for the sake of example),\n",
    "including a simultaneous fit, and the subsequent determination of the signal significance.\n",
    "</div>"
   ]
  },
  {
   "cell_type": "markdown",
   "metadata": {},
   "source": [
    "### Unbinned maximum likelihood model fit to $B^0 \\to \\mu^+ \\mu^- K^{*0}$\n",
    "\n",
    "The fit will be done in three steps using the `zfit` package:\n",
    "- A fit with the (exponential) combinatorial background to the right-hand side of the signal peak, to obtain good starting values for the fitting parameters.\n",
    "- A model composed of an exponential for the combinatorial background and a double Crystal Ball (DoubleCB) function for the $B^0 \\to \\mu^+ \\mu^- K^{*0}$ signal is built and fitted to the \"rare\" mode. This is hard to get right, as we set low statistics in the rare mode.\n",
    "- To improve the fit, the same model with a few shared parameters is built for the resonant mode $B^0 \\to J/\\psi (\\to \\mu^+ \\mu^-) K^{*0}$,\n",
    "  to improve the shape of the DoubleCB, as mostly the tails are tricky. They seem to be independent of $q^2 (\\mu\\mu)$, so we can share them."
   ]
  },
  {
   "cell_type": "markdown",
   "metadata": {},
   "source": [
    "### **0. Imports, settings, helper functions**\n",
    "\n",
    "Let's start by importing\n",
    "- Standard library modules\n",
    "- Used Scikit-HEP packages\n",
    "- `phasespace` and `zfit`\n",
    "\n",
    "... this is what is meant by working with an ecosystem (where you take what you need, and no more) ;-)."
   ]
  },
  {
   "cell_type": "code",
   "execution_count": 1,
   "metadata": {},
   "outputs": [
    {
     "name": "stderr",
     "output_type": "stream",
     "text": [
      "/srv/conda/envs/notebook/lib/python3.7/site-packages/zfit/__init__.py:32: UserWarning: zfit has moved from TensorFlow 1.x to 2.x, which has some profound implications behind the scenes of zfit\n",
      "    and minor ones on the user side. Be sure to read the upgrade guide (can be found in the README at the top)\n",
      "     to have a seemless transition. If this is currently not doable (upgrading is highly recommended though)\n",
      "     you can downgrade zfit to <0.4. Feel free to contact us in case of problems in order to fix them ASAP.\n",
      "  you can downgrade zfit to <0.4. Feel free to contact us in case of problems in order to fix them ASAP.\"\"\")\n"
     ]
    }
   ],
   "source": [
    "from pprint import pprint\n",
    "\n",
    "import matplotlib.pyplot as plt\n",
    "import numpy as np\n",
    "\n",
    "import tensorflow as tf\n",
    "import tensorflow_probability as tfp\n",
    "\n",
    "from particle.particle import literals as lp\n",
    "from hepstats import hypotests\n",
    "\n",
    "from phasespace import GenParticle\n",
    "\n",
    "import os\n",
    "os.environ['ZFIT_DISABLE_TF_WARNINGS'] = \"True\"  # suppresses TensorFlow warnings\n",
    "import zfit"
   ]
  },
  {
   "cell_type": "markdown",
   "metadata": {},
   "source": [
    "**General settings**"
   ]
  },
  {
   "cell_type": "code",
   "execution_count": null,
   "metadata": {},
   "outputs": [],
   "source": [
    "seed = 11  # a \"good\" seed\n",
    "tf.random.set_seed(seed)\n",
    "np.random.seed(seed)\n",
    "\n",
    "# Take the PDG particle masses from the Particle package.\n",
    "B0_MASS = lp.B_0.mass\n",
    "JPSI_MASS = lp.Jpsi_1S.mass\n",
    "KSTARZ_MASS = lp.Kst_892_0.mass\n",
    "KSTARZ_WIDTH = lp.Kst_892_0.width\n",
    "PION_MASS = lp.pi_minus.mass\n",
    "KAON_MASS = lp.K_plus.mass\n",
    "MU_MASS = lp.mu_minus.mass\n",
    "\n",
    "# Yields - feel free to change these to play around.\n",
    "n_sig_rare = 120\n",
    "n_sig_reso = 4000\n",
    "n_bkg_rare = 5000\n",
    "n_bkg_reso = 3000\n",
    "\n",
    "# Detector smearing of the particles 4-momenta (sigma of a Gaussian).\n",
    "rare_smearing = 7\n",
    "reso_smearing = 7"
   ]
  },
  {
   "cell_type": "markdown",
   "metadata": {},
   "source": [
    "**Helper functions**"
   ]
  },
  {
   "cell_type": "code",
   "execution_count": 3,
   "metadata": {},
   "outputs": [],
   "source": [
    "def invariant_mass(four_momenta):\n",
    "    \"\"\"Calculate the invariant mass given four momenta with shape (n_events, 4) with px, py, pz, E.\"\"\"\n",
    "    momenta_squared = four_momenta ** 2\n",
    "    return np.sqrt(momenta_squared[:, 3] - np.sum((momenta_squared[:, :3]), axis=-1))"
   ]
  },
  {
   "cell_type": "markdown",
   "metadata": {},
   "source": [
    "Since the generation of the decays will be kinematically sampled from a fixed B mass, currently the reconstructed invariant B mass would only\n",
    "be a sharp peak. To include detector resolution effects and make it look more like real data/MC, the particles are smeared according to the function below."
   ]
  },
  {
   "cell_type": "code",
   "execution_count": 4,
   "metadata": {},
   "outputs": [],
   "source": [
    "def smear_momenta(four_momenta, smearing=10):\n",
    "    \"\"\"Smears the momenta (gaussian) with a width of `smearing`.\"\"\"\n",
    "    # The four_momenta are \"eager_tensors\", wrapped numpy arrays. \n",
    "    # We could convert them with `np.array(four_momenta)`\n",
    "    return np.random.normal(loc=four_momenta, scale=smearing)"
   ]
  },
  {
   "cell_type": "markdown",
   "metadata": {},
   "source": [
    "### **1. Phasespace generation of the rare signal**\n",
    "\n",
    "To generate the signal, we will sample from the phasespace of the decay and apply some ad-hoc smearing.\n",
    "Using the `phasespace` package, a decay chain has to be sticked together with the different particles.\n",
    "While this is simple to do for non-resonant particles with a fixed mass, since it is only a number,\n",
    "phasespace allows also for (arbitrary) resonance shapes of the mass. Therefore, instead of a constant number,\n",
    "a function that samples from the resonance can be provided, whereby `min_mass` and `max_mass` specify the kinematically\n",
    "allowed boundaries for the mass. This is best illustrated with the example below.\n",
    "\n",
    "The $K^{*0}$ is resonant; we define here the sampling of the mass.\n",
    "Either zfit PDFs or TensorFlow Probability distributions (or anything using TensorFlow, also arbitrary\n",
    "Python functions wrapped with `tf.py_function`, can be used). White TensorFlow Probability offers many useful\n",
    "distributions, they often have support from -inf to inf, while zfit PDFs offer the possitility to sample only\n",
    "within certain limits."
   ]
  },
  {
   "cell_type": "code",
   "execution_count": 5,
   "metadata": {},
   "outputs": [],
   "source": [
    "def kstar_mass(min_mass, max_mass, n_events):\n",
    "    # Make sure everything is float64.\n",
    "    min_mass = tf.cast(min_mass, tf.float64)\n",
    "    max_mass = tf.cast(max_mass, tf.float64)\n",
    "    kstar_width_cast = tf.cast(KSTARZ_WIDTH, tf.float64)\n",
    "    kstar_mass_cast = tf.cast(KSTARZ_MASS, dtype=tf.float64)\n",
    "\n",
    "    # To produce n_events samples, we can e.g. broadcast the K*0 mass (currently a scalar)\n",
    "    # to have the right shape (n_events,). But there are many ways, also see TensorFlow Probability Distributions.\n",
    "    kstar_mass = tf.broadcast_to(kstar_mass_cast, shape=(n_events,))\n",
    "    if KSTARZ_WIDTH > 0:\n",
    "        kstar_mass = tfp.distributions.TruncatedNormal(loc=kstar_mass,\n",
    "                                                       scale=kstar_width_cast,\n",
    "                                                       low=min_mass,\n",
    "                                                       high=max_mass).sample()\n",
    "    return kstar_mass"
   ]
  },
  {
   "cell_type": "markdown",
   "metadata": {},
   "source": [
    "**1.a. Decay chain generation with smeared momenta for the daughter particles**"
   ]
  },
  {
   "cell_type": "code",
   "execution_count": null,
   "metadata": {},
   "outputs": [],
   "source": [
    "# Create the K*0 and also set its children.\n",
    "kstar = GenParticle('K*0', mass=kstar_mass).set_children(GenParticle('K+', mass=KAON_MASS),\n",
    "                                                         GenParticle('pi-', mass=PION_MASS))\n",
    "bz = GenParticle('B0', B0_MASS).set_children(kstar,\n",
    "                                             GenParticle('mu+', mass=MU_MASS),\n",
    "                                             GenParticle('mu-', mass=MU_MASS))\n",
    "\n",
    "# `generate` returns the weights of the event and a dict which contains the 4-momenta of the particles\n",
    "# as {particle_name: EagerTensor of shape (n_events, 4)}, where an EagerTensor is basically a wrapped NumPy array.\n",
    "# and the particle_name is e.g. 'K+', 'K*0', the name that has been used above.\n",
    "weights, particles = bz.generate(n_sig_rare)\n",
    "weights = weights / np.average(weights)\n",
    "\n",
    "\n",
    "# Since this is kinematically sampled from a fixed B0 mass, currently the reconstructed invariant B0 mass would only\n",
    "# be a sharp peak. To include detector resolution effects and make it look more like real data/MC, the particles are smeared.\n",
    "smeared_momenta = {}\n",
    "daugther_particles = ['K+', 'pi-', 'mu+', 'mu-']\n",
    "for particle in daugther_particles:\n",
    "    smeared_momenta[particle] = smear_momenta(particles[particle], smearing=rare_smearing)\n",
    "\n",
    "# Reconstruct the mother particles using the smeared daughters.\n",
    "smeared_momenta['K*0'] = smeared_momenta['K+'] + smeared_momenta['pi-']\n",
    "# Reminder - no J/psi in the rare mode. The name 'Jpsi' is simply used for convenience.\n",
    "smeared_momenta['Jpsi'] = smeared_momenta['mu+'] + smeared_momenta['mu-']\n",
    "smeared_momenta['B0'] = smeared_momenta['K*0'] + smeared_momenta['Jpsi']"
   ]
  },
  {
   "cell_type": "markdown",
   "metadata": {},
   "source": [
    "The B0 invariant mass and (mu+,mu-)-pair invariant mass squared are simply"
   ]
  },
  {
   "cell_type": "code",
   "execution_count": null,
   "metadata": {},
   "outputs": [],
   "source": [
    "b_mass_rare = invariant_mass(smeared_momenta['B0'])\n",
    "q2 = invariant_mass(smeared_momenta['Jpsi']) ** 2"
   ]
  },
  {
   "cell_type": "markdown",
   "metadata": {},
   "source": [
    "**1.b. Visualisation of the spectrum**"
   ]
  },
  {
   "cell_type": "code",
   "execution_count": 6,
   "metadata": {},
   "outputs": [
    {
     "data": {
      "text/plain": [
       "<matplotlib.legend.Legend at 0x7f9c505e8090>"
      ]
     },
     "execution_count": 6,
     "metadata": {},
     "output_type": "execute_result"
    },
    {
     "data": {
      "image/png": "[encoded data removed]",
      "text/plain": [
       "<Figure size 432x288 with 1 Axes>"
      ]
     },
     "metadata": {
      "needs_background": "light"
     },
     "output_type": "display_data"
    },
    {
     "data": {
      "image/png": "[encoded data removed]",
      "text/plain": [
       "<Figure size 432x288 with 1 Axes>"
      ]
     },
     "metadata": {
      "needs_background": "light"
     },
     "output_type": "display_data"
    }
   ],
   "source": [
    "# X-axis label, to be used later.\n",
    "xlabel_bmass = 'm($K^+ \\pi^- \\mu^+ \\mu^-$) [MeV/c^2]'\n",
    "\n",
    "# Plot the B0 mass with the weights. It is basically the same as without weights.\n",
    "plt.figure()\n",
    "plt.title(\"$B^0$ mass generated non resonant\")\n",
    "plt.hist(b_mass_rare, weights=weights, alpha=0.5, bins=40, label=\"with weights\")\n",
    "plt.hist(b_mass_rare, bins=40, alpha=0.5, label=\"no weights\")\n",
    "plt.xlabel(xlabel_bmass)\n",
    "plt.legend()\n",
    "\n",
    "plt.figure()\n",
    "plt.title(\"$q^2$ generated non resonant\")\n",
    "plt.hist(q2, weights=weights, alpha=0.5, bins=40, label=\"with weights\")\n",
    "plt.hist(q2, bins=40, alpha=0.5, label=\"no weights\")\n",
    "plt.xlabel('$q^2 [MeV^2/c^4]$')\n",
    "plt.legend()"
   ]
  },
  {
   "cell_type": "markdown",
   "metadata": {},
   "source": [
    "### **2. Fit to the rare signal**"
   ]
  },
  {
   "cell_type": "markdown",
   "metadata": {},
   "source": [
    "As a reminder (see above), the fit of the rare (non-resonant) decay will be done in three steps:\n",
    "- A fit with the (exponential) combinatorial background to the right-hand side of the signal peak, to obtain good starting values for the fitting parameters.\n",
    "- A model composed of an exponential for the combinatorial background and a DoubleCB function for the $B^0 \\to \\mu^+ \\mu^- K^{*0}$ signal is built and fitted to the \"rare\" mode. This is hard to get right, as we set low statistics in the rare mode.\n",
    "- In the next section the resonant mode $B^0 \\to J/\\psi (\\to \\mu^+ \\mu^-) K^{*0}$ will be exploited to improve the fit,\n",
    "  using the same model with a few shared parameters.\n",
    "\n",
    "#### If the fit does not converge\n",
    "\n",
    "Finding the minimum given some parameters is in general not a simple problem. Two major reasons this does\n",
    "not work well are the initial values and the *step size*, which may be too far off or too large/small. The latter\n",
    "should be around the uncertainty of the parameter (once the fit will be converged). More information can be\n",
    "found at https://github.com/zfit/zfit/wiki/FAQ#fitting-and-minimization."
   ]
  },
  {
   "cell_type": "markdown",
   "metadata": {},
   "source": [
    "**2.a Fit to the right-hand sideband**"
   ]
  },
  {
   "cell_type": "markdown",
   "metadata": {},
   "source": [
    "The range of the mass, the observable, defines the range of the data and hence of the fit - [5000, 5600] MeV."
   ]
  },
  {
   "cell_type": "code",
   "execution_count": null,
   "metadata": {},
   "outputs": [],
   "source": [
    "# The observable and its range are defined.\n",
    "upper_limit = 5600\n",
    "obs = zfit.Space('Bmass', (5000, upper_limit))  # for whole range\n",
    "obs_bkg = zfit.Space('Bmass', (5400, upper_limit))  # to pre-fit the exponential"
   ]
  },
  {
   "cell_type": "markdown",
   "metadata": {},
   "source": [
    "We first need to generate some background data! Indeed only signal has been generated so far."
   ]
  },
  {
   "cell_type": "code",
   "execution_count": null,
   "metadata": {},
   "outputs": [],
   "source": [
    "# Parameters are specified:  (name (unique), initial, lower, upper) whereas lower, upper are optional.\n",
    "lambda_rare = zfit.Parameter('lambda_rare', -0.002, -0.01, -0.0001, step_size=0.0005)  # floating, also without limits\n",
    "comb_bkg_rare = zfit.pdf.Exponential(lambda_rare, obs=obs)\n",
    "\n",
    "# Create the background data.\n",
    "comb_bkg_rare_sample = comb_bkg_rare.sample(n=n_bkg_rare)  # sampled within the limits of `obs`"
   ]
  },
  {
   "cell_type": "markdown",
   "metadata": {},
   "source": [
    "At last, the right-hand side of the data, which is only the combinatorial background freshly generated, is fitted to the exponential model in order to get a good initial value."
   ]
  },
  {
   "cell_type": "code",
   "execution_count": 7,
   "metadata": {},
   "outputs": [
    {
     "name": "stdout",
     "output_type": "stream",
     "text": [
      "------------------------------------------------------------------\n",
      "| FCN = 5789                    |      Ncalls=13 (13 total)      |\n",
      "| EDM = 0.000287 (Goal: 5E-05)  |            up = 0.5            |\n",
      "------------------------------------------------------------------\n",
      "|  Valid Min.   | Valid Param.  | Above EDM | Reached call limit |\n",
      "------------------------------------------------------------------\n",
      "|     True      |     True      |   False   |       False        |\n",
      "------------------------------------------------------------------\n",
      "| Hesse failed  |   Has cov.    | Accurate  | Pos. def. | Forced |\n",
      "------------------------------------------------------------------\n",
      "|     False     |     True      |   True    |   True    | False  |\n",
      "------------------------------------------------------------------\n"
     ]
    }
   ],
   "source": [
    "right_tale_data_rare = zfit.Data.from_numpy(obs=obs_bkg, array=comb_bkg_rare_sample.value())\n",
    "\n",
    "# Set the value of lambda to something different than we sampled from (for the fit afterwards).\n",
    "lambda_rare.set_value(-0.003)\n",
    "\n",
    "# The normalisation range is temporarily set to the right-hand side only.\n",
    "with comb_bkg_rare.set_norm_range(obs_bkg):\n",
    "    right_tale_loss = zfit.loss.UnbinnedNLL(comb_bkg_rare, right_tale_data_rare)\n",
    "    minimizer = zfit.minimize.Minuit(verbosity=7, use_minuit_grad=True)\n",
    "    result_right_tale = minimizer.minimize(right_tale_loss)"
   ]
  },
  {
   "cell_type": "markdown",
   "metadata": {},
   "source": [
    "**2.b Fit to the full spectrum**"
   ]
  },
  {
   "cell_type": "code",
   "execution_count": 8,
   "metadata": {},
   "outputs": [
    {
     "data": {
      "image/png": "[encoded data removed]",
      "text/plain": [
       "<Figure size 432x288 with 1 Axes>"
      ]
     },
     "metadata": {
      "needs_background": "light"
     },
     "output_type": "display_data"
    },
    {
     "data": {
      "image/png": "[encoded data removed]",
      "text/plain": [
       "<Figure size 432x288 with 1 Axes>"
      ]
     },
     "metadata": {
      "needs_background": "light"
     },
     "output_type": "display_data"
    },
    {
     "name": "stdout",
     "output_type": "stream",
     "text": [
      "------------------------------------------------------------------\n",
      "| FCN = -6130                   |    Ncalls=1101 (1101 total)    |\n",
      "| EDM = 0.000374 (Goal: 5E-05)  |            up = 0.5            |\n",
      "------------------------------------------------------------------\n",
      "|  Valid Min.   | Valid Param.  | Above EDM | Reached call limit |\n",
      "------------------------------------------------------------------\n",
      "|     True      |     True      |   False   |       False        |\n",
      "------------------------------------------------------------------\n",
      "| Hesse failed  |   Has cov.    | Accurate  | Pos. def. | Forced |\n",
      "------------------------------------------------------------------\n",
      "|     False     |     True      |   True    |   True    | False  |\n",
      "------------------------------------------------------------------\n"
     ]
    },
    {
     "data": {
      "image/png": "[encoded data removed]",
      "text/plain": [
       "<Figure size 432x288 with 1 Axes>"
      ]
     },
     "metadata": {
      "needs_background": "light"
     },
     "output_type": "display_data"
    },
    {
     "name": "stdout",
     "output_type": "stream",
     "text": [
      "OrderedDict([(<zfit.Parameter 'rare_bkg_yield' floating=True value=4656>,\n",
      "              {'value': 4655.511050035808}),\n",
      "             (<zfit.Parameter 'rare_sig_yield' floating=True value=455.4>,\n",
      "              {'value': 455.3940007976625}),\n",
      "             (<zfit.Parameter 'lambda_rare' floating=True value=-0.00235>,\n",
      "              {'value': -0.0023502898784308326}),\n",
      "             (<zfit.Parameter 'frac dcb' floating=True value=0.9>,\n",
      "              {'value': 0.8999708194751244}),\n",
      "             (<zfit.Parameter 'alpha left rare' floating=True value=-0.6734>,\n",
      "              {'value': -0.6733707752581415}),\n",
      "             (<zfit.Parameter 'mu' floating=True value=5275>,\n",
      "              {'value': 5274.850471751084}),\n",
      "             (<zfit.Parameter 'n left rare' floating=True value=0.2277>,\n",
      "              {'value': 0.22772018472953848}),\n",
      "             (<zfit.Parameter 'sigma' floating=True value=12.89>,\n",
      "              {'value': 12.89384519822316}),\n",
      "             (<zfit.Parameter 'alpha right rare' floating=True value=3.675>,\n",
      "              {'value': 3.6748890173514273}),\n",
      "             (<zfit.Parameter 'n right rare' floating=True value=7.621>,\n",
      "              {'value': 7.621083593322588})])\n",
      "The fit converged: True, the minimum is -6130.330186588057\n",
      "OrderedDict([(<zfit.Parameter 'rare_bkg_yield' floating=True value=4585>,\n",
      "              {'value': 4655.511050035808}),\n",
      "             (<zfit.Parameter 'rare_sig_yield' floating=True value=534.8>,\n",
      "              {'minuit_minos': MError(name='rare_sig_yield', is_valid=False, lower=-1.413893354352468, upper=1.413893354352468, lower_valid=False, upper_valid=False, at_lower_limit=False, at_upper_limit=False, at_lower_max_fcn=False, at_upper_max_fcn=False, lower_new_min=False, upper_new_min=False, nfcn=2437, min=455.3940007976625),\n",
      "               'value': 455.3940007976625}),\n",
      "             (<zfit.Parameter 'lambda_rare' floating=True value=-0.002395>,\n",
      "              {'value': -0.0023502898784308326}),\n",
      "             (<zfit.Parameter 'frac dcb' floating=True value=0.8541>,\n",
      "              {'value': 0.8999708194751244}),\n",
      "             (<zfit.Parameter 'alpha left rare' floating=True value=-0.1483>,\n",
      "              {'value': -0.6733707752581415}),\n",
      "             (<zfit.Parameter 'mu' floating=True value=5269>,\n",
      "              {'minuit_minos': MError(name='mu', is_valid=True, lower=-5.395018460396761, upper=4.069617121447224, lower_valid=True, upper_valid=True, at_lower_limit=False, at_upper_limit=False, at_lower_max_fcn=False, at_upper_max_fcn=False, lower_new_min=False, upper_new_min=False, nfcn=1189, min=5274.850471751084),\n",
      "               'value': 5274.850471751084}),\n",
      "             (<zfit.Parameter 'n left rare' floating=True value=0.3827>,\n",
      "              {'value': 0.22772018472953848}),\n",
      "             (<zfit.Parameter 'sigma' floating=True value=11.38>,\n",
      "              {'value': 12.89384519822316}),\n",
      "             (<zfit.Parameter 'alpha right rare' floating=True value=2.346>,\n",
      "              {'value': 3.6748890173514273}),\n",
      "             (<zfit.Parameter 'n right rare' floating=True value=0.002043>,\n",
      "              {'value': 7.621083593322588})])\n",
      "Mu value of rare fit: 5274.850471751084 + 4.069617121447224 - 4.069617121447224\n"
     ]
    }
   ],
   "source": [
    "# Create the data for the rare fit\n",
    "rare_data_np = np.concatenate([b_mass_rare, comb_bkg_rare_sample[:, 0]], axis=0)\n",
    "rare_weights_np = np.concatenate([weights, np.ones_like(comb_bkg_rare_sample[:, 0])], axis=0)\n",
    "# TODO: we could do some data preprocessing here (e.g. apply a cut to q2, which we actually\n",
    "# need to have \"no Jpsi\" in there). This can be done with pandas and then loaded into zfit\n",
    "\n",
    "rare_data = zfit.Data.from_numpy(obs=obs, array=rare_data_np, weights=rare_weights_np)\n",
    "# Data can also be loaded from ROOT\n",
    "# right_tale_data_rare = zfit.Data.from_root(...)\n",
    "\n",
    "# ...or to/from a pandas DataFrame. Either convert the `zfit.Data` to a pandas DF\n",
    "# right_tale_data_rare_df = right_tale_data_rare.to_pandas()\n",
    "# .... or create it from scratch\n",
    "# right_tale_data_rare_df = pd.DataFrame(data=rare_data_np, columns=obs_bkg.obs)\n",
    "# Then we can directly load it\n",
    "# right_tale_data_rare = zfit.Data.from_pandas(df=right_tale_data_rare_df, obs=obs_bkg)\n",
    "\n",
    "# (maybe remove plot, just for data visualisation example?)\n",
    "plt.figure()\n",
    "plt.title(\"Invariant mass of combinatorial bkg and signal $B^0 -> K^{*} (-> K^+ \\pi^-) \\mu^+ \\mu^-$\")\n",
    "plt.hist(rare_data_np, weights=rare_weights_np, bins=40)\n",
    "plt.xlabel(xlabel_bmass)\n",
    "\n",
    "# Create the model to fit to the rare mode\n",
    "\n",
    "# Parameters for the model\n",
    "mu = zfit.Parameter('mu', 5270, 5200, 5350, step_size=3)\n",
    "sigma = zfit.Parameter('sigma', 22, 1, 100, step_size=0.1)\n",
    "\n",
    "# A double crystalball, a sum of two Crystal Ball functions will be used\n",
    "alphal_rare = zfit.Parameter('alpha left rare', -0.3, -5, 0)\n",
    "nl_rare = zfit.Parameter('n left rare', 0.3, 0, 10)\n",
    "alphar_rare = zfit.Parameter('alpha right rare', 1, 0, 5)\n",
    "nr_rare = zfit.Parameter('n right rare', 2.8, 0, 10)\n",
    "frac_dcb_rare = zfit.Parameter('frac dcb', 0.3, 0.1, 0.9)\n",
    "\n",
    "left_cb_rare = zfit.pdf.CrystalBall(obs=obs,\n",
    "                                    mu=mu, sigma=sigma,\n",
    "                                    alpha=alphal_rare, n=nl_rare,\n",
    "                                    )\n",
    "right_cb_rare = zfit.pdf.CrystalBall(obs=obs,\n",
    "                                     mu=mu, sigma=sigma,\n",
    "                                     alpha=alphar_rare, n=nr_rare,\n",
    "                                     )\n",
    "signal_rare = zfit.pdf.SumPDF([left_cb_rare, right_cb_rare], fracs=frac_dcb_rare)\n",
    "\n",
    "\n",
    "# Create the yields and the extended pdfs\n",
    "rare_sig_yield = zfit.Parameter('rare_sig_yield', n_sig_rare + 30,\n",
    "                                step_size=3)  # step size: default is small, use appropriate\n",
    "rare_bkg_yield = zfit.Parameter('rare_bkg_yield', n_bkg_rare - 40, step_size=1)\n",
    "# Create extended PDFs\n",
    "extended_sig_rare = signal_rare.create_extended(rare_sig_yield)\n",
    "extended_bkg_rare = comb_bkg_rare.create_extended(rare_bkg_yield)\n",
    "\n",
    "# The final model is the combination of the signal and backgrond pdf\n",
    "model_rare = zfit.pdf.SumPDF([extended_bkg_rare, extended_sig_rare])\n",
    "\n",
    "\n",
    "# Different models could be used here. A more simple model, such as a Gaussian...\n",
    "# signal_rare = zfit.pdf.Gauss(mu=mu, sigma=sigma, obs=obs)\n",
    "\n",
    "# ...or even a completely custom PDF. Explained also here: https://zfit.readthedocs.io/en/latest/intro/model.html#custom-pdf\n",
    "# from zfit import z  # backend, can also use TensorFlow directly\n",
    "#\n",
    "# class MySignal(zfit.ZPDF):\n",
    "#     _N_OBS = 1\n",
    "#     _PARAMS = ['mean', 'width']\n",
    "#    \n",
    "#     # Implement the shape (unnormalized) of your pdf. If the analytical integral is known, it can be\n",
    "#     # registered later on.\n",
    "#     def _unnormalized_pdf(self, x):\n",
    "#         x = z.unstack(x)  # could be higher dimensional\n",
    "#         mean = self.params['mean']\n",
    "#         width = self.params['width']\n",
    "#         return z.exp((x - mean) ** 2 / (2 * width ** 2))  # Gaussian, unnormalized\n",
    "#\n",
    "#\n",
    "# signal_rare = MySignal(mean=mu, width=sigma, obs=obs)\n",
    "\n",
    "\n",
    "# In order to plot our model, a helper function is created\n",
    "def plot_pdf_data(data, model, title, n_bins=40):\n",
    "    linewidth = 2.5\n",
    "    space = data.data_range\n",
    "    plot_scaling = data.nevents / n_bins * space.area()\n",
    "    lower, upper = space.limit1d\n",
    "    x = np.linspace(lower, upper, 1000)\n",
    "\n",
    "    plt.figure()\n",
    "    plt.title(title)\n",
    "\n",
    "    # plot the data\n",
    "    data_np = data[:, 0]\n",
    "    plt.hist(data_np,\n",
    "             # color=color,\n",
    "             bins=n_bins, histtype=\"stepfilled\", alpha=0.1)\n",
    "    plt.hist(data_np,\n",
    "             # color=color,\n",
    "             bins=n_bins, histtype=\"step\")\n",
    "    # plot the pdfs\n",
    "    y = zfit.run(model.pdf(x))\n",
    "    y_sig = zfit.run(model.pdfs[0].pdf(x) * model.fracs[0])# notice the frac!\n",
    "    y_bkg = zfit.run(model.pdfs[1].pdf(x) * model.fracs[1])  # notice the frac!\n",
    "\n",
    "    plt.plot(x, y * plot_scaling, label=\"Sum - Model\", linewidth=linewidth * 2)\n",
    "    plt.plot(x, y_sig * plot_scaling, '--', label=f\"{model.pdfs[0].name} - Signal\", linewidth=linewidth)\n",
    "    plt.plot(x, y_bkg * plot_scaling, '--', label=f\"{model.pdfs[1].name} - Background\", linewidth=linewidth)\n",
    "    plt.xlabel(space.obs[0])\n",
    "    plt.legend()\n",
    "    \n",
    "\n",
    "plot_pdf_data(data=rare_data, model=model_rare, title='before fitting: $B^0 -> K^{*} (-> K^+ \\pi^-) \\mu^+ \\mu^-$')\n",
    "plt.show()\n",
    "\n",
    "# As a next step, the loss is created: the minimum of it defines the solution to the problem\n",
    "ext_rare_nll = zfit.loss.ExtendedUnbinnedNLL(model_rare, rare_data)\n",
    "\n",
    "# The minimization uses by default all floating parameters (that the model(s) used in the loss depend on)\n",
    "# but they can also be explicitly specified as an argument to `minimize`.\n",
    "result_rare = minimizer.minimize(ext_rare_nll)\n",
    "\n",
    "# The parameter values are set automatically to the value found at the minimum.\n",
    "plot_pdf_data(data=rare_data, model=model_rare, title='after rare fitting: $B^0 -> K^{*} (-> K^+ \\pi^-) \\mu^+ \\mu^-$')\n",
    "plt.show()"
   ]
  },
  {
   "cell_type": "code",
   "execution_count": null,
   "metadata": {},
   "outputs": [],
   "source": [
    "# The information about the minimization and the result of it are stored in the\n",
    "# FitResult that is returned. It contains e.g. information about the parameters\n",
    "pprint(result_rare.params)\n",
    "\n",
    "# ...and more:\n",
    "print(f\"The fit converged: {result_rare.converged}, the minimum is {result_rare.fmin}\")\n",
    "\n",
    "# Following are error estimations. They return the result and also add it into the `params` attribute.\n",
    "# Unfortunately, hesse is currently not yet supported with weights.\n",
    "# result_rare.hesse()  # error calculation using the inverse hessian approximation\n",
    "# result_rare.error()  # error calculation using minos, this takes all parameters (expensive)\n",
    "result_rare.error([rare_sig_yield, mu])  # just for specific parameters\n",
    "pprint(result_rare.params)\n",
    "\n",
    "# the params can be accesssed using the parameter objects (not their names!)\n",
    "mu_rare_fit = result_rare.params[mu]\n",
    "# they contain information about the result such as value etc\n",
    "print(f\"Mu value of rare fit: {mu_rare_fit['value']} \"\n",
    "      f\"+ {mu_rare_fit['minuit_minos']['upper']} \"\n",
    "      f\"- {mu_rare_fit['minuit_minos']['upper']}\"\n",
    "      # f\" (symmetric Hesse error: {mu_rare_fit['minuit_hesse']['error']})\"\n",
    "      )"
   ]
  },
  {
   "cell_type": "markdown",
   "metadata": {},
   "source": [
    "### **3. Phasespace generation of the resonant decay**\n",
    "\n",
    "Since the previous fit, e.g. the tail, was not great due to the lack of statistics, we can also fit the resonant mode simultaneously and share certain parameters.\n",
    "\n",
    "**3.a. Signal decay chain generation with smeared momenta for the daughter particles**"
   ]
  },
  {
   "cell_type": "code",
   "execution_count": 9,
   "metadata": {},
   "outputs": [
    {
     "data": {
      "image/png": "[encoded data removed]",
      "text/plain": [
       "<Figure size 432x288 with 1 Axes>"
      ]
     },
     "metadata": {
      "needs_background": "light"
     },
     "output_type": "display_data"
    }
   ],
   "source": [
    "# Create the resonant decay. This is basically the same as above, we simply add an intermediate Jpsi.\n",
    "bz = GenParticle('B0', B0_MASS).set_children(kstar,\n",
    "                                             GenParticle('Jpsi', mass=JPSI_MASS).set_children(\n",
    "                                                 GenParticle('mu+', mass=MU_MASS),\n",
    "                                                 GenParticle('mu-', mass=MU_MASS)\n",
    "                                             ))\n",
    "\n",
    "weights_reso, particles_reso = bz.generate(n_sig_reso)\n",
    "weights_reso /= np.average(weights_reso)\n",
    "\n",
    "smeared_momenta_reso = {}\n",
    "daugther_particles_reso = ['K+', 'pi-', 'mu+', 'mu-']\n",
    "for particle in daugther_particles_reso:\n",
    "    smeared_momenta_reso[particle] = smear_momenta(particles_reso[particle], smearing=reso_smearing)\n",
    "\n",
    "smeared_momenta_reso['K*0'] = smeared_momenta_reso['K+'] + smeared_momenta_reso['pi-']\n",
    "smeared_momenta_reso['Jpsi'] = smeared_momenta_reso['mu+'] + smeared_momenta_reso['mu-']\n",
    "smeared_momenta_reso['B0'] = smeared_momenta_reso['K*0'] + smeared_momenta_reso['Jpsi']\n",
    "\n",
    "b_mass_reso = invariant_mass(smeared_momenta_reso['B0'])\n",
    "q2_reso = invariant_mass(smeared_momenta_reso['Jpsi'])\n",
    "\n",
    "# plot the q2\n",
    "plt.figure()\n",
    "plt.title(\"$q^2$ generated resonant\")\n",
    "plt.hist(q2_reso, weights=weights_reso, alpha=0.5, bins=40, label=\"with weights\")\n",
    "plt.hist(q2_reso, bins=40, alpha=0.5, label=\"no weights\")\n",
    "plt.legend()"
   ]
  },
  {
   "cell_type": "markdown",
   "metadata": {},
   "source": [
    "**3.b. Combinatorial background generation**"
   ]
  },
  {
   "cell_type": "code",
   "execution_count": null,
   "metadata": {},
   "outputs": [],
   "source": [
    "lambda_reso = zfit.Parameter('lambda_reso', -0.002, -0.01, 0.0001)  # floating, also without limits\n",
    "comb_bkg_reso_pdf = zfit.pdf.Exponential(lambda_reso, obs=obs)\n",
    "\n",
    "# Create some background data\n",
    "comb_bkg_reso_sample = comb_bkg_reso_pdf.sample(n=n_bkg_reso)  # sampled within the limits of `obs`\n",
    "\n",
    "# Set the value of lambda to smth different then we sampled from (for the fit afterwards)\n",
    "lambda_reso.set_value(-0.01)"
   ]
  },
  {
   "cell_type": "markdown",
   "metadata": {},
   "source": [
    "**3.c. Signal + background data set**"
   ]
  },
  {
   "cell_type": "code",
   "execution_count": null,
   "metadata": {},
   "outputs": [],
   "source": [
    "reso_data_np = np.concatenate([b_mass_reso, comb_bkg_reso_sample[:, 0]], axis=0)\n",
    "reso_weights_np = np.concatenate([weights_reso, np.ones_like(comb_bkg_reso_sample[:, 0])], axis=0)\n",
    "\n",
    "reso_data = zfit.Data.from_numpy(obs=obs, array=reso_data_np)"
   ]
  },
  {
   "cell_type": "markdown",
   "metadata": {},
   "source": [
    "**3.d. Visualisation of the full spectrum**"
   ]
  },
  {
   "cell_type": "code",
   "execution_count": 10,
   "metadata": {},
   "outputs": [
    {
     "data": {
      "text/plain": [
       "(array([ 138.        ,  116.        ,  109.        ,  107.        ,\n",
       "         100.        ,  119.        ,  111.        ,  107.        ,\n",
       "          79.        ,  108.        ,   91.        ,  108.        ,\n",
       "          93.        ,   76.        ,   88.        ,   71.94651297,\n",
       "         200.33279678,  900.28704043, 1668.60514375, 1208.4476243 ,\n",
       "         345.76075897,  105.62012279,   71.        ,   63.        ,\n",
       "          58.        ,   61.        ,   67.        ,   46.        ,\n",
       "          63.        ,   55.        ,   55.        ,   50.        ,\n",
       "          49.        ,   52.        ,   37.        ,   50.        ,\n",
       "          50.        ,   43.        ,   47.        ,   32.        ]),\n",
       " array([5000.36171988, 5015.33677944, 5030.311839  , 5045.28689856,\n",
       "        5060.26195812, 5075.23701769, 5090.21207725, 5105.18713681,\n",
       "        5120.16219637, 5135.13725593, 5150.11231549, 5165.08737505,\n",
       "        5180.06243462, 5195.03749418, 5210.01255374, 5224.9876133 ,\n",
       "        5239.96267286, 5254.93773242, 5269.91279199, 5284.88785155,\n",
       "        5299.86291111, 5314.83797067, 5329.81303023, 5344.78808979,\n",
       "        5359.76314935, 5374.73820892, 5389.71326848, 5404.68832804,\n",
       "        5419.6633876 , 5434.63844716, 5449.61350672, 5464.58856628,\n",
       "        5479.56362585, 5494.53868541, 5509.51374497, 5524.48880453,\n",
       "        5539.46386409, 5554.43892365, 5569.41398321, 5584.38904278,\n",
       "        5599.36410234]),\n",
       " <a list of 40 Patch objects>)"
      ]
     },
     "execution_count": 10,
     "metadata": {},
     "output_type": "execute_result"
    },
    {
     "data": {
      "image/png": "[encoded data removed]",
      "text/plain": [
       "<Figure size 432x288 with 1 Axes>"
      ]
     },
     "metadata": {
      "needs_background": "light"
     },
     "output_type": "display_data"
    }
   ],
   "source": [
    "# (maybe remove plot, just for data visualization example?)\n",
    "plt.figure()\n",
    "plt.title(\"Invariant B mass $B^0 -> K^{*} (-> K^+ \\pi^-) J/\\psi (-> \\mu^+ \\mu^-)$\")\n",
    "plt.xlabel(xlabel_bmass)\n",
    "plt.hist(reso_data_np, weights=reso_weights_np, bins=40)"
   ]
  },
  {
   "cell_type": "markdown",
   "metadata": {},
   "source": [
    "**3.e Model for the resonant decay**\n",
    "\n",
    "Create the full model to fit the spectrum of the resonant signal model and its related combinatorial background."
   ]
  },
  {
   "cell_type": "code",
   "execution_count": 11,
   "metadata": {},
   "outputs": [],
   "source": [
    "# we can share parameters directly or create composed parameters. Here we have a\n",
    "# parameter that scales the sigma from the rare fit\n",
    "\n",
    "sigma_scaling = zfit.Parameter('sigma_scaling', 0.9, 0.5, 10, step_size=0.1)\n",
    "\n",
    "\n",
    "def sigma_scaled_fn():\n",
    "    return sigma * sigma_scaling  # this can be an arbitrary function\n",
    "\n",
    "\n",
    "sigma_scaled = zfit.ComposedParameter('sigma scaled', sigma_scaled_fn,\n",
    "                                      dependents=sigma  # the objects used inside the function\n",
    "                                      )\n",
    "\n",
    "# Instead of sharing, free parameters could be used. This would though defy the purpose of the simultaneous fit here.\n",
    "# If we know that some can't be shared though (e.g. the tails between a muon and electron modes), only certain parameters can be shared.\n",
    "# alphal_reso = zfit.Parameter('alpha left reso', -0.7, -5, 0)\n",
    "# nl_reso = zfit.Parameter('n left reso', 0.4, 0, 10)\n",
    "# alphar_reso = zfit.Parameter('alpha right reso', 1, 0, 5)\n",
    "# nr_reso = zfit.Parameter('n right reso', 1.8, 0, 10)\n",
    "alphal_reso = alphal_rare\n",
    "nl_reso = nl_rare\n",
    "alphar_reso = alphal_rare\n",
    "nr_reso = nr_rare\n",
    "\n",
    "# frac_dcb_reso = zfit.Parameter('frac dcb_reso', 0.5, 0.01, 0.99)\n",
    "frac_dcb_reso = frac_dcb_rare\n",
    "left_cb_reso = zfit.pdf.CrystalBall(obs=obs,\n",
    "                                    mu=mu, sigma=sigma_scaled,\n",
    "                                    alpha=alphal_reso, n=nl_reso,\n",
    "                                    )\n",
    "right_cb_reso = zfit.pdf.CrystalBall(obs=obs,\n",
    "                                     mu=mu, sigma=sigma_scaled,\n",
    "                                     alpha=alphar_reso, n=nr_reso,\n",
    "                                     )\n",
    "signal_reso = zfit.pdf.SumPDF([left_cb_reso, right_cb_reso], fracs=frac_dcb_reso)\n",
    "\n",
    "# Again, also a simpler (or custom) shape could be used\n",
    "# signal_reso = zfit.pdf.Gauss(mu=mu,  # using the same mu as above means it's shared\n",
    "#                              sigma=sigma_scaled, obs=obs)\n",
    "\n",
    "reso_sig_yield = zfit.Parameter('reso_sig_yield', n_sig_reso - 100, 0, n_sig_reso * 3,\n",
    "                                step_size=1)  # step size: default is small, use appropriate\n",
    "reso_bkg_yield = zfit.Parameter('reso_bkg_yield', n_bkg_reso + 70, 0, n_bkg_reso * 3, step_size=1)\n",
    "\n",
    "# Create the extended models\n",
    "extended_sig_reso = signal_reso.create_extended(reso_sig_yield)\n",
    "extended_bkg_reso = comb_bkg_reso_pdf.create_extended(reso_bkg_yield)\n",
    "model_reso = zfit.pdf.SumPDF([extended_bkg_reso, extended_sig_reso])"
   ]
  },
  {
   "cell_type": "markdown",
   "metadata": {},
   "source": [
    "### **4. Simultaneous fit**\n",
    "\n",
    "- Built the simultaneous loss function.\n",
    "- Run the simultaneous fit.\n",
    "- Print and plot the fit results."
   ]
  },
  {
   "cell_type": "code",
   "execution_count": 12,
   "metadata": {},
   "outputs": [
    {
     "name": "stderr",
     "output_type": "stream",
     "text": [
      "/srv/conda/envs/notebook/lib/python3.7/site-packages/zfit/core/loss.py:100: UserWarning: The fit_range argument is depreceated and will maybe removed in future releases. It is preferred to define the range in the space when creating the data and the model.\n",
      "  warnings.warn(\"The fit_range argument is depreceated and will maybe removed in future releases. \"\n"
     ]
    },
    {
     "name": "stdout",
     "output_type": "stream",
     "text": [
      "------------------------------------------------------------------\n",
      "| FCN = -2.225E+04              |    Ncalls=1825 (1825 total)    |\n",
      "| EDM = 0.000735 (Goal: 5E-05)  |            up = 0.5            |\n",
      "------------------------------------------------------------------\n",
      "|  Valid Min.   | Valid Param.  | Above EDM | Reached call limit |\n",
      "------------------------------------------------------------------\n",
      "|     True      |     True      |   False   |       False        |\n",
      "------------------------------------------------------------------\n",
      "| Hesse failed  |   Has cov.    | Accurate  | Pos. def. | Forced |\n",
      "------------------------------------------------------------------\n",
      "|     False     |     True      |   True    |   True    | False  |\n",
      "------------------------------------------------------------------\n"
     ]
    }
   ],
   "source": [
    "# Constraints could also be added to the loss, we don't have a good use-case here, so we leave them away.\n",
    "# They usually resemble other measurements of a parameter with an uncertainty in the same order of\n",
    "# magnitude as the sensitivity of our fit. Too strong constraint parameters can be though of as constants,\n",
    "# too loose do not add anything.\n",
    "# constraint = zfit.constraint.GaussianConstraint(mu, observation=5279, uncertainty=50)\n",
    "# ext_reso_nll = zfit.loss.ExtendedUnbinnedNLL(model_reso, reso_data, constraints=constraint)\n",
    "\n",
    "ext_reso_nll = zfit.loss.ExtendedUnbinnedNLL(model_reso, reso_data)\n",
    "\n",
    "# to create a simultaneous loss, the individual losses are added\n",
    "simultaneous_loss = ext_reso_nll + ext_rare_nll\n",
    "\n",
    "result_simult = minimizer.minimize(simultaneous_loss)"
   ]
  },
  {
   "cell_type": "code",
   "execution_count": 13,
   "metadata": {},
   "outputs": [
    {
     "data": {
      "image/png": "[encoded data removed]",
      "text/plain": [
       "<Figure size 432x288 with 1 Axes>"
      ]
     },
     "metadata": {
      "needs_background": "light"
     },
     "output_type": "display_data"
    },
    {
     "data": {
      "image/png": "[encoded data removed]",
      "text/plain": [
       "<Figure size 432x288 with 1 Axes>"
      ]
     },
     "metadata": {
      "needs_background": "light"
     },
     "output_type": "display_data"
    },
    {
     "name": "stdout",
     "output_type": "stream",
     "text": [
      "OrderedDict([(<zfit.Parameter 'mu' floating=True value=5280>,\n",
      "              MError(name='mu', is_valid=False, lower=-0.250241011916965, upper=3.09258350813343, lower_valid=True, upper_valid=False, at_lower_limit=False, at_upper_limit=False, at_lower_max_fcn=False, at_upper_max_fcn=False, lower_new_min=False, upper_new_min=False, nfcn=3569, min=5279.912325268547)),\n",
      "             (<zfit.Parameter 'rare_sig_yield' floating=True value=118.5>,\n",
      "              MError(name='rare_sig_yield', is_valid=True, lower=-24.93018863894388, upper=25.733852467449573, lower_valid=True, upper_valid=True, at_lower_limit=False, at_upper_limit=False, at_lower_max_fcn=False, at_upper_max_fcn=False, lower_new_min=False, upper_new_min=False, nfcn=917, min=119.38883784954703)),\n",
      "             (<zfit.Parameter 'reso_sig_yield' floating=True value=4039>,\n",
      "              MError(name='reso_sig_yield', is_valid=False, lower=-1754.8739740205942, upper=1754.8739740205942, lower_valid=False, upper_valid=False, at_lower_limit=False, at_upper_limit=False, at_lower_max_fcn=False, at_upper_max_fcn=False, lower_new_min=False, upper_new_min=False, nfcn=6449, min=4010.21541129985))])\n"
     ]
    }
   ],
   "source": [
    "plot_pdf_data(data=rare_data, model=model_rare, title='$B^0 -> K^{*} (-> K^+ \\pi^-) \\mu^+ \\mu^-$')\n",
    "plot_pdf_data(data=reso_data, model=model_reso, title='$B^0 -> K^{*} (-> K^+ \\pi^-) J/\\psi (-> \\mu^+ \\mu^-)$')\n",
    "plt.show()\n",
    "\n",
    "# Hesse is not yet supported with weights\n",
    "# result_simult.hesse()  # error calculation using hesse\n",
    "errors = result_simult.error([mu, rare_sig_yield, reso_sig_yield])  # error calculation using minos, just for a few\n",
    "# parameters as it is quite expensive\n",
    "pprint(errors)"
   ]
  },
  {
   "cell_type": "markdown",
   "metadata": {},
   "source": [
    "### **5. Wrapping up - determination of the signal significance**\n",
    "\n",
    "Going beyond the fits one is often interested in obtaining limits or calculate signal significances.\n",
    "These statistical procedures usually perform multiple fits with certain parameters fixed.\n",
    "\n",
    "For this purpose, the `bhepstats` library can be used. It is built on top of the same interface that `zfit`\n",
    "uses and therefore integrates well together. Models built and fits done in `zfit` will direclty work with `hepstats`."
   ]
  },
  {
   "cell_type": "code",
   "execution_count": 14,
   "metadata": {},
   "outputs": [
    {
     "name": "stdout",
     "output_type": "stream",
     "text": [
      "Get fit best values!\n",
      "------------------------------------------------------------------\n",
      "| FCN = -2.225E+04              |     Ncalls=251 (251 total)     |\n",
      "| EDM = 1.07E-05 (Goal: 5E-05)  |            up = 0.5            |\n",
      "------------------------------------------------------------------\n",
      "|  Valid Min.   | Valid Param.  | Above EDM | Reached call limit |\n",
      "------------------------------------------------------------------\n",
      "|     True      |     True      |   False   |       False        |\n",
      "------------------------------------------------------------------\n",
      "| Hesse failed  |   Has cov.    | Accurate  | Pos. def. | Forced |\n",
      "------------------------------------------------------------------\n",
      "|     False     |     True      |   True    |   True    | False  |\n",
      "------------------------------------------------------------------\n",
      "\n",
      "p_value for the Null hypothesis = 2.151731048893879e-07\n",
      "Significance (in units of sigma) = 5.055019759917902\n",
      "pnull: 2.151731048893879e-07 with significance 5.055019759917902\n"
     ]
    }
   ],
   "source": [
    "# TODO: maybe expand on discoveries and p-values etc? Not sure how it best fits into the overall\n",
    "# picture of the tutorial, you may have more on statistics somewhere else?\n",
    "\n",
    "# using hepstats\n",
    "from hepstats.hypotests import Discovery\n",
    "from hepstats.hypotests.calculators import AsymptoticCalculator\n",
    "from hepstats.hypotests.parameters import POI\n",
    "\n",
    "calculator = AsymptoticCalculator(simultaneous_loss, minimizer)\n",
    "poinull = POI(rare_sig_yield, 0)\n",
    "discovery_test = Discovery(calculator, poinull)\n",
    "pnull, significance = discovery_test.result()\n",
    "print(f'pnull: {pnull} with significance {significance}')"
   ]
  }
 ],
 "metadata": {
  "kernelspec": {
   "display_name": "Python 3",
   "language": "python",
   "name": "python3"
  },
  "language_info": {
   "codemirror_mode": {
    "name": "ipython",
    "version": 3
   },
   "file_extension": ".py",
   "mimetype": "text/x-python",
   "name": "python",
   "nbconvert_exporter": "python",
   "pygments_lexer": "ipython3",
   "version": "3.7.7"
  }
 },
 "nbformat": 4,
 "nbformat_minor": 4
}
